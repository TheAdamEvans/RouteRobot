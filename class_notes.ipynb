{
 "cells": [
  {
   "cell_type": "code",
   "execution_count": 27,
   "metadata": {
    "collapsed": false
   },
   "outputs": [],
   "source": [
    "import traverser as tv\n",
    "import souper as sr\n",
    "import pandas as pd"
   ]
  },
  {
   "cell_type": "code",
   "execution_count": 28,
   "metadata": {
    "collapsed": true
   },
   "outputs": [],
   "source": [
    "ROUTE_DUMP = './america_data/route_info.txt'\n",
    "AREA_DUMP = './america_data/area_info.txt'"
   ]
  },
  {
   "cell_type": "code",
   "execution_count": 29,
   "metadata": {
    "collapsed": true
   },
   "outputs": [],
   "source": [
    "def read_info(fn):\n",
    "\n",
    "    # read the entire file into a python array\n",
    "    with open(fn, 'rb') as f:\n",
    "        data = f.readlines()\n",
    "\n",
    "    # remove the trailing \"\\n\" from each line\n",
    "    data = map(lambda x: x.rstrip(), data)\n",
    "\n",
    "    # each element of 'data' is an individual JSON object.\n",
    "    # have all the individual business JSON objects\n",
    "    data_json_str = \"[\" + ','.join(data) + \"]\"\n",
    "\n",
    "    # now, load it into pandas\n",
    "    data_df = pd.read_json(data_json_str)\n",
    "    \n",
    "    return(data_df)"
   ]
  },
  {
   "cell_type": "code",
   "execution_count": 30,
   "metadata": {
    "collapsed": false
   },
   "outputs": [],
   "source": [
    "d = read_info(ROUTE_DUMP) # takes 10 seconds\n",
    "# p = read_info(AREA_DUMP)\n",
    "# p.shape"
   ]
  },
  {
   "cell_type": "code",
   "execution_count": 31,
   "metadata": {
    "collapsed": false
   },
   "outputs": [
    {
     "data": {
      "text/plain": [
       "Index([   u'Description',             u'FA',  u'Getting There',\n",
       "             u'Location',           u'Name',     u'Page Views',\n",
       "           u'Protection',         u'Season',   u'Submitted By',\n",
       "                 u'Type', u'area_hierarchy',           u'href',\n",
       "          u'rateBritish',    u'rateEwbanks',       u'rateFont',\n",
       "           u'rateFrench',      u'rateHueco',       u'rateUIAA',\n",
       "              u'rateYDS',         u'rateZA',    u'staraverage',\n",
       "             u'starbest',      u'starvotes'],\n",
       "      dtype='object')"
      ]
     },
     "execution_count": 31,
     "metadata": {},
     "output_type": "execute_result"
    }
   ],
   "source": [
    "d.columns"
   ]
  },
  {
   "cell_type": "code",
   "execution_count": 32,
   "metadata": {
    "collapsed": false
   },
   "outputs": [],
   "source": [
    "def get_area(d, limit = None):\n",
    "    \n",
    "    hierarchy = d.iloc[:limit]['area_hierarchy']\n",
    "    \n",
    "    # iterate through route hierarchy records in the data\n",
    "    area = list()\n",
    "    for hier in hierarchy:\n",
    "        # exclude the root element 0\n",
    "        for potentially_new_area in hier[1:]:\n",
    "            area.append(potentially_new_area)\n",
    "\n",
    "    return list(set(area))"
   ]
  },
  {
   "cell_type": "code",
   "execution_count": 33,
   "metadata": {
    "collapsed": false
   },
   "outputs": [
    {
     "data": {
      "text/plain": [
       "26396"
      ]
     },
     "execution_count": 33,
     "metadata": {},
     "output_type": "execute_result"
    }
   ],
   "source": [
    "area = get_area(d)\n",
    "len(area)"
   ]
  },
  {
   "cell_type": "code",
   "execution_count": 34,
   "metadata": {
    "collapsed": false
   },
   "outputs": [
    {
     "data": {
      "text/plain": [
       "[u'/v/mount-harwood/108262233',\n",
       " u'/v/tralfamadore-buttress/109590763',\n",
       " u'/v/the-boulder-of-bloody-madness/105734489',\n",
       " u'/v/dc-memorial-boulder/105992253',\n",
       " u'/v/five-ten-wall/105851747']"
      ]
     },
     "execution_count": 34,
     "metadata": {},
     "output_type": "execute_result"
    }
   ],
   "source": [
    "area[:5]"
   ]
  },
  {
   "cell_type": "code",
   "execution_count": 7,
   "metadata": {
    "collapsed": true
   },
   "outputs": [],
   "source": [
    "import re\n",
    "from urllib2 import urlopen\n",
    "from bs4 import BeautifulSoup\n",
    "import souper as sr\n",
    "import json\n",
    "# import codecs"
   ]
  },
  {
   "cell_type": "code",
   "execution_count": 8,
   "metadata": {
    "collapsed": true
   },
   "outputs": [],
   "source": [
    "class Scraper(object):\n",
    "    \"\"\"\n",
    "    Scraper extracts information from mountain project page\n",
    "    Heavy use of BeautifulSoup to navigate html tree\n",
    "    Creates a Destination object\n",
    "    \"\"\"\n",
    "\n",
    "    def __init__(self, href):\n",
    "        self.href = href\n",
    "\n",
    "        try:\n",
    "            mp_page = urlopen('http://www.mountainproject.com' + href)\n",
    "        except:\n",
    "            print href + ' failed to load!!'\n",
    "            return None\n",
    "        else:\n",
    "            mp_html = mp_page.read()\n",
    "            self.soup = BeautifulSoup(mp_html) # , 'html.parser')\n",
    "\n",
    "    def get_child_href(self, dest_iter):\n",
    "    \n",
    "        href = []\n",
    "        for dest in dest_iter:\n",
    "            if len(dest.get_text()) > 0: # children are labeled with text\n",
    "                if dest.a != None: # sometimes <a> is within a <span>\n",
    "                    dest = dest.a\n",
    "                h = dest.get('href')\n",
    "                h = h.encode('utf-8', errors = 'ignore') # encoding is crucial\n",
    "                href.append(h)\n",
    "        \n",
    "        # only routes and areas have an href containing /v/\n",
    "        href = [h for h in href if '/v/' in h]\n",
    "        \n",
    "        return href\n",
    "\n",
    "    def get_children(self):\n",
    "\n",
    "        # every route and area page has this container\n",
    "        youContainer = self.soup.find(id=\"youContainer\")\n",
    "        root = youContainer == None\n",
    "\n",
    "        if root: # at /v/ or /destinations/\n",
    "            # get tags for the 50 states and International\n",
    "            dest_iter = self.soup.find_all('span', { 'class': \"destArea\" })\n",
    "\n",
    "            # pull out href key\n",
    "            children = self.get_child_href(dest_iter)\n",
    "\n",
    "            return children\n",
    "        else:\n",
    "            \n",
    "            is_route = re.search('You & This Route',youContainer.get_text()) != None\n",
    "            is_area = re.search('You & This Area',youContainer.get_text()) != None\n",
    "\n",
    "            if is_route:\n",
    "                return None\n",
    "            elif is_area:\n",
    "                # get div for any area or route\n",
    "                leftnavdiv = self.soup.find(id='viewerLeftNavColContent')\n",
    "                dest_iter = leftnavdiv.find_all('a')\n",
    "\n",
    "                # pull out href key\n",
    "                children = self.get_child_href(dest_iter)\n",
    "\n",
    "                return children\n",
    "\n",
    "    def create_destination(self):\n",
    "\n",
    "        # grab features from html\n",
    "        feature = sr.get_route_info(self.soup)\n",
    "        dest = Destination(self.href, feature)\n",
    "\n",
    "        # what type of destination is this?\n",
    "        youContainer = self.soup.find(id=\"youContainer\")\n",
    "        dest.is_area = re.search('You & This Area',youContainer.get_text()) != None\n",
    "        dest.is_route = re.search('You & This Route',youContainer.get_text()) != None\n",
    "\n",
    "        # more scraping is necessary for routes\n",
    "        if dest.is_route:\n",
    "            dest.grade = sr.get_grade(self.soup)\n",
    "            dest.protect_rate = sr.get_protect_rate(self.soup)\n",
    "            dest.star_rating = sr.get_star_rating(self.soup)\n",
    "\n",
    "        return dest"
   ]
  },
  {
   "cell_type": "code",
   "execution_count": 9,
   "metadata": {
    "collapsed": true
   },
   "outputs": [],
   "source": [
    "class Destination(object):\n",
    "\n",
    "    def __init__(self, href, feature):\n",
    "        self.href = href\n",
    "\n",
    "        # initialize self with dictionary of features\n",
    "        for n, feat in feature.items():\n",
    "            setattr(self, n, feat)\n",
    "\n",
    "    def update_feature():\n",
    "\n",
    "        # update self new dictionary\n",
    "        for n, feat in feature.items():\n",
    "            setattr(self, n, feat)\n",
    "        "
   ]
  },
  {
   "cell_type": "code",
   "execution_count": 10,
   "metadata": {
    "collapsed": false
   },
   "outputs": [
    {
     "data": {
      "text/plain": [
       "'{\"Submitted By\": \"Salamanizer on Feb 25, 2013\", \"is_area\": false, \"star_rating\": {\"starbest\": \"4\", \"starvotes\": \"3\", \"staraverage\": \"2.0\"}, \"Name\": \"Made in the Shade\", \"grade\": {}, \"rateFont\": \"6A\", \"protect_rate\": \"\", \"rateHueco\": \"V3\", \"is_route\": true, \"FA\": \"Aaron Rough\", \"href\": \"/v/made-in-the-shade/108015049\", \"Location\": \"On the North face of the lower Saddle Boulder just left of the obvious Y shaped crack.\", \"area_hierarchy\": [\"/destinations/\", \"/v/california/105708959\", \"/v/san-francisco-bay-area/105733851\", \"/v/wine-country/111499894\", \"/v/the-nut-tree-boulders/105734016\", \"/v/hillcrest-boulders/108012775\", \"/v/saddle-boulders/105734483\"], \"Page Views\": \"131\", \"Protection\": \"Pad\", \"Type\": \"Boulder\", \"children_href\": null, \"Description\": \"Sit start just left of the Y Crack and pull onto, then through the bulge created by the center(chockstone) of the Y.\"}'"
      ]
     },
     "execution_count": 10,
     "metadata": {},
     "output_type": "execute_result"
    }
   ],
   "source": [
    "root_href = '/v/made-in-the-shade/108015049'\n",
    "scrap = Scraper(root_href)\n",
    "dest = scrap.create_destination()\n",
    "dest.children_href = scrap.get_children()\n",
    "\n",
    "json.dumps(dest.__dict__)"
   ]
  },
  {
   "cell_type": "code",
   "execution_count": 11,
   "metadata": {
    "collapsed": false
   },
   "outputs": [],
   "source": [
    "# def traverse_routes(href, HREF_OUTFILE):\n",
    "\n",
    "#     children = get_children(href)\n",
    "\n",
    "#     for child in children:\n",
    "#         if get_children(child) != None:\n",
    "#             # recursively deeper into the rabbit hole\n",
    "#             traverse_routes(child, HREF_OUTFILE)\n",
    "#         else:\n",
    "#             with open(HREF_OUTFILE, 'a') as f:\n",
    "#                 f.write(child+'\\n')\n",
    "#                 print child\n",
    "\n",
    "#     return children\n",
    "\n",
    "# initialize root destination with children\n",
    "root_href = '/v/the-nut-tree-boulders/105734016'\n",
    "scrap = Scraper(root_href)\n",
    "dest = scrap.create_destination()\n",
    "dest.children_href = scrap.get_children()\n",
    "\n",
    "\n",
    "def traverse_routes(node):\n",
    "    children = []\n",
    "    for href in node.children_href:\n",
    "        scrap = Scraper(href)\n",
    "        dest = scrap.create_destination()\n",
    "        dest.children_href = scrap.get_children()\n",
    "        if dest.children_href != None:\n",
    "            traverse_routes(dest)\n",
    "        children.append(dest)\n",
    "    node.children = children\n",
    "    return node\n",
    "\n",
    "all_dest = traverse_routes(dest)"
   ]
  },
  {
   "cell_type": "code",
   "execution_count": 17,
   "metadata": {
    "collapsed": false
   },
   "outputs": [],
   "source": [
    "BIG_JSON = './mp_tree.json'\n",
    "with open(BIG_JSON, 'a') as dump:\n",
    "    flat = json.dumps(all_dest, default=lambda o: o.__dict__)\n",
    "    dump.write(flat)"
   ]
  },
  {
   "cell_type": "code",
   "execution_count": 72,
   "metadata": {
    "collapsed": false
   },
   "outputs": [],
   "source": [
    "# for c in all_dest.children:\n",
    "#     for gc in c.children:\n",
    "#         for ggc in gc.children:\n",
    "#             print ggc.Description[:10]"
   ]
  },
  {
   "cell_type": "code",
   "execution_count": 80,
   "metadata": {
    "collapsed": false
   },
   "outputs": [
    {
     "ename": "TypeError",
     "evalue": "<__main__.Destination object at 0x10afc2390> is not JSON serializable",
     "output_type": "error",
     "traceback": [
      "\u001b[0;31m---------------------------------------------------------------------------\u001b[0m",
      "\u001b[0;31mTypeError\u001b[0m                                 Traceback (most recent call last)",
      "\u001b[0;32m<ipython-input-80-41ad33973330>\u001b[0m in \u001b[0;36m<module>\u001b[0;34m()\u001b[0m\n\u001b[1;32m      3\u001b[0m \u001b[0;31m# with open(BIG_JSON, 'a') as dump:\u001b[0m\u001b[0;34m\u001b[0m\u001b[0;34m\u001b[0m\u001b[0m\n\u001b[1;32m      4\u001b[0m \u001b[0;31m#     dump.write(json.dumps(dest.__dict__))\u001b[0m\u001b[0;34m\u001b[0m\u001b[0;34m\u001b[0m\u001b[0m\n\u001b[0;32m----> 5\u001b[0;31m \u001b[0mjson\u001b[0m\u001b[0;34m.\u001b[0m\u001b[0mdumps\u001b[0m\u001b[0;34m(\u001b[0m\u001b[0mdest\u001b[0m\u001b[0;34m.\u001b[0m\u001b[0m__dict__\u001b[0m\u001b[0;34m)\u001b[0m\u001b[0;34m\u001b[0m\u001b[0m\n\u001b[0m\u001b[1;32m      6\u001b[0m \u001b[0;34m\u001b[0m\u001b[0m\n\u001b[1;32m      7\u001b[0m \u001b[0;32mdef\u001b[0m \u001b[0mprint_json\u001b[0m\u001b[0;34m(\u001b[0m\u001b[0mnode\u001b[0m\u001b[0;34m)\u001b[0m\u001b[0;34m:\u001b[0m\u001b[0;34m\u001b[0m\u001b[0m\n",
      "\u001b[0;32m/Users/adam.evans/anaconda/lib/python2.7/json/__init__.pyc\u001b[0m in \u001b[0;36mdumps\u001b[0;34m(obj, skipkeys, ensure_ascii, check_circular, allow_nan, cls, indent, separators, encoding, default, sort_keys, **kw)\u001b[0m\n\u001b[1;32m    241\u001b[0m         \u001b[0mcls\u001b[0m \u001b[0;32mis\u001b[0m \u001b[0mNone\u001b[0m \u001b[0;32mand\u001b[0m \u001b[0mindent\u001b[0m \u001b[0;32mis\u001b[0m \u001b[0mNone\u001b[0m \u001b[0;32mand\u001b[0m \u001b[0mseparators\u001b[0m \u001b[0;32mis\u001b[0m \u001b[0mNone\u001b[0m \u001b[0;32mand\u001b[0m\u001b[0;34m\u001b[0m\u001b[0m\n\u001b[1;32m    242\u001b[0m         encoding == 'utf-8' and default is None and not sort_keys and not kw):\n\u001b[0;32m--> 243\u001b[0;31m         \u001b[0;32mreturn\u001b[0m \u001b[0m_default_encoder\u001b[0m\u001b[0;34m.\u001b[0m\u001b[0mencode\u001b[0m\u001b[0;34m(\u001b[0m\u001b[0mobj\u001b[0m\u001b[0;34m)\u001b[0m\u001b[0;34m\u001b[0m\u001b[0m\n\u001b[0m\u001b[1;32m    244\u001b[0m     \u001b[0;32mif\u001b[0m \u001b[0mcls\u001b[0m \u001b[0;32mis\u001b[0m \u001b[0mNone\u001b[0m\u001b[0;34m:\u001b[0m\u001b[0;34m\u001b[0m\u001b[0m\n\u001b[1;32m    245\u001b[0m         \u001b[0mcls\u001b[0m \u001b[0;34m=\u001b[0m \u001b[0mJSONEncoder\u001b[0m\u001b[0;34m\u001b[0m\u001b[0m\n",
      "\u001b[0;32m/Users/adam.evans/anaconda/lib/python2.7/json/encoder.pyc\u001b[0m in \u001b[0;36mencode\u001b[0;34m(self, o)\u001b[0m\n\u001b[1;32m    205\u001b[0m         \u001b[0;31m# exceptions aren't as detailed.  The list call should be roughly\u001b[0m\u001b[0;34m\u001b[0m\u001b[0;34m\u001b[0m\u001b[0m\n\u001b[1;32m    206\u001b[0m         \u001b[0;31m# equivalent to the PySequence_Fast that ''.join() would do.\u001b[0m\u001b[0;34m\u001b[0m\u001b[0;34m\u001b[0m\u001b[0m\n\u001b[0;32m--> 207\u001b[0;31m         \u001b[0mchunks\u001b[0m \u001b[0;34m=\u001b[0m \u001b[0mself\u001b[0m\u001b[0;34m.\u001b[0m\u001b[0miterencode\u001b[0m\u001b[0;34m(\u001b[0m\u001b[0mo\u001b[0m\u001b[0;34m,\u001b[0m \u001b[0m_one_shot\u001b[0m\u001b[0;34m=\u001b[0m\u001b[0mTrue\u001b[0m\u001b[0;34m)\u001b[0m\u001b[0;34m\u001b[0m\u001b[0m\n\u001b[0m\u001b[1;32m    208\u001b[0m         \u001b[0;32mif\u001b[0m \u001b[0;32mnot\u001b[0m \u001b[0misinstance\u001b[0m\u001b[0;34m(\u001b[0m\u001b[0mchunks\u001b[0m\u001b[0;34m,\u001b[0m \u001b[0;34m(\u001b[0m\u001b[0mlist\u001b[0m\u001b[0;34m,\u001b[0m \u001b[0mtuple\u001b[0m\u001b[0;34m)\u001b[0m\u001b[0;34m)\u001b[0m\u001b[0;34m:\u001b[0m\u001b[0;34m\u001b[0m\u001b[0m\n\u001b[1;32m    209\u001b[0m             \u001b[0mchunks\u001b[0m \u001b[0;34m=\u001b[0m \u001b[0mlist\u001b[0m\u001b[0;34m(\u001b[0m\u001b[0mchunks\u001b[0m\u001b[0;34m)\u001b[0m\u001b[0;34m\u001b[0m\u001b[0m\n",
      "\u001b[0;32m/Users/adam.evans/anaconda/lib/python2.7/json/encoder.pyc\u001b[0m in \u001b[0;36miterencode\u001b[0;34m(self, o, _one_shot)\u001b[0m\n\u001b[1;32m    268\u001b[0m                 \u001b[0mself\u001b[0m\u001b[0;34m.\u001b[0m\u001b[0mkey_separator\u001b[0m\u001b[0;34m,\u001b[0m \u001b[0mself\u001b[0m\u001b[0;34m.\u001b[0m\u001b[0mitem_separator\u001b[0m\u001b[0;34m,\u001b[0m \u001b[0mself\u001b[0m\u001b[0;34m.\u001b[0m\u001b[0msort_keys\u001b[0m\u001b[0;34m,\u001b[0m\u001b[0;34m\u001b[0m\u001b[0m\n\u001b[1;32m    269\u001b[0m                 self.skipkeys, _one_shot)\n\u001b[0;32m--> 270\u001b[0;31m         \u001b[0;32mreturn\u001b[0m \u001b[0m_iterencode\u001b[0m\u001b[0;34m(\u001b[0m\u001b[0mo\u001b[0m\u001b[0;34m,\u001b[0m \u001b[0;36m0\u001b[0m\u001b[0;34m)\u001b[0m\u001b[0;34m\u001b[0m\u001b[0m\n\u001b[0m\u001b[1;32m    271\u001b[0m \u001b[0;34m\u001b[0m\u001b[0m\n\u001b[1;32m    272\u001b[0m def _make_iterencode(markers, _default, _encoder, _indent, _floatstr,\n",
      "\u001b[0;32m/Users/adam.evans/anaconda/lib/python2.7/json/encoder.pyc\u001b[0m in \u001b[0;36mdefault\u001b[0;34m(self, o)\u001b[0m\n\u001b[1;32m    182\u001b[0m \u001b[0;34m\u001b[0m\u001b[0m\n\u001b[1;32m    183\u001b[0m         \"\"\"\n\u001b[0;32m--> 184\u001b[0;31m         \u001b[0;32mraise\u001b[0m \u001b[0mTypeError\u001b[0m\u001b[0;34m(\u001b[0m\u001b[0mrepr\u001b[0m\u001b[0;34m(\u001b[0m\u001b[0mo\u001b[0m\u001b[0;34m)\u001b[0m \u001b[0;34m+\u001b[0m \u001b[0;34m\" is not JSON serializable\"\u001b[0m\u001b[0;34m)\u001b[0m\u001b[0;34m\u001b[0m\u001b[0m\n\u001b[0m\u001b[1;32m    185\u001b[0m \u001b[0;34m\u001b[0m\u001b[0m\n\u001b[1;32m    186\u001b[0m     \u001b[0;32mdef\u001b[0m \u001b[0mencode\u001b[0m\u001b[0;34m(\u001b[0m\u001b[0mself\u001b[0m\u001b[0;34m,\u001b[0m \u001b[0mo\u001b[0m\u001b[0;34m)\u001b[0m\u001b[0;34m:\u001b[0m\u001b[0;34m\u001b[0m\u001b[0m\n",
      "\u001b[0;31mTypeError\u001b[0m: <__main__.Destination object at 0x10afc2390> is not JSON serializable"
     ]
    }
   ],
   "source": [
    "# import json\n",
    "\n",
    "json.dumps(dest.__dict__)\n",
    "\n",
    "def print_json(node):\n",
    "    for child in node.children:\n",
    "        if node.children != None:\n",
    "            print_json(node)\n",
    "        else:\n",
    "            return()\n",
    "    return node.__dict__\n",
    "\n",
    "print_json(dest)"
   ]
  },
  {
   "cell_type": "code",
   "execution_count": 66,
   "metadata": {
    "collapsed": false
   },
   "outputs": [
    {
     "data": {
      "text/plain": [
       "True"
      ]
     },
     "execution_count": 66,
     "metadata": {},
     "output_type": "execute_result"
    }
   ],
   "source": [
    "dest.is_area"
   ]
  },
  {
   "cell_type": "code",
   "execution_count": 12,
   "metadata": {
    "collapsed": true
   },
   "outputs": [],
   "source": [
    "class Area(Destination):\n",
    "\n",
    "    climbable = False\n",
    "\n",
    "    def __init__(self, Destination):\n",
    "        self.children = get_children(self.href)\n",
    "\n",
    "    def localize(self, location):\n",
    "        self.location = location\n",
    "        # GPS_coord_re = re.compile(r'(/d+)[ ,]+(/d+)')\n",
    "\n",
    "    def add_description(self, description):\n",
    "        self.description = description"
   ]
  },
  {
   "cell_type": "code",
   "execution_count": 13,
   "metadata": {
    "collapsed": false
   },
   "outputs": [
    {
     "ename": "SyntaxError",
     "evalue": "'return' outside function (<ipython-input-13-c6ab975bb2ca>, line 16)",
     "output_type": "error",
     "traceback": [
      "\u001b[0;36m  File \u001b[0;32m\"<ipython-input-13-c6ab975bb2ca>\"\u001b[0;36m, line \u001b[0;32m16\u001b[0m\n\u001b[0;31m    return feature\u001b[0m\n\u001b[0;31mSyntaxError\u001b[0m\u001b[0;31m:\u001b[0m 'return' outside function\n"
     ]
    }
   ],
   "source": [
    "class Route(Area):\n",
    "\n",
    "    climbable = True\n",
    "    \n",
    "    def __init__(self):\n",
    "        self.children = None\n",
    "        \n",
    "#    def add_grade(self, grade):\n",
    "#        self.grade = grade\n",
    "#\n",
    "#    def add_protect_rate(self, protect_rate):\n",
    "#        self.protect_rate = protect_rate\n",
    "\n",
    "    self.star_rating = get_star_rating(Destination.soup)\n",
    "    \n",
    "    return feature"
   ]
  },
  {
   "cell_type": "code",
   "execution_count": null,
   "metadata": {
    "collapsed": true
   },
   "outputs": [],
   "source": []
  },
  {
   "cell_type": "code",
   "execution_count": null,
   "metadata": {
    "collapsed": true
   },
   "outputs": [],
   "source": []
  },
  {
   "cell_type": "code",
   "execution_count": null,
   "metadata": {
    "collapsed": true
   },
   "outputs": [],
   "source": []
  },
  {
   "cell_type": "code",
   "execution_count": null,
   "metadata": {
    "collapsed": true
   },
   "outputs": [],
   "source": []
  },
  {
   "cell_type": "code",
   "execution_count": null,
   "metadata": {
    "collapsed": true
   },
   "outputs": [],
   "source": []
  },
  {
   "cell_type": "code",
   "execution_count": null,
   "metadata": {
    "collapsed": true
   },
   "outputs": [],
   "source": []
  }
 ],
 "metadata": {
  "kernelspec": {
   "display_name": "Python 2",
   "language": "python",
   "name": "python2"
  },
  "language_info": {
   "codemirror_mode": {
    "name": "ipython",
    "version": 2
   },
   "file_extension": ".py",
   "mimetype": "text/x-python",
   "name": "python",
   "nbconvert_exporter": "python",
   "pygments_lexer": "ipython2",
   "version": "2.7.10"
  }
 },
 "nbformat": 4,
 "nbformat_minor": 0
}
