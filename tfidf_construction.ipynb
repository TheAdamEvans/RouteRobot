{
 "cells": [
  {
   "cell_type": "code",
   "execution_count": 1,
   "metadata": {
    "collapsed": false
   },
   "outputs": [],
   "source": [
    "%matplotlib inline\n",
    "\n",
    "import matplotlib\n",
    "import matplotlib.pyplot as plt\n",
    "import numpy as np\n",
    "import pandas as pd"
   ]
  },
  {
   "cell_type": "code",
   "execution_count": 2,
   "metadata": {
    "collapsed": true
   },
   "outputs": [],
   "source": [
    "def read_info(fn):\n",
    "\n",
    "    # read the entire file into a python array\n",
    "    with open(fn, 'rb') as f:\n",
    "        data = f.readlines()\n",
    "\n",
    "    # remove the trailing \"\\n\" from each line\n",
    "    data = map(lambda x: x.rstrip(), data)\n",
    "\n",
    "    # each element of 'data' is an individual JSON object.\n",
    "    # have all the individual business JSON objects\n",
    "    data_json_str = \"[\" + ','.join(data) + \"]\"\n",
    "\n",
    "    # now, load it into pandas\n",
    "    data_df = pd.read_json(data_json_str)\n",
    "    data_df.columns = [x.lower() for x in data_df.columns]\n",
    "    \n",
    "    return data_df"
   ]
  },
  {
   "cell_type": "code",
   "execution_count": 3,
   "metadata": {
    "collapsed": true
   },
   "outputs": [],
   "source": [
    "DATA_DUMP = './data/info.txt'"
   ]
  },
  {
   "cell_type": "code",
   "execution_count": 4,
   "metadata": {
    "collapsed": true
   },
   "outputs": [],
   "source": [
    "# read in the json created by scrape.py\n",
    "d = read_info(DATA_DUMP)"
   ]
  },
  {
   "cell_type": "code",
   "execution_count": 5,
   "metadata": {
    "collapsed": true
   },
   "outputs": [],
   "source": [
    "# randomize the order of routes\n",
    "# not ideal but okay\n",
    "d = d.sample(frac=1)"
   ]
  },
  {
   "cell_type": "code",
   "execution_count": 6,
   "metadata": {
    "collapsed": false
   },
   "outputs": [],
   "source": [
    "# print route name column out to file\n",
    "# route name RNN can train on this\n",
    "# d['name'].to_csv('./data/route_name.txt', encoding = 'utf8', index = False)"
   ]
  },
  {
   "cell_type": "code",
   "execution_count": 7,
   "metadata": {
    "collapsed": false
   },
   "outputs": [],
   "source": [
    "# d['staraverage'].hist() # significant heaping\n",
    "# d['starptile'] = pd.Series(d['staraverage'].qcut(), index = d.index)\n",
    "# q = d.quantile(d['staraverage'])"
   ]
  },
  {
   "cell_type": "code",
   "execution_count": 8,
   "metadata": {
    "collapsed": false
   },
   "outputs": [],
   "source": [
    "def scale01(df):\n",
    "    df -= df.min()\n",
    "    df /= df.max()\n",
    "    return df\n",
    "\n",
    "d['starpct'] = scale01(d['staraverage'])\n",
    "# pd.concat([ d['staraverage'], scale01(d['staraverage']) ], axis = 1) # pct mapping"
   ]
  },
  {
   "cell_type": "code",
   "execution_count": 9,
   "metadata": {
    "collapsed": false
   },
   "outputs": [],
   "source": [
    "rating = d['rateyds'].unique()\n",
    "rating = np.sort(rating, kind = 'heapsort') # few unique values\n",
    "# print(rating)"
   ]
  },
  {
   "cell_type": "code",
   "execution_count": 10,
   "metadata": {
    "collapsed": false
   },
   "outputs": [
    {
     "data": {
      "text/html": [
       "<div>\n",
       "<table border=\"1\" class=\"dataframe\">\n",
       "  <thead>\n",
       "    <tr style=\"text-align: right;\">\n",
       "      <th></th>\n",
       "      <th>href</th>\n",
       "      <th>rateyds</th>\n",
       "      <th>ratebritish</th>\n",
       "      <th>rateuiaa</th>\n",
       "      <th>rateewbanks</th>\n",
       "      <th>rateza</th>\n",
       "      <th>ratefrench</th>\n",
       "    </tr>\n",
       "  </thead>\n",
       "  <tbody>\n",
       "    <tr>\n",
       "      <th>160</th>\n",
       "      <td>/v/north-gully-east/105794152</td>\n",
       "      <td>5.4</td>\n",
       "      <td>VD 3c</td>\n",
       "      <td>IV</td>\n",
       "      <td>12</td>\n",
       "      <td>10</td>\n",
       "      <td>4a</td>\n",
       "    </tr>\n",
       "    <tr>\n",
       "      <th>366</th>\n",
       "      <td>/v/the-trough/105861086</td>\n",
       "      <td>5.4</td>\n",
       "      <td>VD 3c</td>\n",
       "      <td>IV</td>\n",
       "      <td>12</td>\n",
       "      <td>10</td>\n",
       "      <td>4a</td>\n",
       "    </tr>\n",
       "    <tr>\n",
       "      <th>274</th>\n",
       "      <td>/v/east-lark/109288309</td>\n",
       "      <td>5.5</td>\n",
       "      <td>MS 4a</td>\n",
       "      <td>IV+</td>\n",
       "      <td>13</td>\n",
       "      <td>11</td>\n",
       "      <td>4b</td>\n",
       "    </tr>\n",
       "    <tr>\n",
       "      <th>246</th>\n",
       "      <td>/v/bye-gully/105788060</td>\n",
       "      <td>5.5</td>\n",
       "      <td>MS 4a</td>\n",
       "      <td>IV+</td>\n",
       "      <td>13</td>\n",
       "      <td>11</td>\n",
       "      <td>4b</td>\n",
       "    </tr>\n",
       "    <tr>\n",
       "      <th>287</th>\n",
       "      <td>/v/west-lark/105799966</td>\n",
       "      <td>5.5</td>\n",
       "      <td>MS 4a</td>\n",
       "      <td>IV+</td>\n",
       "      <td>13</td>\n",
       "      <td>11</td>\n",
       "      <td>4b</td>\n",
       "    </tr>\n",
       "  </tbody>\n",
       "</table>\n",
       "</div>"
      ],
      "text/plain": [
       "                              href rateyds ratebritish rateuiaa rateewbanks  \\\n",
       "160  /v/north-gully-east/105794152     5.4       VD 3c       IV          12   \n",
       "366        /v/the-trough/105861086     5.4       VD 3c       IV          12   \n",
       "274         /v/east-lark/109288309     5.5       MS 4a      IV+          13   \n",
       "246         /v/bye-gully/105788060     5.5       MS 4a      IV+          13   \n",
       "287         /v/west-lark/105799966     5.5       MS 4a      IV+          13   \n",
       "\n",
       "    rateza ratefrench  \n",
       "160     10         4a  \n",
       "366     10         4a  \n",
       "274     11         4b  \n",
       "246     11         4b  \n",
       "287     11         4b  "
      ]
     },
     "execution_count": 10,
     "metadata": {},
     "output_type": "execute_result"
    }
   ],
   "source": [
    "d.sort_values(['rateza'], inplace=True)\n",
    "d[['href','rateyds','ratebritish','rateuiaa','rateewbanks','rateza','ratefrench']].head()\n",
    "# the + - and protection rating are tricky\n",
    "# TODO parse this out"
   ]
  },
  {
   "cell_type": "code",
   "execution_count": 11,
   "metadata": {
    "collapsed": false
   },
   "outputs": [],
   "source": [
    "# d.plot(kind='scatter', x='staraverage', y='rateyds')"
   ]
  },
  {
   "cell_type": "code",
   "execution_count": 12,
   "metadata": {
    "collapsed": false
   },
   "outputs": [],
   "source": [
    "# vote_min = 20\n",
    "# d['starvotes'][d['starvotes'] >= vote_min].hist()\n",
    "# looks exponential"
   ]
  },
  {
   "cell_type": "code",
   "execution_count": null,
   "metadata": {
    "collapsed": true
   },
   "outputs": [],
   "source": [
    "# Author: Olivier Grisel <olivier.grisel@ensta.org>\n",
    "#         Lars Buitinck <L.J.Buitinck@uva.nl>\n",
    "#         Chyi-Kwei Yau <chyikwei.yau@gmail.com>\n",
    "# License: BSD 3 clause"
   ]
  },
  {
   "cell_type": "code",
   "execution_count": null,
   "metadata": {
    "collapsed": true
   },
   "outputs": [],
   "source": [
    "# from __future__ import print_function\n",
    "from time import time"
   ]
  },
  {
   "cell_type": "code",
   "execution_count": null,
   "metadata": {
    "collapsed": true
   },
   "outputs": [],
   "source": [
    "from sklearn.feature_extraction.text import TfidfVectorizer, CountVectorizer\n",
    "from sklearn.decomposition import NMF, LatentDirichletAllocation"
   ]
  },
  {
   "cell_type": "code",
   "execution_count": null,
   "metadata": {
    "collapsed": true
   },
   "outputs": [],
   "source": [
    "# hyperparameters\n",
    "n_topics = 8\n",
    "n_samples = 2000\n",
    "n_features = 1000\n",
    "n_top_words = 12"
   ]
  },
  {
   "cell_type": "code",
   "execution_count": null,
   "metadata": {
    "collapsed": true
   },
   "outputs": [],
   "source": [
    "def print_top_words(model, feature_names, n_top_words):\n",
    "    for topic_idx, topic in enumerate(model.components_):\n",
    "        print(\"Topic #%d:\" % topic_idx)\n",
    "        print(\" \".join([feature_names[i]\n",
    "                        for i in topic.argsort()[:-n_top_words - 1:-1]]))\n",
    "    print()"
   ]
  },
  {
   "cell_type": "code",
   "execution_count": 26,
   "metadata": {
    "collapsed": false
   },
   "outputs": [
    {
     "name": "stdout",
     "output_type": "stream",
     "text": [
      "Loading dataset...\n",
      "done in 0.026s.\n",
      "Extracting tf-idf features for NMF...\n",
      "done in 0.147s.\n",
      "Extracting tf features for LDA...\n",
      "done in 0.036s.\n"
     ]
    }
   ],
   "source": [
    "print(\"Loading dataset...\")\n",
    "t0 = time()\n",
    "d = read_info(DATA_DUMP)\n",
    "TXT_COLUMN_TO_ANALYZE = 'description'\n",
    "txt = d[TXT_COLUMN_TO_ANALYZE]\n",
    "data_samples = txt[pd.notnull(txt)].values.tolist()\n",
    "\n",
    "print(\"done in %0.3fs.\" % (time() - t0))\n",
    "\n",
    "# Use tf-idf features for NMF.\n",
    "print(\"Extracting tf-idf features for NMF...\")\n",
    "tfidf_vectorizer = TfidfVectorizer(max_df=0.95, min_df=1, #max_features=n_features,\n",
    "                                   stop_words='english', ngram_range = (1,2))\n",
    "t0 = time()\n",
    "tfidf = tfidf_vectorizer.fit_transform(data_samples)\n",
    "print(\"done in %0.3fs.\" % (time() - t0))\n",
    "\n",
    "# Use tf (raw term count) features for LDA.\n",
    "print(\"Extracting tf features for LDA...\")\n",
    "tf_vectorizer = CountVectorizer(max_df=0.95, min_df=1, max_features=n_features,\n",
    "                                stop_words='english')\n",
    "t0 = time()\n",
    "tf = tf_vectorizer.fit_transform(data_samples)\n",
    "print(\"done in %0.3fs.\" % (time() - t0))"
   ]
  },
  {
   "cell_type": "code",
   "execution_count": 28,
   "metadata": {
    "collapsed": false
   },
   "outputs": [
    {
     "data": {
      "text/plain": [
       "scipy.sparse.csr.csr_matrix"
      ]
     },
     "execution_count": 28,
     "metadata": {},
     "output_type": "execute_result"
    }
   ],
   "source": [
    "type(tfidf)"
   ]
  },
  {
   "cell_type": "code",
   "execution_count": 27,
   "metadata": {
    "collapsed": false
   },
   "outputs": [
    {
     "data": {
      "text/plain": [
       "(404, 13447)"
      ]
     },
     "execution_count": 27,
     "metadata": {},
     "output_type": "execute_result"
    }
   ],
   "source": [
    "tfidf.shape\n",
    "# 404 data samples\n",
    "# 2274 vocabulary"
   ]
  },
  {
   "cell_type": "code",
   "execution_count": 58,
   "metadata": {
    "collapsed": false
   },
   "outputs": [
    {
     "name": "stdout",
     "output_type": "stream",
     "text": [
      "(404, 11173)\n"
     ]
    },
    {
     "data": {
      "text/plain": [
       "0.20737429015989606"
      ]
     },
     "execution_count": 58,
     "metadata": {},
     "output_type": "execute_result"
    }
   ],
   "source": [
    "import scipy\n",
    "# max_features=n_features, ???? How many features are there??\n",
    "tfidf_vectorizer_1x1 = TfidfVectorizer(max_df=0.5, min_df=1, stop_words='english', ngram_range = (1,1))\n",
    "tfidf_1x1 = tfidf_vectorizer_1x1.fit_transform(data_samples)\n",
    "\n",
    "tfidf_vectorizer_2x2 = TfidfVectorizer(max_df=0.5, min_df=1, stop_words='english', ngram_range = (2,2))\n",
    "tfidf_2x2 = tfidf_vectorizer_2x2.fit_transform(data_samples)\n",
    "\n",
    "tfidf = tfidf_2x2 # / 10.\n",
    "print(tfidf.shape)\n",
    "scipy.sparse.csr_matrix.mean(sum(tfidf))"
   ]
  },
  {
   "cell_type": "code",
   "execution_count": 60,
   "metadata": {
    "collapsed": false
   },
   "outputs": [
    {
     "name": "stdout",
     "output_type": "stream",
     "text": [
      "(404, 11173)\n"
     ]
    },
    {
     "data": {
      "text/plain": [
       "1.4224469703750111"
      ]
     },
     "execution_count": 60,
     "metadata": {},
     "output_type": "execute_result"
    }
   ],
   "source": [
    "count_vectorizer_1x1 = CountVectorizer(max_df=0.5, min_df=1, stop_words='english', ngram_range = (1,1))\n",
    "count_1x1 = count_vectorizer_1x1.fit_transform(data_samples)\n",
    "\n",
    "count_vectorizer_2x2 = CountVectorizer(max_df=0.5, min_df=1, stop_words='english', ngram_range = (2,2))\n",
    "count_2x2 = count_vectorizer_2x2.fit_transform(data_samples)\n",
    "\n",
    "count = count_2x2\n",
    "print(count.shape)\n",
    "scipy.sparse.csr_matrix.mean(sum(count))"
   ]
  },
  {
   "cell_type": "code",
   "execution_count": 65,
   "metadata": {
    "collapsed": false
   },
   "outputs": [
    {
     "data": {
      "text/plain": [
       "[u'/v/california/105708959',\n",
       " u'/v/tahquitz--suicide-rocks/105788020',\n",
       " u'/v/the-others/109014094',\n",
       " u'/v/cloud-ripper-towers/109909589',\n",
       " u'/v/the-real-cloud-ripper-tower/110540219']"
      ]
     },
     "execution_count": 65,
     "metadata": {},
     "output_type": "execute_result"
    }
   ],
   "source": [
    "route = d.iloc[3]\n",
    "route.area_hierarchy[1:]"
   ]
  },
  {
   "cell_type": "code",
   "execution_count": null,
   "metadata": {
    "collapsed": true
   },
   "outputs": [],
   "source": []
  },
  {
   "cell_type": "code",
   "execution_count": null,
   "metadata": {
    "collapsed": true
   },
   "outputs": [],
   "source": []
  }
 ],
 "metadata": {
  "kernelspec": {
   "display_name": "Python 2",
   "language": "python",
   "name": "python2"
  },
  "language_info": {
   "codemirror_mode": {
    "name": "ipython",
    "version": 2
   },
   "file_extension": ".py",
   "mimetype": "text/x-python",
   "name": "python",
   "nbconvert_exporter": "python",
   "pygments_lexer": "ipython2",
   "version": "2.7.10"
  }
 },
 "nbformat": 4,
 "nbformat_minor": 0
}
