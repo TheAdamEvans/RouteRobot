{
 "cells": [
  {
   "cell_type": "code",
   "execution_count": 1,
   "metadata": {
    "collapsed": true
   },
   "outputs": [],
   "source": [
    "%matplotlib inline\n",
    "\n",
    "import matplotlib\n",
    "import matplotlib.pyplot as plt\n",
    "import pandas as pd"
   ]
  },
  {
   "cell_type": "code",
   "execution_count": 2,
   "metadata": {
    "collapsed": true
   },
   "outputs": [],
   "source": [
    "def read_info(fn):\n",
    "\n",
    "    # read the entire file into a python array\n",
    "    with open(fn, 'rb') as f:\n",
    "        data = f.readlines()\n",
    "\n",
    "    # remove the trailing \"\\n\" from each line\n",
    "    data = map(lambda x: x.rstrip(), data)\n",
    "\n",
    "    # each element of 'data' is an individual JSON object.\n",
    "    # have all the individual business JSON objects\n",
    "    data_json_str = \"[\" + ','.join(data) + \"]\"\n",
    "\n",
    "    # now, load it into pandas\n",
    "    data_df = pd.read_json(data_json_str)\n",
    "    data_df.columns = [x.lower() for x in data_df.columns]\n",
    "    \n",
    "    return data_df"
   ]
  },
  {
   "cell_type": "code",
   "execution_count": 3,
   "metadata": {
    "collapsed": true
   },
   "outputs": [],
   "source": [
    "DATA_DUMP = './info_large.txt'"
   ]
  },
  {
   "cell_type": "code",
   "execution_count": 4,
   "metadata": {
    "collapsed": true
   },
   "outputs": [],
   "source": [
    "# read in the json created by scrape.py\n",
    "d = read_info(DATA_DUMP)"
   ]
  },
  {
   "cell_type": "code",
   "execution_count": 5,
   "metadata": {
    "collapsed": true
   },
   "outputs": [],
   "source": [
    "# randomize the order of routes\n",
    "# not ideal but okay\n",
    "d = d.sample(frac=1)"
   ]
  },
  {
   "cell_type": "code",
   "execution_count": 6,
   "metadata": {
    "collapsed": false
   },
   "outputs": [],
   "source": [
    "# print route name column out to file\n",
    "# route name RNN can train on this\n",
    "# d['name'].to_csv('./data/route_name.txt', encoding = 'utf8', index = False)"
   ]
  },
  {
   "cell_type": "code",
   "execution_count": 7,
   "metadata": {
    "collapsed": false
   },
   "outputs": [
    {
     "data": {
      "text/html": [
       "<div>\n",
       "<table border=\"1\" class=\"dataframe\">\n",
       "  <thead>\n",
       "    <tr style=\"text-align: right;\">\n",
       "      <th></th>\n",
       "      <th>name</th>\n",
       "      <th>description</th>\n",
       "      <th>type</th>\n",
       "      <th>protection</th>\n",
       "      <th>rateyds</th>\n",
       "      <th>ratehueco</th>\n",
       "      <th>page views</th>\n",
       "      <th>starvotes</th>\n",
       "      <th>staraverage</th>\n",
       "    </tr>\n",
       "  </thead>\n",
       "  <tbody>\n",
       "    <tr>\n",
       "      <th>64806</th>\n",
       "      <td>Minas Tirith</td>\n",
       "      <td>NaN</td>\n",
       "      <td>TR, 1 pitch, 70'</td>\n",
       "      <td>NaN</td>\n",
       "      <td>5.11b</td>\n",
       "      <td>NaN</td>\n",
       "      <td>224</td>\n",
       "      <td>1</td>\n",
       "      <td>2.0</td>\n",
       "    </tr>\n",
       "    <tr>\n",
       "      <th>26164</th>\n",
       "      <td>Wanted Man</td>\n",
       "      <td>Fun and varied climbing.  The start can go one...</td>\n",
       "      <td>Trad, 2 pitches, 175'</td>\n",
       "      <td>Standard rack to 3\"</td>\n",
       "      <td>5.9+</td>\n",
       "      <td>NaN</td>\n",
       "      <td>12</td>\n",
       "      <td>3</td>\n",
       "      <td>2.7</td>\n",
       "    </tr>\n",
       "    <tr>\n",
       "      <th>67208</th>\n",
       "      <td>Triple Word</td>\n",
       "      <td>crux after pulling steep section</td>\n",
       "      <td>Sport, 1 pitch, 60'</td>\n",
       "      <td>draws</td>\n",
       "      <td>5.11a</td>\n",
       "      <td>NaN</td>\n",
       "      <td>7</td>\n",
       "      <td>2</td>\n",
       "      <td>1.5</td>\n",
       "    </tr>\n",
       "    <tr>\n",
       "      <th>33612</th>\n",
       "      <td>Case of the Fags</td>\n",
       "      <td>Start in the obvious dihedral for 15 feet to a...</td>\n",
       "      <td>Trad, 1 pitch, 65'</td>\n",
       "      <td>The bottom corner is two inches.  The wide sec...</td>\n",
       "      <td>5.11+</td>\n",
       "      <td>NaN</td>\n",
       "      <td>1,400</td>\n",
       "      <td>2</td>\n",
       "      <td>1.5</td>\n",
       "    </tr>\n",
       "    <tr>\n",
       "      <th>53957</th>\n",
       "      <td>Project</td>\n",
       "      <td>Route D: An extended finish to A and also a st...</td>\n",
       "      <td>Boulder</td>\n",
       "      <td>Pads</td>\n",
       "      <td>NaN</td>\n",
       "      <td>V-easy</td>\n",
       "      <td>41</td>\n",
       "      <td>1</td>\n",
       "      <td>3.0</td>\n",
       "    </tr>\n",
       "    <tr>\n",
       "      <th>79242</th>\n",
       "      <td>Grey Face</td>\n",
       "      <td>P1 - Climb up the crack (crux ?)  and continue...</td>\n",
       "      <td>Trad, 2 pitches, 200'</td>\n",
       "      <td>Normal rack</td>\n",
       "      <td>5.5</td>\n",
       "      <td>NaN</td>\n",
       "      <td>32</td>\n",
       "      <td>2</td>\n",
       "      <td>3.0</td>\n",
       "    </tr>\n",
       "    <tr>\n",
       "      <th>7093</th>\n",
       "      <td>Give It a Burl</td>\n",
       "      <td>crux is between 1st and 2nd clip on good two p...</td>\n",
       "      <td>Sport, 40'</td>\n",
       "      <td>rap anchors and bolts</td>\n",
       "      <td>5.10</td>\n",
       "      <td>NaN</td>\n",
       "      <td>277</td>\n",
       "      <td>2</td>\n",
       "      <td>1.5</td>\n",
       "    </tr>\n",
       "    <tr>\n",
       "      <th>17507</th>\n",
       "      <td>Jumping Jehosephat</td>\n",
       "      <td>Follow the direction to reach the Locomotion R...</td>\n",
       "      <td>Trad, 1 pitch, 40'</td>\n",
       "      <td>Mostly hand-sized. Carry a standard rack of ca...</td>\n",
       "      <td>5.7</td>\n",
       "      <td>NaN</td>\n",
       "      <td>1,868</td>\n",
       "      <td>78</td>\n",
       "      <td>1.7</td>\n",
       "    </tr>\n",
       "    <tr>\n",
       "      <th>18390</th>\n",
       "      <td>Hammer and Anvil</td>\n",
       "      <td>Low-angle face past a bolt gains a short crack...</td>\n",
       "      <td>Trad, 1 pitch, 30'</td>\n",
       "      <td>1 bolt (1/2\"), gear to 2\", bolted anchor/rap</td>\n",
       "      <td>5.4</td>\n",
       "      <td>NaN</td>\n",
       "      <td>165</td>\n",
       "      <td>1</td>\n",
       "      <td>1.0</td>\n",
       "    </tr>\n",
       "    <tr>\n",
       "      <th>38739</th>\n",
       "      <td>No Tomorrow</td>\n",
       "      <td>Start just right of Farts of Horsemen and asce...</td>\n",
       "      <td>Sport, 1 pitch</td>\n",
       "      <td>Ten or so draws and a rope.</td>\n",
       "      <td>5.12b</td>\n",
       "      <td>NaN</td>\n",
       "      <td>502</td>\n",
       "      <td>2</td>\n",
       "      <td>2.5</td>\n",
       "    </tr>\n",
       "  </tbody>\n",
       "</table>\n",
       "</div>"
      ],
      "text/plain": [
       "                     name                                        description  \\\n",
       "64806        Minas Tirith                                                NaN   \n",
       "26164          Wanted Man  Fun and varied climbing.  The start can go one...   \n",
       "67208         Triple Word                   crux after pulling steep section   \n",
       "33612    Case of the Fags  Start in the obvious dihedral for 15 feet to a...   \n",
       "53957             Project  Route D: An extended finish to A and also a st...   \n",
       "79242           Grey Face  P1 - Climb up the crack (crux ?)  and continue...   \n",
       "7093       Give It a Burl  crux is between 1st and 2nd clip on good two p...   \n",
       "17507  Jumping Jehosephat  Follow the direction to reach the Locomotion R...   \n",
       "18390    Hammer and Anvil  Low-angle face past a bolt gains a short crack...   \n",
       "38739         No Tomorrow  Start just right of Farts of Horsemen and asce...   \n",
       "\n",
       "                        type  \\\n",
       "64806       TR, 1 pitch, 70'   \n",
       "26164  Trad, 2 pitches, 175'   \n",
       "67208    Sport, 1 pitch, 60'   \n",
       "33612     Trad, 1 pitch, 65'   \n",
       "53957                Boulder   \n",
       "79242  Trad, 2 pitches, 200'   \n",
       "7093              Sport, 40'   \n",
       "17507     Trad, 1 pitch, 40'   \n",
       "18390     Trad, 1 pitch, 30'   \n",
       "38739         Sport, 1 pitch   \n",
       "\n",
       "                                              protection rateyds ratehueco  \\\n",
       "64806                                                NaN   5.11b       NaN   \n",
       "26164                                Standard rack to 3\"    5.9+       NaN   \n",
       "67208                                              draws   5.11a       NaN   \n",
       "33612  The bottom corner is two inches.  The wide sec...   5.11+       NaN   \n",
       "53957                                               Pads     NaN    V-easy   \n",
       "79242                                        Normal rack     5.5       NaN   \n",
       "7093                               rap anchors and bolts    5.10       NaN   \n",
       "17507  Mostly hand-sized. Carry a standard rack of ca...     5.7       NaN   \n",
       "18390       1 bolt (1/2\"), gear to 2\", bolted anchor/rap     5.4       NaN   \n",
       "38739                        Ten or so draws and a rope.   5.12b       NaN   \n",
       "\n",
       "      page views  starvotes  staraverage  \n",
       "64806        224          1          2.0  \n",
       "26164         12          3          2.7  \n",
       "67208          7          2          1.5  \n",
       "33612      1,400          2          1.5  \n",
       "53957         41          1          3.0  \n",
       "79242         32          2          3.0  \n",
       "7093         277          2          1.5  \n",
       "17507      1,868         78          1.7  \n",
       "18390        165          1          1.0  \n",
       "38739        502          2          2.5  "
      ]
     },
     "execution_count": 7,
     "metadata": {},
     "output_type": "execute_result"
    }
   ],
   "source": [
    "col = ['name' ,'description', 'type', 'protection',\n",
    "       'rateyds', 'ratehueco',\n",
    "       'page views', 'starvotes', 'staraverage']\n",
    "d[col].head(10)"
   ]
  },
  {
   "cell_type": "code",
   "execution_count": 8,
   "metadata": {
    "collapsed": false
   },
   "outputs": [
    {
     "data": {
      "text/plain": [
       "<matplotlib.axes._subplots.AxesSubplot at 0x150c15d90>"
      ]
     },
     "execution_count": 8,
     "metadata": {},
     "output_type": "execute_result"
    },
    {
     "data": {
      "image/png": "[encoded data removed]",
      "text/plain": [
       "<matplotlib.figure.Figure at 0x150c15890>"
      ]
     },
     "metadata": {},
     "output_type": "display_data"
    }
   ],
   "source": [
    "d['staraverage'].hist() # significant heaping"
   ]
  },
  {
   "cell_type": "code",
   "execution_count": 10,
   "metadata": {
    "collapsed": false
   },
   "outputs": [
    {
     "data": {
      "text/plain": [
       "<matplotlib.axes._subplots.AxesSubplot at 0x108e6cd50>"
      ]
     },
     "execution_count": 10,
     "metadata": {},
     "output_type": "execute_result"
    },
    {
     "data": {
      "image/png": "[encoded data removed]",
      "text/plain": [
       "<matplotlib.figure.Figure at 0x109908290>"
      ]
     },
     "metadata": {},
     "output_type": "display_data"
    }
   ],
   "source": [
    "d.plot(kind='scatter', x='staraverage', y='starvotes')"
   ]
  }
 ],
 "metadata": {
  "kernelspec": {
   "display_name": "Python 2",
   "language": "python",
   "name": "python2"
  },
  "language_info": {
   "codemirror_mode": {
    "name": "ipython",
    "version": 2
   },
   "file_extension": ".py",
   "mimetype": "text/x-python",
   "name": "python",
   "nbconvert_exporter": "python",
   "pygments_lexer": "ipython2",
   "version": "2.7.10"
  }
 },
 "nbformat": 4,
 "nbformat_minor": 0
}
