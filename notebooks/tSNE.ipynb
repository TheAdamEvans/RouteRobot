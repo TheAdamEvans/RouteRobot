{
 "cells": [
  {
   "cell_type": "code",
   "execution_count": 1,
   "metadata": {
    "collapsed": false
   },
   "outputs": [],
   "source": [
    "%matplotlib inline\n",
    "import matplotlib.pyplot as plt"
   ]
  },
  {
   "cell_type": "code",
   "execution_count": 2,
   "metadata": {
    "collapsed": true
   },
   "outputs": [],
   "source": [
    "import pandas as pd\n",
    "import numpy as np\n",
    "from sklearn.feature_extraction.text import TfidfVectorizer"
   ]
  },
  {
   "cell_type": "code",
   "execution_count": 3,
   "metadata": {
    "collapsed": false
   },
   "outputs": [],
   "source": [
    "# test data contains only colorado and utah\n",
    "climb = pd.read_csv('climb.csv', index_col=0)"
   ]
  },
  {
   "cell_type": "code",
   "execution_count": 20,
   "metadata": {
    "collapsed": false
   },
   "outputs": [
    {
     "data": {
      "text/plain": [
       "'105708959'"
      ]
     },
     "execution_count": 20,
     "metadata": {},
     "output_type": "execute_result"
    }
   ],
   "source": [
    "a = ['105708959', '105733851', '111499894', '105734016', '108012805']\n",
    "a[0]"
   ]
  },
  {
   "cell_type": "code",
   "execution_count": 26,
   "metadata": {
    "collapsed": false
   },
   "outputs": [
    {
     "data": {
      "text/plain": [
       "['[', '[', '[', '[', '[', '[', '[', '[', '[', '[']"
      ]
     },
     "execution_count": 26,
     "metadata": {},
     "output_type": "execute_result"
    }
   ],
   "source": [
    "\n",
    "map(lambda a: a, climb['area_hierarchy'][:10])\n",
    "\n",
    "#np.where(climb[''])\n",
    "#map(len, climb['children_href'])"
   ]
  },
  {
   "cell_type": "code",
   "execution_count": null,
   "metadata": {
    "collapsed": true
   },
   "outputs": [],
   "source": []
  },
  {
   "cell_type": "code",
   "execution_count": null,
   "metadata": {
    "collapsed": true
   },
   "outputs": [],
   "source": []
  },
  {
   "cell_type": "code",
   "execution_count": null,
   "metadata": {
    "collapsed": true
   },
   "outputs": [],
   "source": []
  },
  {
   "cell_type": "code",
   "execution_count": 6,
   "metadata": {
    "collapsed": false
   },
   "outputs": [],
   "source": [
    "user_language_array = climb['description'].dropna().tolist()"
   ]
  },
  {
   "cell_type": "code",
   "execution_count": 73,
   "metadata": {
    "collapsed": true
   },
   "outputs": [],
   "source": [
    "tfidf = TfidfVectorizer(\n",
    "    min_df=0.01, max_df=0.1,\n",
    "    stop_words = 'english',\n",
    "    strip_accents = 'unicode', lowercase=True, ngram_range=(1,2),\n",
    "    norm='l2', smooth_idf=True, sublinear_tf=True, use_idf=True\n",
    ")"
   ]
  },
  {
   "cell_type": "code",
   "execution_count": 74,
   "metadata": {
    "collapsed": true
   },
   "outputs": [],
   "source": [
    "X = tfidf.fit_transform(user_language_array)"
   ]
  },
  {
   "cell_type": "code",
   "execution_count": 75,
   "metadata": {
    "collapsed": true
   },
   "outputs": [],
   "source": [
    "feature_names = tfidf.get_feature_names()"
   ]
  },
  {
   "cell_type": "code",
   "execution_count": 76,
   "metadata": {
    "collapsed": false
   },
   "outputs": [
    {
     "name": "stdout",
     "output_type": "stream",
     "text": [
      "There are 530 words in the vocabulary\n"
     ]
    }
   ],
   "source": [
    "print \"There are %d words in the vocabulary\" % len(feature_names)"
   ]
  },
  {
   "cell_type": "code",
   "execution_count": null,
   "metadata": {
    "collapsed": true
   },
   "outputs": [],
   "source": [
    "\n"
   ]
  },
  {
   "cell_type": "code",
   "execution_count": 77,
   "metadata": {
    "collapsed": false
   },
   "outputs": [],
   "source": [
    "def get_keyword(tfidf_matrix):\n",
    "    dense = tfidf_matrix.todense()\n",
    "    description_keyword = []\n",
    "    for i in range(dense.shape[0]):\n",
    "        episode = dense[i].tolist()[0]\n",
    "        phrase_scores = [pair for pair in zip(range(0, len(episode)), episode) if pair[1] > 0]\n",
    "        sorted_phrase_scores = sorted(phrase_scores, key=lambda t: t[1] * -1)\n",
    "        \n",
    "        keyword = []\n",
    "        for phrase, score in [(feature_names[word_id], score) for (word_id, score) in sorted_phrase_scores]:\n",
    "            keyword.append(phrase)\n",
    "        keyword_summary = \" \".join(keyword)\n",
    "        description_keyword.append(keyword_summary)\n",
    "        \n",
    "    return pd.Series(description_keyword)"
   ]
  },
  {
   "cell_type": "code",
   "execution_count": 80,
   "metadata": {
    "collapsed": false
   },
   "outputs": [],
   "source": [
    "c = get_keyword(X)"
   ]
  },
  {
   "cell_type": "code",
   "execution_count": 81,
   "metadata": {
    "collapsed": false
   },
   "outputs": [
    {
     "data": {
      "text/plain": [
       "[u'lower high section',\n",
       " u'ascent peak time day unique called valley real amazing mountain book climber descent ledges 12 excellent upper summit gear best high end',\n",
       " u'exposed summit narrow leading block peak end scramble ridge lies cross steep face 5th climbers bring exit point class huge getting final far main pretty couple difficult east classic low south base chimney continue',\n",
       " u'park granite quality',\n",
       " u'nice access granite canyon make pull like climbs',\n",
       " u'crimpy loose rock pulls loose nice little',\n",
       " u'avoid pillar grade',\n",
       " u'mountain located makes traversing provides doesn road higher summer lots trail fall place quite main near classic 10 nice long area',\n",
       " u'rocks problems trail head slopey bouldering trad leading boulders offers super directly loose going scramble solid climbs follow area',\n",
       " u'summer offers trail place moderate pull climbs',\n",
       " u'definitely tall fairly want harder pretty problem big',\n",
       " u'super warm solid problem',\n",
       " u'slopers super solid',\n",
       " u'slopey sloping used pulls edges',\n",
       " u'head named different fine smaller summer rocks shade water lots boulders offers somewhat directly located ground low hard nice traverse large long area',\n",
       " u'edge slopey sloping right hand interesting foot make big',\n",
       " u'crimp crimpy tall moving fairly located foot technical hands problem area',\n",
       " u'fairly super solid',\n",
       " u'right left ledges tree foot using',\n",
       " u'careful crimp getting middle arete large follow boulder']"
      ]
     },
     "execution_count": 81,
     "metadata": {},
     "output_type": "execute_result"
    }
   ],
   "source": [
    "c[:20]"
   ]
  },
  {
   "cell_type": "code",
   "execution_count": 126,
   "metadata": {
    "collapsed": false
   },
   "outputs": [],
   "source": [
    "# VOTE = 5\n",
    "# indices = np.where(climb['starvotes'] >= VOTE)[0]\n",
    "# X = X[indices,:]\n",
    "# print climb[indicies,:]"
   ]
  },
  {
   "cell_type": "code",
   "execution_count": 30,
   "metadata": {
    "collapsed": true
   },
   "outputs": [],
   "source": [
    "#D = -(X * X.T).todense() # Distance matrix: dot product between tfidf vectors\n",
    "D = -(X.T * X).todense() # DO IT FOR THE WORDS"
   ]
  },
  {
   "cell_type": "code",
   "execution_count": 31,
   "metadata": {
    "collapsed": false
   },
   "outputs": [
    {
     "data": {
      "text/plain": [
       "(530, 530)"
      ]
     },
     "execution_count": 31,
     "metadata": {},
     "output_type": "execute_result"
    }
   ],
   "source": [
    "D.shape"
   ]
  },
  {
   "cell_type": "code",
   "execution_count": 39,
   "metadata": {
    "collapsed": true
   },
   "outputs": [],
   "source": [
    "from sklearn.manifold import TSNE\n",
    "model = TSNE(n_components=2, random_state=0)\n",
    "pos = model.fit_transform(D)"
   ]
  },
  {
   "cell_type": "code",
   "execution_count": 40,
   "metadata": {
    "collapsed": false
   },
   "outputs": [],
   "source": [
    "# from sklearn.manifold import MDS\n",
    "# mds = MDS(n_components=2, metric=True, max_iter=100, eps=1e-7,\n",
    "#                     dissimilarity='precomputed', random_state=42, n_init=1)\n",
    "# pos = mds.fit_transform(D)"
   ]
  },
  {
   "cell_type": "code",
   "execution_count": 41,
   "metadata": {
    "collapsed": false
   },
   "outputs": [
    {
     "data": {
      "text/plain": [
       "<matplotlib.collections.PathCollection at 0x116e5a2d0>"
      ]
     },
     "execution_count": 41,
     "metadata": {},
     "output_type": "execute_result"
    },
    {
     "data": {
      "image/png": "[encoded data removed]",
      "text/plain": [
       "<matplotlib.figure.Figure at 0x111b092d0>"
      ]
     },
     "metadata": {},
     "output_type": "display_data"
    }
   ],
   "source": [
    "plt.scatter(pos[:, 0], pos[:, 1], s=20, c='g')"
   ]
  }
 ],
 "metadata": {
  "kernelspec": {
   "display_name": "Python 2",
   "language": "python",
   "name": "python2"
  },
  "language_info": {
   "codemirror_mode": {
    "name": "ipython",
    "version": 2
   },
   "file_extension": ".py",
   "mimetype": "text/x-python",
   "name": "python",
   "nbconvert_exporter": "python",
   "pygments_lexer": "ipython2",
   "version": "2.7.10"
  }
 },
 "nbformat": 4,
 "nbformat_minor": 0
}
