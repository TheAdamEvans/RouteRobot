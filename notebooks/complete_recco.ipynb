{
 "cells": [
  {
   "cell_type": "code",
   "execution_count": 1,
   "metadata": {
    "collapsed": true
   },
   "outputs": [],
   "source": [
    "%matplotlib inline"
   ]
  },
  {
   "cell_type": "code",
   "execution_count": 2,
   "metadata": {
    "collapsed": true
   },
   "outputs": [],
   "source": [
    "# import pickle\n",
    "import pandas as pd"
   ]
  },
  {
   "cell_type": "code",
   "execution_count": 3,
   "metadata": {
    "collapsed": true
   },
   "outputs": [],
   "source": [
    "from sklearn.metrics.pairwise import cosine_similarity\n",
    "from sklearn.pipeline import Pipeline\n",
    "from sklearn.feature_extraction.text import TfidfVectorizer\n",
    "from sklearn.decomposition import TruncatedSVD"
   ]
  },
  {
   "cell_type": "code",
   "execution_count": 4,
   "metadata": {
    "collapsed": true
   },
   "outputs": [],
   "source": [
    "from statsmodels.distributions.empirical_distribution import ECDF"
   ]
  },
  {
   "cell_type": "code",
   "execution_count": 5,
   "metadata": {
    "collapsed": true
   },
   "outputs": [],
   "source": [
    "import pandas as pd\n",
    "import numpy as np\n",
    "import re"
   ]
  },
  {
   "cell_type": "code",
   "execution_count": 6,
   "metadata": {
    "collapsed": true
   },
   "outputs": [],
   "source": [
    "import itertools"
   ]
  },
  {
   "cell_type": "code",
   "execution_count": 7,
   "metadata": {
    "collapsed": true
   },
   "outputs": [],
   "source": [
    "DATA_DIR = 'state_data/'"
   ]
  },
  {
   "cell_type": "code",
   "execution_count": 23,
   "metadata": {
    "collapsed": false
   },
   "outputs": [
    {
     "name": "stdout",
     "output_type": "stream",
     "text": [
      "Reading climb dataframe pickle from state_data/\n",
      "Shape of climb dataframe is (170232, 42)\n"
     ]
    }
   ],
   "source": [
    "print 'Reading climb dataframe pickle from ' + DATA_DIR\n",
    "climb = pd.read_csv(DATA_DIR + '_climb_no_children', index_col = 0)\n",
    "print \"Shape of climb dataframe is\", climb.shape"
   ]
  },
  {
   "cell_type": "code",
   "execution_count": 25,
   "metadata": {
    "collapsed": false
   },
   "outputs": [
    {
     "data": {
      "text/plain": [
       "True"
      ]
     },
     "execution_count": 25,
     "metadata": {},
     "output_type": "execute_result"
    }
   ],
   "source": [
    "href = '/v/pocket-rocket/106297965'\n",
    "# TODO check if href in climb\n",
    "href in climb.index"
   ]
  },
  {
   "cell_type": "code",
   "execution_count": 26,
   "metadata": {
    "collapsed": false
   },
   "outputs": [],
   "source": [
    "def scale01(feature):\n",
    "    # always use on an entire column\n",
    "    ecdf = ECDF(feature.dropna())\n",
    "    qtile = ecdf(feature)\n",
    "    scaled_feature = pd.Series(qtile, index=feature.index)\n",
    "    \n",
    "    # ECDF says NaN is 1.0\n",
    "    scaled_feature[scaled_feature == 1.0] = float('NaN')\n",
    "    \n",
    "    return scaled_feature"
   ]
  },
  {
   "cell_type": "code",
   "execution_count": 27,
   "metadata": {
    "collapsed": true
   },
   "outputs": [],
   "source": [
    "def convert_hueco(hueco, LEAST_DIFFICULT=float(0), FIRST_STEP=float(1)):\n",
    "    \"\"\" Takes string grade and converts it to a float \"\"\"\n",
    "\n",
    "    if not pd.isnull(hueco):\n",
    "        \n",
    "        # trim the prefix before the core grade\n",
    "        pre = 0\n",
    "        if re.search(r'^V', hueco):\n",
    "            pre = 1\n",
    "        elif re.search(r'^5\\.', hueco):\n",
    "            pre = 2\n",
    "        hueco = hueco[pre:]\n",
    "        \n",
    "        # some special easy cases\n",
    "        if hueco in ['-easy', '3rd', '4th', 'Easy 5th']:\n",
    "            # lower bound\n",
    "            hard = LEAST_DIFFICULT\n",
    "        else:\n",
    "            # V0 will be equal to this\n",
    "            hard = LEAST_DIFFICULT + FIRST_STEP\n",
    "            # factor in the +/- or abcd\n",
    "            hard += cast_grade(hueco)\n",
    "            \n",
    "        return hard"
   ]
  },
  {
   "cell_type": "code",
   "execution_count": 28,
   "metadata": {
    "collapsed": true
   },
   "outputs": [],
   "source": [
    "def cast_grade(hueco):\n",
    "    \"\"\" Deals with grades with endings like abcd and +/- \"\"\"\n",
    "    \n",
    "    # abcd grades YDS grades fall here\n",
    "    if re.search(r'[abcd]$', hueco):\n",
    "        pnt = float(hueco.strip('abcd/'))\n",
    "        adj = adj_from_letter(hueco)\n",
    "        rate = pnt + adj\n",
    "    \n",
    "    # anything ending in +/-\n",
    "    elif re.search(r'(\\+$)|(-$)', hueco):\n",
    "        pnt = float(hueco[:-1].strip())\n",
    "        # add/take a half a point off for plus minus\n",
    "        if hueco[-1] == '+':\n",
    "            rate = pnt + .5\n",
    "        else:\n",
    "            rate = pnt - .5\n",
    "    \n",
    "    # hueco ratings often have a range like V3-4\n",
    "    elif re.search(r'(\\d+)[- ]+(\\d+)', hueco):\n",
    "        # return the mean of range\n",
    "        lower = re.findall(r'\\d+', hueco)[0].strip()\n",
    "        upper = re.findall(r'\\d+', hueco)[1].strip()\n",
    "        rate = np.mean( [float(lower), float(upper)] )\n",
    "    \n",
    "    # if we can find any number cast as float ignoring sign\n",
    "    elif re.search(r'\\d+', hueco):\n",
    "        try:\n",
    "            core_rate = float(hueco.strip('+-/'))\n",
    "        except:\n",
    "            rate = None\n",
    "        else:\n",
    "            rate = core_rate\n",
    "    \n",
    "    # else nothing recognizable\n",
    "    else:\n",
    "        rate = None\n",
    "        \n",
    "    return rate"
   ]
  },
  {
   "cell_type": "code",
   "execution_count": 29,
   "metadata": {
    "collapsed": true
   },
   "outputs": [],
   "source": [
    "def adj_from_letter(grade):\n",
    "    letter_jumble = re.sub('[\\W\\d_]+', '', grade)\n",
    "    adj = []\n",
    "    for letter in letter_jumble:\n",
    "        if letter == 'a':\n",
    "            adj.append(-.5)\n",
    "        elif letter == 'b':\n",
    "            adj.append(-.25)\n",
    "        elif letter == 'c':\n",
    "            adj.append(+.25)\n",
    "        elif letter == 'd':\n",
    "            adj.append(+.5)\n",
    "            \n",
    "    # mean not sum beacuse b/c is easier than c\n",
    "    return np.mean(adj)"
   ]
  },
  {
   "cell_type": "code",
   "execution_count": 30,
   "metadata": {
    "collapsed": false
   },
   "outputs": [],
   "source": [
    "def combine_grade(climb):\n",
    "    \"\"\" Allows mixing of Bouldering and Sport/Trad routes \"\"\"\n",
    "    climb['floatHueco'] = map(convert_hueco, climb['rateHueco'])\n",
    "    climb['pctHueco'] = scale01(climb['floatHueco'])\n",
    "\n",
    "    climb['floatYDS'] = map(convert_hueco, climb['rateYDS'])\n",
    "    climb['pctYDS'] = scale01(climb['floatYDS'])\n",
    "\n",
    "    # might prefer the YDS-esque rating if there is one\n",
    "    # not many conflicting cases -- max is reasonable assuption\n",
    "    climb['gradeComb'] = climb[['pctHueco','pctYDS']].max(axis='columns')\n",
    "    \n",
    "    return climb['gradeComb']"
   ]
  },
  {
   "cell_type": "code",
   "execution_count": 31,
   "metadata": {
    "collapsed": true
   },
   "outputs": [],
   "source": [
    "# TODO graph cumsum percentile of climbing difficulty and YDS"
   ]
  },
  {
   "cell_type": "code",
   "execution_count": 32,
   "metadata": {
    "collapsed": false
   },
   "outputs": [],
   "source": [
    "def score(grade, ideal):\n",
    "    return 1 - abs(ideal - grade)"
   ]
  },
  {
   "cell_type": "code",
   "execution_count": 33,
   "metadata": {
    "collapsed": false
   },
   "outputs": [],
   "source": [
    "def castscale(feature_name, climb, href, diff = True):\n",
    "    casted = climb[feature_name].astype(float)\n",
    "    scaled = scale01(casted)\n",
    "    ideal = scaled.loc[href]\n",
    "    \n",
    "    if diff:\n",
    "        scored = map(score, scaled, itertools.repeat(ideal, len(casted)))\n",
    "        recco = pd.Series(scored, index=climb.index)\n",
    "    else:\n",
    "        recco = pd.Series(scaled, index=climb.index)\n",
    "    return recco"
   ]
  },
  {
   "cell_type": "code",
   "execution_count": 34,
   "metadata": {
    "collapsed": true
   },
   "outputs": [],
   "source": [
    "# preprocessing of grades\n",
    "climb['gradeComb'] = combine_grade(climb)"
   ]
  },
  {
   "cell_type": "code",
   "execution_count": 36,
   "metadata": {
    "collapsed": true
   },
   "outputs": [],
   "source": [
    "def combine_text(jess):\n",
    "        \n",
    "    # TODO do this with a map\n",
    "    txt_collect = []\n",
    "    for txt in ['description', 'other_text']:\n",
    "        if hasattr(jess, txt):\n",
    "            if not pd.isnull(jess[txt]):\n",
    "                txt_collect.append(jess[txt])\n",
    "\n",
    "    return \"\\n\".join(txt_collect)\n",
    "\n",
    "def get_total_climb_description(climb):\n",
    "    collect = []\n",
    "    for href, cmb in climb.iterrows():\n",
    "        cmbtxt = combine_text(cmb)\n",
    "        collect.append(cmbtxt)\n",
    "\n",
    "    print \"Preprocessed %d text segments\" % len(collect)\n",
    "\n",
    "    return collect"
   ]
  },
  {
   "cell_type": "code",
   "execution_count": 37,
   "metadata": {
    "collapsed": false
   },
   "outputs": [
    {
     "name": "stdout",
     "output_type": "stream",
     "text": [
      "Preprocessed 170232 text segments\n"
     ]
    }
   ],
   "source": [
    "descriptive = get_total_climb_description(climb)"
   ]
  },
  {
   "cell_type": "code",
   "execution_count": 38,
   "metadata": {
    "collapsed": false
   },
   "outputs": [],
   "source": [
    "tfidf = TfidfVectorizer(\n",
    "    decode_error='ignore', stop_words='english',\n",
    "    sublinear_tf=True, ngram_range=(1, 2))\n",
    "svd = TruncatedSVD(\n",
    "    n_components=100, random_state=42)"
   ]
  },
  {
   "cell_type": "code",
   "execution_count": 39,
   "metadata": {
    "collapsed": true
   },
   "outputs": [],
   "source": [
    "TFIDF = tfidf.fit_transform(descriptive)"
   ]
  },
  {
   "cell_type": "code",
   "execution_count": 40,
   "metadata": {
    "collapsed": false
   },
   "outputs": [],
   "source": [
    "shrunk = svd.fit_transform(TFIDF)"
   ]
  },
  {
   "cell_type": "code",
   "execution_count": 41,
   "metadata": {
    "collapsed": false
   },
   "outputs": [
    {
     "data": {
      "text/plain": [
       "(170232, 100)"
      ]
     },
     "execution_count": 41,
     "metadata": {},
     "output_type": "execute_result"
    }
   ],
   "source": [
    "shrunk.shape"
   ]
  },
  {
   "cell_type": "code",
   "execution_count": 42,
   "metadata": {
    "collapsed": false
   },
   "outputs": [],
   "source": [
    "pos = climb.index == href\n",
    "sim = cosine_similarity(shrunk[pos], shrunk)\n",
    "sim_score = pd.Series(sim[0], index=climb.index)"
   ]
  },
  {
   "cell_type": "code",
   "execution_count": 43,
   "metadata": {
    "collapsed": false
   },
   "outputs": [
    {
     "data": {
      "text/plain": [
       "<matplotlib.axes._subplots.AxesSubplot at 0x1130a1fd0>"
      ]
     },
     "execution_count": 43,
     "metadata": {},
     "output_type": "execute_result"
    },
    {
     "data": {
      "image/png": "[encoded data removed]",
      "text/plain": [
       "<matplotlib.figure.Figure at 0x1220d0690>"
      ]
     },
     "metadata": {},
     "output_type": "display_data"
    }
   ],
   "source": [
    "sim_score.hist()"
   ]
  },
  {
   "cell_type": "code",
   "execution_count": 44,
   "metadata": {
    "collapsed": true
   },
   "outputs": [],
   "source": [
    "def score_boolean(grade, ideal):\n",
    "    return grade * ideal"
   ]
  },
  {
   "cell_type": "code",
   "execution_count": 45,
   "metadata": {
    "collapsed": false
   },
   "outputs": [
    {
     "data": {
      "text/plain": [
       "Index([u'aid', u'alpine', u'area_hierarchy', u'boulder', u'children_href',\n",
       "       u'chipped', u'commitment', u'description', u'elevation', u'fa', u'feet',\n",
       "       u'getting_there', u'href', u'ice', u'is_area', u'is_route', u'location',\n",
       "       u'mixed', u'name', u'nickname', u'other_text', u'page_views',\n",
       "       u'pitches', u'protect_rate', u'protection', u'rateBritish',\n",
       "       u'rateEwbanks', u'rateFont', u'rateFrench', u'rateHueco', u'rateUIAA',\n",
       "       u'rateYDS', u'rateZA', u'season', u'sport', u'staraverage', u'starbest',\n",
       "       u'starvotes', u'submitted_by', u'tr', u'trad', u'type', u'floatHueco',\n",
       "       u'pctHueco', u'floatYDS', u'pctYDS', u'gradeComb'],\n",
       "      dtype='object')"
      ]
     },
     "execution_count": 45,
     "metadata": {},
     "output_type": "execute_result"
    }
   ],
   "source": [
    "climb.columns"
   ]
  },
  {
   "cell_type": "code",
   "execution_count": 46,
   "metadata": {
    "collapsed": false
   },
   "outputs": [],
   "source": [
    "def match_type(climb, href):\n",
    "    \"\"\" Give scores for climbs that match bouldering, sport, trad, etc.\"\"\"\n",
    "    \n",
    "    # these columns are True or NaN\n",
    "    type_of_route = { 'aid': 1, 'alpine': 1, 'boulder': 1, 'sport': 1, 'trad': 1 , 'ice': 1 }\n",
    "    \n",
    "    collect = []\n",
    "    for k, v in type_of_route.items():\n",
    "\n",
    "        # turn boolean into value of 1\n",
    "        scaled = pd.notnull(climb[k]).astype(int)\n",
    "        ideal = climb.loc[href][k]\n",
    "\n",
    "        # score destinations relative to ideal\n",
    "        scored = map(score_boolean, scaled, itertools.repeat(ideal, len(scaled)))\n",
    "        weighted = pd.Series(np.multiply(scored, v), index=climb.index)\n",
    "\n",
    "        collect.append(weighted)\n",
    "\n",
    "    # combine dimensions into one score\n",
    "    all_type_score = pd.concat(collect, axis = 1)\n",
    "    type_score = all_type_score.sum(axis='columns')\n",
    "    return type_score / max(type_score)"
   ]
  },
  {
   "cell_type": "code",
   "execution_count": 47,
   "metadata": {
    "collapsed": false
   },
   "outputs": [],
   "source": [
    "type_score = match_type(climb, href)"
   ]
  },
  {
   "cell_type": "code",
   "execution_count": 35,
   "metadata": {
    "collapsed": false
   },
   "outputs": [],
   "source": [
    "# score columns!\n",
    "height_score = castscale('feet', climb, href)\n",
    "grade_score = castscale('gradeComb', climb, href)\n",
    "star_score = castscale('staraverage', climb, href, False)\n",
    "vote_score = castscale('starvotes', climb, href, False)"
   ]
  },
  {
   "cell_type": "code",
   "execution_count": 52,
   "metadata": {
    "collapsed": false
   },
   "outputs": [],
   "source": [
    "# aggregate scores\n",
    "charlie = pd.DataFrame({\n",
    "        'height': height_score,\n",
    "        'grade': grade_score,\n",
    "        'stars': star_score,\n",
    "        'votes': vote_score,\n",
    "        'sim': sim_score,\n",
    "        'type': type_score\n",
    "    })\n",
    "\n",
    "# multiply weights\n",
    "charlie['sim'] = charlie['sim'] * 25\n",
    "charlie['grade'] = charlie['grade'] * 15\n",
    "charlie['height'] = charlie['height'] * 5\n",
    "charlie['stars'] = charlie['stars'] * 15\n",
    "charlie['votes'] = charlie['votes'] * 5\n",
    "charlie['type'] = charlie['type'] * 10\n",
    "\n",
    "\n",
    "charlie['best'] = charlie.sum(axis='columns')\n",
    "charlie.sort_values('best', ascending=False, inplace=True)\n"
   ]
  },
  {
   "cell_type": "code",
   "execution_count": 54,
   "metadata": {
    "collapsed": false
   },
   "outputs": [
    {
     "data": {
      "text/html": [
       "<div>\n",
       "<table border=\"1\" class=\"dataframe\">\n",
       "  <thead>\n",
       "    <tr style=\"text-align: right;\">\n",
       "      <th></th>\n",
       "      <th>name</th>\n",
       "      <th>rateYDS</th>\n",
       "      <th>rateHueco</th>\n",
       "      <th>staraverage</th>\n",
       "      <th>description</th>\n",
       "    </tr>\n",
       "  </thead>\n",
       "  <tbody>\n",
       "    <tr>\n",
       "      <th>/v/pocket-rocket/106297965</th>\n",
       "      <td>Pocket  Rocket</td>\n",
       "      <td>5.10c</td>\n",
       "      <td>NaN</td>\n",
       "      <td>3.3</td>\n",
       "      <td>The route starts with harder moves through an ...</td>\n",
       "    </tr>\n",
       "    <tr>\n",
       "      <th>/v/monsoon/107015696</th>\n",
       "      <td>Monsoon</td>\n",
       "      <td>5.10c</td>\n",
       "      <td>NaN</td>\n",
       "      <td>3.6</td>\n",
       "      <td>Bring the rain, bring the pain. This is anothe...</td>\n",
       "    </tr>\n",
       "    <tr>\n",
       "      <th>/v/k-6/105938903</th>\n",
       "      <td>K-6</td>\n",
       "      <td>5.11b</td>\n",
       "      <td>NaN</td>\n",
       "      <td>3.5</td>\n",
       "      <td>Another classic 11b up an intimidating overhan...</td>\n",
       "    </tr>\n",
       "    <tr>\n",
       "      <th>/v/king-kong/106099195</th>\n",
       "      <td>King Kong</td>\n",
       "      <td>5.11a</td>\n",
       "      <td>NaN</td>\n",
       "      <td>3.2</td>\n",
       "      <td>The route starts off with blocky climbing on b...</td>\n",
       "    </tr>\n",
       "    <tr>\n",
       "      <th>/v/sunshine-buttress/107127972</th>\n",
       "      <td>Sunshine Buttress</td>\n",
       "      <td>5.10a</td>\n",
       "      <td>NaN</td>\n",
       "      <td>3.2</td>\n",
       "      <td>This long route has some varied climbing and e...</td>\n",
       "    </tr>\n",
       "    <tr>\n",
       "      <th>/v/catacomb/106806898</th>\n",
       "      <td>Catacomb</td>\n",
       "      <td>5.10c</td>\n",
       "      <td>NaN</td>\n",
       "      <td>3.0</td>\n",
       "      <td>Right arcing route. Starts with tricky slab cl...</td>\n",
       "    </tr>\n",
       "    <tr>\n",
       "      <th>/v/store/107388644</th>\n",
       "      <td>Store</td>\n",
       "      <td>5.10c</td>\n",
       "      <td>NaN</td>\n",
       "      <td>3.7</td>\n",
       "      <td>Solid route for the grade. Start up near the a...</td>\n",
       "    </tr>\n",
       "    <tr>\n",
       "      <th>/v/alobeitor/107492711</th>\n",
       "      <td>Alobeitor</td>\n",
       "      <td>5.10-</td>\n",
       "      <td>NaN</td>\n",
       "      <td>3.2</td>\n",
       "      <td>A slightly overhyped route, but still good fun...</td>\n",
       "    </tr>\n",
       "    <tr>\n",
       "      <th>/v/international-distress/107191068</th>\n",
       "      <td>International Distress</td>\n",
       "      <td>5.11b</td>\n",
       "      <td>NaN</td>\n",
       "      <td>3.4</td>\n",
       "      <td>Perfect pockets, the quintessential Spearfish ...</td>\n",
       "    </tr>\n",
       "    <tr>\n",
       "      <th>/v/sadako/107714052</th>\n",
       "      <td>Sadako</td>\n",
       "      <td>5.11b</td>\n",
       "      <td>NaN</td>\n",
       "      <td>3.0</td>\n",
       "      <td>Excellent variety on this pumpfest! Flakes, cr...</td>\n",
       "    </tr>\n",
       "  </tbody>\n",
       "</table>\n",
       "</div>"
      ],
      "text/plain": [
       "                                                       name rateYDS rateHueco  \\\n",
       "/v/pocket-rocket/106297965                   Pocket  Rocket   5.10c       NaN   \n",
       "/v/monsoon/107015696                                Monsoon   5.10c       NaN   \n",
       "/v/k-6/105938903                                        K-6   5.11b       NaN   \n",
       "/v/king-kong/106099195                            King Kong   5.11a       NaN   \n",
       "/v/sunshine-buttress/107127972            Sunshine Buttress   5.10a       NaN   \n",
       "/v/catacomb/106806898                              Catacomb   5.10c       NaN   \n",
       "/v/store/107388644                                    Store   5.10c       NaN   \n",
       "/v/alobeitor/107492711                            Alobeitor   5.10-       NaN   \n",
       "/v/international-distress/107191068  International Distress   5.11b       NaN   \n",
       "/v/sadako/107714052                                  Sadako   5.11b       NaN   \n",
       "\n",
       "                                     staraverage  \\\n",
       "/v/pocket-rocket/106297965                   3.3   \n",
       "/v/monsoon/107015696                         3.6   \n",
       "/v/k-6/105938903                             3.5   \n",
       "/v/king-kong/106099195                       3.2   \n",
       "/v/sunshine-buttress/107127972               3.2   \n",
       "/v/catacomb/106806898                        3.0   \n",
       "/v/store/107388644                           3.7   \n",
       "/v/alobeitor/107492711                       3.2   \n",
       "/v/international-distress/107191068          3.4   \n",
       "/v/sadako/107714052                          3.0   \n",
       "\n",
       "                                                                           description  \n",
       "/v/pocket-rocket/106297965           The route starts with harder moves through an ...  \n",
       "/v/monsoon/107015696                 Bring the rain, bring the pain. This is anothe...  \n",
       "/v/k-6/105938903                     Another classic 11b up an intimidating overhan...  \n",
       "/v/king-kong/106099195               The route starts off with blocky climbing on b...  \n",
       "/v/sunshine-buttress/107127972       This long route has some varied climbing and e...  \n",
       "/v/catacomb/106806898                Right arcing route. Starts with tricky slab cl...  \n",
       "/v/store/107388644                   Solid route for the grade. Start up near the a...  \n",
       "/v/alobeitor/107492711               A slightly overhyped route, but still good fun...  \n",
       "/v/international-distress/107191068  Perfect pockets, the quintessential Spearfish ...  \n",
       "/v/sadako/107714052                  Excellent variety on this pumpfest! Flakes, cr...  "
      ]
     },
     "execution_count": 54,
     "metadata": {},
     "output_type": "execute_result"
    }
   ],
   "source": [
    "recco_href = charlie.index[:10]\n",
    "climb.loc[recco_href][['rateYDS','rateHueco','staraverage','votes','description']]"
   ]
  },
  {
   "cell_type": "code",
   "execution_count": null,
   "metadata": {
    "collapsed": true
   },
   "outputs": [],
   "source": []
  }
 ],
 "metadata": {
  "kernelspec": {
   "display_name": "Python 2",
   "language": "python",
   "name": "python2"
  },
  "language_info": {
   "codemirror_mode": {
    "name": "ipython",
    "version": 2
   },
   "file_extension": ".py",
   "mimetype": "text/x-python",
   "name": "python",
   "nbconvert_exporter": "python",
   "pygments_lexer": "ipython2",
   "version": "2.7.10"
  }
 },
 "nbformat": 4,
 "nbformat_minor": 0
}
