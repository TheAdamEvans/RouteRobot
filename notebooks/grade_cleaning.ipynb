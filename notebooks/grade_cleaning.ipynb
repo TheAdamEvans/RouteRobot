{
 "cells": [
  {
   "cell_type": "code",
   "execution_count": 1,
   "metadata": {
    "collapsed": false
   },
   "outputs": [],
   "source": [
    "%matplotlib inline"
   ]
  },
  {
   "cell_type": "code",
   "execution_count": 17,
   "metadata": {
    "collapsed": false
   },
   "outputs": [],
   "source": [
    "import pickle\n",
    "import pandas as pd\n",
    "import numpy as np\n",
    "import Destination as Destination"
   ]
  },
  {
   "cell_type": "code",
   "execution_count": 18,
   "metadata": {
    "collapsed": true
   },
   "outputs": [],
   "source": [
    "DATA_DIR = '../utah_data/'"
   ]
  },
  {
   "cell_type": "code",
   "execution_count": 19,
   "metadata": {
    "collapsed": false
   },
   "outputs": [
    {
     "name": "stdout",
     "output_type": "stream",
     "text": [
      "Reading climb dataframe pickle from ../utah_data/\n",
      "Shape of climb dataframe is (37001, 43)\n"
     ]
    }
   ],
   "source": [
    "print 'Reading climb dataframe pickle from ' + DATA_DIR\n",
    "climb = pd.read_pickle(DATA_DIR + '_climb_dataframe')\n",
    "print \"Shape of climb dataframe is\", climb.shape"
   ]
  },
  {
   "cell_type": "code",
   "execution_count": 21,
   "metadata": {
    "collapsed": false
   },
   "outputs": [
    {
     "data": {
      "text/plain": [
       "pandas.core.frame.DataFrame"
      ]
     },
     "execution_count": 21,
     "metadata": {},
     "output_type": "execute_result"
    }
   ],
   "source": [
    "type(climb)"
   ]
  },
  {
   "cell_type": "code",
   "execution_count": 22,
   "metadata": {
    "collapsed": false
   },
   "outputs": [
    {
     "data": {
      "text/plain": [
       "(37001, 8)"
      ]
     },
     "execution_count": 22,
     "metadata": {},
     "output_type": "execute_result"
    }
   ],
   "source": [
    "# isolate grade columns\n",
    "import re\n",
    "rate = [col for col in climb.columns if re.search(r'^rate', col)]\n",
    "grade = climb[rate]\n",
    "grade.shape"
   ]
  },
  {
   "cell_type": "code",
   "execution_count": 24,
   "metadata": {
    "collapsed": false
   },
   "outputs": [],
   "source": [
    "grade = grade.dropna(axis=0, how='all')"
   ]
  },
  {
   "cell_type": "code",
   "execution_count": 135,
   "metadata": {
    "collapsed": false
   },
   "outputs": [],
   "source": [
    "import numpy as np\n",
    "def convert_hueco(hueco, LEAST_DIFFICULT=float(0), FIRST_STEP=float(1)):\n",
    "    \"\"\" Takes string grade and converts it to a float \"\"\"\n",
    "\n",
    "    if not pd.isnull(hueco):\n",
    "        \n",
    "        # trim the prefix before the core grade\n",
    "        pre = 0\n",
    "        if re.search(r'^V', hueco):\n",
    "            pre = 1\n",
    "        elif re.search(r'^5\\.', hueco):\n",
    "            pre = 2\n",
    "        hueco = hueco[pre:]\n",
    "        \n",
    "        # some special easy cases\n",
    "        if hueco in ['-easy', '3rd', '4th', 'Easy 5th']:\n",
    "            # lower bound\n",
    "            hard = LEAST_DIFFICULT\n",
    "        else:\n",
    "            # V0 will be equal to this\n",
    "            hard = LEAST_DIFFICULT + FIRST_STEP\n",
    "            # factor in the +/- or abcd\n",
    "            hard += cast_grade(hueco)\n",
    "            \n",
    "        return hard"
   ]
  },
  {
   "cell_type": "code",
   "execution_count": 144,
   "metadata": {
    "collapsed": true
   },
   "outputs": [],
   "source": [
    "def cast_grade(hueco):\n",
    "    \"\"\" Deals with grades with endings like abcd and +/- \"\"\"\n",
    "    \n",
    "    # abcd grades YDS grades fall here\n",
    "    if re.search(r'[abcd]$', hueco):\n",
    "        pnt = float(hueco.strip('abcd/'))\n",
    "        adj = adj_from_letter(hueco)\n",
    "        rate = pnt + adj\n",
    "    \n",
    "    # anything ending in +/-\n",
    "    elif re.search(r'(\\+$)|(-$)', hueco):\n",
    "        pnt = float(hueco[:-1].strip())\n",
    "        # add/take a half a point off for plus minus\n",
    "        if hueco[-1] == '+':\n",
    "            rate = pnt + .5\n",
    "        else:\n",
    "            rate = pnt - .5\n",
    "    \n",
    "    # hueco ratings often have a range like V3-4\n",
    "    elif re.search(r'(\\d+)[- ]+(\\d+)', hueco):\n",
    "        # return the mean of range\n",
    "        lower = re.findall(r'\\d+', hueco)[0].strip()\n",
    "        upper = re.findall(r'\\d+', hueco)[1].strip()\n",
    "        rate = np.mean( [float(lower), float(upper)] )\n",
    "    \n",
    "    # if we can find any number cast as float ignoring sign\n",
    "    elif re.search(r'\\d+', hueco):\n",
    "        try:\n",
    "            core_rate = float(hueco.strip('+-/'))\n",
    "        except:\n",
    "            rate = None\n",
    "        else:\n",
    "            rate = core_rate\n",
    "    \n",
    "    # else nothing recognizable\n",
    "    else:\n",
    "        rate = None\n",
    "        \n",
    "    return rate"
   ]
  },
  {
   "cell_type": "code",
   "execution_count": 149,
   "metadata": {
    "collapsed": false
   },
   "outputs": [
    {
     "data": {
      "text/plain": [
       "0.5"
      ]
     },
     "execution_count": 149,
     "metadata": {},
     "output_type": "execute_result"
    }
   ],
   "source": [
    "convert_hueco('V0-')"
   ]
  },
  {
   "cell_type": "code",
   "execution_count": 150,
   "metadata": {
    "collapsed": true
   },
   "outputs": [],
   "source": [
    "def adj_from_letter(grade):\n",
    "    letter_jumble = re.sub('[\\W\\d_]+', '', grade)\n",
    "    adj = []\n",
    "    for letter in letter_jumble:\n",
    "        if letter == 'a':\n",
    "            adj.append(-.5)\n",
    "        elif letter == 'b':\n",
    "            adj.append(-.25)\n",
    "        elif letter == 'c':\n",
    "            adj.append(+.25)\n",
    "        elif letter == 'd':\n",
    "            adj.append(+.5)\n",
    "            \n",
    "    # mean not sum beacuse b/c is easier than c\n",
    "    return np.mean(adj)"
   ]
  },
  {
   "cell_type": "code",
   "execution_count": 151,
   "metadata": {
    "collapsed": false
   },
   "outputs": [
    {
     "data": {
      "text/plain": [
       "4.5"
      ]
     },
     "execution_count": 151,
     "metadata": {},
     "output_type": "execute_result"
    }
   ],
   "source": [
    "convert_hueco('V3-4')"
   ]
  },
  {
   "cell_type": "code",
   "execution_count": 152,
   "metadata": {
    "collapsed": false
   },
   "outputs": [
    {
     "data": {
      "text/plain": [
       "11.5"
      ]
     },
     "execution_count": 152,
     "metadata": {},
     "output_type": "execute_result"
    }
   ],
   "source": [
    "convert_hueco('10+')"
   ]
  },
  {
   "cell_type": "code",
   "execution_count": 156,
   "metadata": {
    "collapsed": false
   },
   "outputs": [
    {
     "data": {
      "text/plain": [
       "12.0"
      ]
     },
     "execution_count": 156,
     "metadata": {},
     "output_type": "execute_result"
    }
   ],
   "source": [
    "convert_hueco('11')"
   ]
  },
  {
   "cell_type": "code",
   "execution_count": 154,
   "metadata": {
    "collapsed": false
   },
   "outputs": [],
   "source": [
    "climb['floatHueco'] = map(convert_hueco, climb['rateHueco'])"
   ]
  },
  {
   "cell_type": "code",
   "execution_count": 155,
   "metadata": {
    "collapsed": false
   },
   "outputs": [
    {
     "data": {
      "text/plain": [
       "4.0"
      ]
     },
     "execution_count": 155,
     "metadata": {},
     "output_type": "execute_result"
    }
   ],
   "source": [
    "np.median(climb['floatHueco'].dropna())"
   ]
  },
  {
   "cell_type": "code",
   "execution_count": 145,
   "metadata": {
    "collapsed": false
   },
   "outputs": [],
   "source": [
    "def convert_ZA(ZA):\n",
    "    if not pd.isnull(ZA):\n",
    "        return float(ZA)\n",
    "# convert_lead(climb['floatZA'])"
   ]
  },
  {
   "cell_type": "code",
   "execution_count": 146,
   "metadata": {
    "collapsed": true
   },
   "outputs": [],
   "source": [
    "from statsmodels.distributions.empirical_distribution import ECDF\n",
    "def scale01(feature):\n",
    "    # use on an entire column\n",
    "    ecdf = ECDF(feature.dropna())\n",
    "    qtile = ecdf(feature)\n",
    "    qtile[qtile == 1.0] = float('NaN')\n",
    "    return qtile"
   ]
  },
  {
   "cell_type": "code",
   "execution_count": 147,
   "metadata": {
    "collapsed": false
   },
   "outputs": [],
   "source": [
    "climb['pctHueco'] = scale01(climb['floatHueco'])\n",
    "climb['pctZA'] = scale01(climb['floatZA'])"
   ]
  },
  {
   "cell_type": "code",
   "execution_count": 148,
   "metadata": {
    "collapsed": false
   },
   "outputs": [],
   "source": [
    "climb['gradeComb'] = climb[['pctHueco','pctZA']].mean(axis='columns')"
   ]
  },
  {
   "cell_type": "code",
   "execution_count": 149,
   "metadata": {
    "collapsed": false
   },
   "outputs": [],
   "source": [
    "# climb['gradeComb'].hist()"
   ]
  },
  {
   "cell_type": "code",
   "execution_count": 150,
   "metadata": {
    "collapsed": true
   },
   "outputs": [],
   "source": [
    "# IDEAL IS A BETA DISTRIBUTION FOR PRIOR"
   ]
  },
  {
   "cell_type": "code",
   "execution_count": 151,
   "metadata": {
    "collapsed": false
   },
   "outputs": [],
   "source": [
    "def score_climb_grade(grade, ideal_grade):\n",
    "    ABOVE_DECAY = 5\n",
    "    BELOW_DECAY = 2\n",
    "    if grade == ideal_grade:\n",
    "        return 1.0\n",
    "    elif grade > ideal_grade:\n",
    "        diff = grade - ideal_grade\n",
    "        return (1-diff) ** ABOVE_DECAY\n",
    "    else:\n",
    "        diff = ideal_grade - grade\n",
    "        return (1-diff) ** BELOW_DECAY\n",
    "\n",
    "# grade = np.array([.5,.7,.3,.6,.9])"
   ]
  },
  {
   "cell_type": "code",
   "execution_count": 165,
   "metadata": {
    "collapsed": false
   },
   "outputs": [
    {
     "data": {
      "text/plain": [
       "/v/beaver-boulder/108131427                          NaN\n",
       "/v/spider-man-/108131436                        0.421247\n",
       "/v/burr-trail--long-canyon/105973758                 NaN\n",
       "/v/58-corner/106448362                          0.493234\n",
       "/v/bastard-child/105973780                      0.509457\n",
       "/v/beam-bump/105973810                          0.304860\n",
       "/v/flipper-babies/105973765                     0.493234\n",
       "/v/longs-lies/105973794                         0.693831\n",
       "/v/capitol-reef-national-park/105716802              NaN\n",
       "/v/basketball-wallslickrock-divide/105968325         NaN\n",
       "Name: gradeComb, dtype: float64"
      ]
     },
     "execution_count": 165,
     "metadata": {},
     "output_type": "execute_result"
    }
   ],
   "source": [
    "sample = climb[:10]\n"
   ]
  },
  {
   "cell_type": "code",
   "execution_count": 142,
   "metadata": {
    "collapsed": true
   },
   "outputs": [],
   "source": [
    "from time import time"
   ]
  },
  {
   "cell_type": "code",
   "execution_count": 172,
   "metadata": {
    "collapsed": true
   },
   "outputs": [],
   "source": [
    "def grade_similarity(climb):\n",
    "    \n",
    "    collect = []\n",
    "    for ideal_grade in climb['gradeComb']:\n",
    "        scores = [score_climb_grade(g, ideal_grade) for g in climb['gradeComb']]\n",
    "        recco = pd.DataFrame({'recco':scores}, index=climb.index)\n",
    "        collect.append(recco)\n",
    "    grade_matrix = pd.concat(collect, axis='columns')\n",
    "    grade_matrix.columns = climb.index\n",
    "    return grade_matrix"
   ]
  },
  {
   "cell_type": "code",
   "execution_count": 173,
   "metadata": {
    "collapsed": false
   },
   "outputs": [
    {
     "name": "stdout",
     "output_type": "stream",
     "text": [
      "Generating grade similarity matrix\n",
      "Cross Grading 1000 records took 1 seconds\n"
     ]
    }
   ],
   "source": [
    "print 'Converting grades to float...'\n",
    "t0 = time()\n",
    "climb['floatHueco'] = map(convert_hueco, climb['rateHueco'])\n",
    "climb['pctHueco'] = scale01(climb['floatHueco'])\n",
    "\n",
    "climb['floatZA'] = map(convert_ZA, climb['rateZA'])\n",
    "climb['pctZA'] = scale01(climb['floatZA'])\n",
    "\n",
    "climb['gradeComb'] = climb[['pctHueco','pctZA']].mean(axis='columns')\n",
    "print 'took %0.2f seconds' % (time() - t0)\n",
    "\n",
    "print 'Generating grade similarity matrix...'\n",
    "t0 = time()\n",
    "grade_matrix = grade_similarity(climb)\n",
    "print 'took %d seconds' % (time() - t0)"
   ]
  },
  {
   "cell_type": "code",
   "execution_count": 175,
   "metadata": {
    "collapsed": false
   },
   "outputs": [
    {
     "name": "stdout",
     "output_type": "stream",
     "text": [
      "X is (1000, 1000) <class 'pandas.core.frame.DataFrame'>\n"
     ]
    }
   ],
   "source": [
    "grade_matrix.to_pickle('_grade_matrix')\n",
    "x = pd.read_pickle('_grade_matrix')\n",
    "\n",
    "print \"X is\", x.shape, type(x)"
   ]
  },
  {
   "cell_type": "code",
   "execution_count": null,
   "metadata": {
    "collapsed": true
   },
   "outputs": [],
   "source": []
  }
 ],
 "metadata": {
  "kernelspec": {
   "display_name": "Python 2",
   "language": "python",
   "name": "python2"
  },
  "language_info": {
   "codemirror_mode": {
    "name": "ipython",
    "version": 2
   },
   "file_extension": ".py",
   "mimetype": "text/x-python",
   "name": "python",
   "nbconvert_exporter": "python",
   "pygments_lexer": "ipython2",
   "version": "2.7.10"
  }
 },
 "nbformat": 4,
 "nbformat_minor": 0
}
