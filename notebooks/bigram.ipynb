{
 "cells": [
  {
   "cell_type": "code",
   "execution_count": 76,
   "metadata": {
    "collapsed": true
   },
   "outputs": [],
   "source": [
    "import pickle\n",
    "import pandas as pd"
   ]
  },
  {
   "cell_type": "code",
   "execution_count": 77,
   "metadata": {
    "collapsed": true
   },
   "outputs": [],
   "source": [
    "from save_better import combine_pickle"
   ]
  },
  {
   "cell_type": "code",
   "execution_count": 191,
   "metadata": {
    "collapsed": false
   },
   "outputs": [
    {
     "name": "stdout",
     "output_type": "stream",
     "text": [
      "Found 2 destinations in abrahamspire\n",
      "Found 3 destinations in absarokarange\n",
      "Found 967 destinations in alpinerock\n",
      "Found 1 destinations in bearrock\n",
      "Found 2 destinations in beaverboulder\n",
      "Found 1 destinations in boswellcreekshermangranitedome\n",
      "Found 4970 destinations in boulder\n",
      "Found 10 destinations in breckenridge\n",
      "Found 279 destinations in buenavista\n",
      "Found 6 destinations in burrtraillongcanyon\n",
      "Found 1008 destinations in canoncity\n",
      "Found 62 destinations in capitolreefnationalpark\n",
      "Found 255 destinations in carbondalearea\n",
      "Found 28 destinations in caspermountain\n",
      "Found 2 destinations in cataractlakeheeneycolorado\n",
      "Found 321 destinations in cedarcity\n",
      "Found 1749 destinations in centralcoast\n",
      "Found 4 destinations in centralparkboulderingarea\n",
      "Found 234 destinations in centralsierra\n",
      "Found 14 destinations in cloudpeakwildernessarea\n",
      "Found 21 destinations in coalcreekcanyon\n",
      "Found 247 destinations in cody\n",
      "Found 1145 destinations in coicemixed\n",
      "Found 601 destinations in coloradosprings\n",
      "Found 1 destinations in conversecountyparkboxeldercyn\n",
      "Found 5 destinations in copperridge\n",
      "Found 3 destinations in cottonwoodbeach\n",
      "Found 12 destinations in crazywomancrags\n",
      "Found 70 destinations in crestedbutte\n",
      "Found 512 destinations in denversouth\n",
      "Found 5 destinations in desolationcanyon\n",
      "Found 2 destinations in devilsgate\n",
      "Found 137 destinations in devilstower\n",
      "Found 39 destinations in dolorescanyon\n",
      "Found 5 destinations in doloresroadsideboulders\n",
      "Found 11 destinations in domerockpedromountains\n",
      "Found 4 destinations in downtowndenver\n",
      "Found 4 destinations in duchesne\n",
      "Found 58 destinations in dumontvicinity\n",
      "Found 762 destinations in durango\n",
      "Found 302 destinations in eaglevailminturnredcliff\n",
      "Found 95 destinations in echocanyon\n",
      "Found 8 destinations in eldora\n",
      "Found 3 destinations in elkheadmountains\n",
      "Found 87 destinations in empire\n",
      "Found 5 destinations in equinoxgardens\n",
      "Found 1480 destinations in estesparkvalley\n",
      "Found 12 destinations in fairplay\n",
      "Found 2 destinations in ferrismountains\n",
      "Found 42 destinations in fishlakenationalforest\n",
      "Found 13 destinations in flaminggorge\n",
      "Found 1091 destinations in fortcollins\n",
      "Found 83 destinations in fremontcanyon\n",
      "Found 12 destinations in fremontpass\n",
      "Found 4 destinations in friscoboulders\n",
      "Found 46 destinations in georgetown\n",
      "Found 6 destinations in gilestownsiteboulders\n",
      "Found 9 destinations in glencanyon\n",
      "Found 393 destinations in glenwoodsprings\n",
      "Found 1632 destinations in golden\n",
      "Found 21 destinations in grandcountyfraservalley\n",
      "Found 2732 destinations in grandjunctionarea\n",
      "Found 67 destinations in grandstaircase\n",
      "Found 197 destinations in grandtetonnationalpark\n",
      "Found 8 destinations in greenriver\n",
      "Found 18 destinations in grossreservoir\n",
      "Found 141 destinations in guernseystatepark\n",
      "Found 744 destinations in gunnison\n",
      "Found 2 destinations in hiddenflowkanab\n",
      "Found 1090 destinations in highdesert\n",
      "Found 352 destinations in highsierra\n",
      "Found 5 destinations in horsecreekslabs\n",
      "Found 87 destinations in houserange\n",
      "Found 6 destinations in huntingtoncanyon\n",
      "Found 162 destinations in ibex\n",
      "Found 86 destinations in idahosprings\n",
      "Found 709 destinations in independencepass\n",
      "Found 53 destinations in indoorwalls\n",
      "Found 745 destinations in inlandempire\n",
      "Found 9 destinations in irishcanyon\n",
      "Found 116 destinations in jacksonhole\n",
      "Found 471 destinations in joesvalley\n",
      "Found 6778 destinations in joshuatreenationalpark\n",
      "Found 172 destinations in jungleontheaquariusplateau\n",
      "Found 4 destinations in kanabcreekcrag\n",
      "Found 99 destinations in keystoneakamontezuma\n",
      "Found 4 destinations in keystonecoloradolandfillroad\n",
      "Found 1 destinations in kolobterracerd\n",
      "Found 25 destinations in lakepowell\n",
      "Found 657 destinations in landerarea\n",
      "Found 3 destinations in laradise\n",
      "Found 377 destinations in laramierange\n",
      "Found 78 destinations in leadville\n",
      "Found 9 destinations in logcanyon\n",
      "Found 1503 destinations in losangelesbasin\n",
      "Found 621 destinations in lyons\n",
      "Found 568 destinations in maplecanyon\n",
      "Found 17 destinations in maplegrove\n",
      "Found 89 destinations in milecanyon\n",
      "Found 2599 destinations in moabarea\n",
      "Found 1 destinations in montrose\n",
      "Found 735 destinations in morrisonevergreen\n",
      "Found 1 destinations in movementdenver\n",
      "Found 91 destinations in naturitaandparadoxvalley\n",
      "Found 2 destinations in ninemilecanyon\n",
      "Found 601 destinations in northeastcalifornia\n",
      "Found 5 destinations in northwestdenverbuildering\n",
      "Found 67 destinations in oquirrhmountains\n",
      "Found 198 destinations in ourayvicinityrock\n",
      "Found 9 destinations in owlroofs\n",
      "Found 129 destinations in pagosasprings\n",
      "Found 24 destinations in parowan\n",
      "Found 2 destinations in pawneegrasslands\n",
      "Found 6 destinations in pinedale\n",
      "Found 208 destinations in pinedalearea\n",
      "Found 1 destinations in pinktowersofthesierramadre\n",
      "Found 9 destinations in pointofrocks\n",
      "Found 20 destinations in pricecanyon\n",
      "Found 2 destinations in raggedtop\n",
      "Found 6 destinations in rawlinsupliftboxcarwillie\n",
      "Found 6 destinations in rawlinsupliftsolarsanctuary\n",
      "Found 8 destinations in rawlinsupliftunderworld\n",
      "Found 8 destinations in rawlinsupliftwatchtowers\n",
      "Found 434 destinations in redwoodcoast\n",
      "Found 430 destinations in rifle\n",
      "Found 3 destinations in rocksprings\n",
      "Found 34 destinations in rogerscanyon\n",
      "Found 1102 destinations in saintgeorge\n",
      "Found 8 destinations in saltcreekcanyon\n",
      "Found 1131 destinations in sanbernardinomountains\n",
      "Found 1490 destinations in sandiegocounty\n",
      "Found 1304 destinations in sanfranciscobayarea\n",
      "Found 1042 destinations in sanjacintomountains\n",
      "Found 271 destinations in sanluisvalley\n",
      "Found 481 destinations in sanrafaelswell\n",
      "Found 13 destinations in seminoemountains\n",
      "Found 281 destinations in sequoiakingscanyonnp\n",
      "Found 35 destinations in shellcanyon\n",
      "Found 245 destinations in sheridanarea\n",
      "Found 3 destinations in shirleymountains\n",
      "Found 4730 destinations in sierraeastside\n",
      "Found 13 destinations in silverplume\n",
      "Found 52 destinations in silvertonarea\n",
      "Found 7 destinations in snowyrange\n",
      "Found 509 destinations in southernsierra\n",
      "Found 1890 destinations in southplatte\n",
      "Found 14 destinations in spanishpeaks\n",
      "Found 4 destinations in springcanyon\n",
      "Found 94 destinations in stansburymountains\n",
      "Found 140 destinations in steamboatsprings\n",
      "Found 6 destinations in stonehenge\n",
      "Found 43 destinations in storiessnowyrangesportclimbingarea\n",
      "Found 47 destinations in sweetwaterrocks\n",
      "Found 8 destinations in swiftcreekcanyon\n",
      "Found 2128 destinations in tahoevicinity\n",
      "Found 480 destinations in tahquitzsuiciderocks\n",
      "Found 4 destinations in telephonecanyon\n",
      "Found 207 destinations in telluridenorwoodarea\n",
      "Found 545 destinations in tensleepcanyon\n",
      "Found 22 destinations in tetoncanyon\n",
      "Found 2 destinations in thehenrymountains\n",
      "Found 30 destinations in thehoneypot\n",
      "Found 84 destinations in thewetmountains\n",
      "Found 1 destinations in trexboulders\n",
      "Found 67 destinations in triassic\n",
      "Found 286 destinations in uintamountains\n",
      "Found 1021 destinations in vedauwoo\n",
      "Found 36 destinations in vernalarea\n",
      "Found 1 destinations in vogelcanyon\n",
      "Found 4616 destinations in wasatchrange\n",
      "Found 8 destinations in westonpasswestonwall\n",
      "Found 13 destinations in westwaterarea\n",
      "Found 9 destinations in whiterock\n",
      "Found 27 destinations in whiterocks\n",
      "Found 184 destinations in windriverrange\n",
      "Found 15 destinations in yellowstonenationalpark\n",
      "Found 1704 destinations in yosemitenationalpark\n",
      "Found 322 destinations in zionnationalpark\n"
     ]
    }
   ],
   "source": [
    "climb = combine_pickle(\"/Users/adam/RouteRobot/scraping/good_data/\")"
   ]
  },
  {
   "cell_type": "code",
   "execution_count": 208,
   "metadata": {
    "collapsed": false
   },
   "outputs": [],
   "source": [
    "vocab = pd.read_csv('vocab.txt', header=None)[0].tolist()"
   ]
  },
  {
   "cell_type": "code",
   "execution_count": 209,
   "metadata": {
    "collapsed": false
   },
   "outputs": [
    {
     "data": {
      "text/plain": [
       "2312"
      ]
     },
     "execution_count": 209,
     "metadata": {},
     "output_type": "execute_result"
    }
   ],
   "source": [
    "len(vocab)"
   ]
  },
  {
   "cell_type": "code",
   "execution_count": 210,
   "metadata": {
    "collapsed": false
   },
   "outputs": [],
   "source": [
    "from sklearn.feature_extraction.text import TfidfVectorizer\n",
    "# lemmatize, tokenize, vectorize text\n",
    "tfidf = TfidfVectorizer(\n",
    "    min_df=0.001, stop_words='english', ngram_range=(1,2),\n",
    "    strip_accents = 'unicode', lowercase=True,\n",
    "    norm='l2', smooth_idf=True, sublinear_tf=True, use_idf=True\n",
    "    )\n",
    "text_segments = climb['description'].tolist()\n",
    "tfidf_matrix = tfidf.fit_transform(text_segments)\n",
    "feature_names = tfidf.get_feature_names()"
   ]
  },
  {
   "cell_type": "code",
   "execution_count": 211,
   "metadata": {
    "collapsed": false
   },
   "outputs": [
    {
     "data": {
      "text/plain": [
       "5628"
      ]
     },
     "execution_count": 211,
     "metadata": {},
     "output_type": "execute_result"
    }
   ],
   "source": [
    "len(feature_names)"
   ]
  },
  {
   "cell_type": "code",
   "execution_count": 221,
   "metadata": {
    "collapsed": false
   },
   "outputs": [],
   "source": [
    "pd.Series(feature_names).to_csv('feature_names.csv', index=None)"
   ]
  },
  {
   "cell_type": "code",
   "execution_count": 222,
   "metadata": {
    "collapsed": false
   },
   "outputs": [
    {
     "data": {
      "text/plain": [
       "5628"
      ]
     },
     "execution_count": 222,
     "metadata": {},
     "output_type": "execute_result"
    }
   ],
   "source": [
    "len(feature_names)"
   ]
  },
  {
   "cell_type": "code",
   "execution_count": 223,
   "metadata": {
    "collapsed": false
   },
   "outputs": [],
   "source": [
    "def is_double_vocab(bigram, vocab):\n",
    "    spc = bigram.split(' ')\n",
    "    if len(spc) < 2:\n",
    "        if spc[0] in vocab:\n",
    "            return True\n",
    "    else:\n",
    "        if (spc[0] in vocab) and (spc[1] in vocab):\n",
    "            if spc[0] == spc[1]:\n",
    "                return False\n",
    "            else:\n",
    "                return True\n",
    "        else:\n",
    "            return False"
   ]
  },
  {
   "cell_type": "code",
   "execution_count": 224,
   "metadata": {
    "collapsed": false
   },
   "outputs": [],
   "source": [
    "bigram_vocab = [fn for fn in feature_names if is_double_vocab(fn, vocab)]"
   ]
  },
  {
   "cell_type": "code",
   "execution_count": 225,
   "metadata": {
    "collapsed": false
   },
   "outputs": [
    {
     "data": {
      "text/plain": [
       "2750"
      ]
     },
     "execution_count": 225,
     "metadata": {},
     "output_type": "execute_result"
    }
   ],
   "source": [
    "len(bigram_vocab)"
   ]
  },
  {
   "cell_type": "code",
   "execution_count": 226,
   "metadata": {
    "collapsed": true
   },
   "outputs": [],
   "source": [
    "pd.Series(bigram_vocab).to_csv('bigram_vocab.txt', index=None)"
   ]
  },
  {
   "cell_type": "code",
   "execution_count": 227,
   "metadata": {
    "collapsed": false
   },
   "outputs": [],
   "source": [
    "# import re\n",
    "# numRE = re.compile(r'(\\d)+')\n",
    "# new_fn = [fn for fn in feature_names if not numRE.search(fn)]\n",
    "# len(new_fn)"
   ]
  },
  {
   "cell_type": "code",
   "execution_count": 228,
   "metadata": {
    "collapsed": false
   },
   "outputs": [],
   "source": [
    "# stop_words = pd.read_csv('/Users/adam/RouteRobot/scraping/stop_words')\n",
    "# stopRE = re.compile('|'.join(stop_words))\n",
    "# new_fn = [fn for fn in new_fn if not stopRE.search(fn)]\n",
    "# len(new_fn)"
   ]
  },
  {
   "cell_type": "code",
   "execution_count": 229,
   "metadata": {
    "collapsed": false
   },
   "outputs": [
    {
     "data": {
      "text/plain": [
       "[u'handy',\n",
       " u'spooky',\n",
       " u'big roof',\n",
       " u'busy',\n",
       " u'closer',\n",
       " u'working',\n",
       " u'face south',\n",
       " u'runout face',\n",
       " u'big reach',\n",
       " u'facing slab',\n",
       " u'thins',\n",
       " u'slab',\n",
       " u'wall pitch',\n",
       " u'long slings',\n",
       " u'flare',\n",
       " u'fun little',\n",
       " u'face boulder',\n",
       " u'demanding',\n",
       " u'experienced',\n",
       " u'steep bulge',\n",
       " u'room',\n",
       " u'worked',\n",
       " u'positions',\n",
       " u'thins',\n",
       " u'facing flake',\n",
       " u'total',\n",
       " u'meadow',\n",
       " u'abound',\n",
       " u'hidden valley',\n",
       " u'weaknesses',\n",
       " u'street',\n",
       " u'packed',\n",
       " u'cairns',\n",
       " u'journey',\n",
       " u'forget',\n",
       " u'hand traverse',\n",
       " u'told',\n",
       " u'oak',\n",
       " u'bulging',\n",
       " u'corner small',\n",
       " u'skyline',\n",
       " u'recess',\n",
       " u'splitting',\n",
       " u'heavy',\n",
       " u'checking',\n",
       " u'heel',\n",
       " u'factor',\n",
       " u'positioning',\n",
       " u'feel',\n",
       " u'calling',\n",
       " u'small alcove',\n",
       " u'white',\n",
       " u'compression',\n",
       " u'hand edge',\n",
       " u'diagonal',\n",
       " u'continuity',\n",
       " u'texture',\n",
       " u'angled slab',\n",
       " u'reach small',\n",
       " u'small hands',\n",
       " u'plate',\n",
       " u'earlier',\n",
       " u'fits',\n",
       " u'mystery',\n",
       " u'earlier',\n",
       " u'butte',\n",
       " u'bouldery',\n",
       " u'permission',\n",
       " u'stems',\n",
       " u'finger hand',\n",
       " u'fair',\n",
       " u'perched',\n",
       " u'bold',\n",
       " u'tier',\n",
       " u'crappy',\n",
       " u'dubious',\n",
       " u'highest',\n",
       " u'choice',\n",
       " u'worth',\n",
       " u'grabbing',\n",
       " u'clear',\n",
       " u'twin cracks',\n",
       " u'mental',\n",
       " u'scale',\n",
       " u'bowl',\n",
       " u'facing corner',\n",
       " u'hand undercling',\n",
       " u'boulders',\n",
       " u'black',\n",
       " u'arete crux',\n",
       " u'mouth',\n",
       " u'easy chimney',\n",
       " u'spring',\n",
       " u'jam',\n",
       " u'gets morning',\n",
       " u'leaving',\n",
       " u'wouldn',\n",
       " u'edge',\n",
       " u'endurance',\n",
       " u'necessary']"
      ]
     },
     "execution_count": 229,
     "metadata": {},
     "output_type": "execute_result"
    }
   ],
   "source": [
    "import numpy as np\n",
    "np.random.choice(bigram_vocab, size = 100).tolist()"
   ]
  },
  {
   "cell_type": "code",
   "execution_count": 206,
   "metadata": {
    "collapsed": false
   },
   "outputs": [
    {
     "data": {
      "text/plain": [
       "True"
      ]
     },
     "execution_count": 206,
     "metadata": {},
     "output_type": "execute_result"
    }
   ],
   "source": [
    "import re\n",
    "for "
   ]
  },
  {
   "cell_type": "code",
   "execution_count": null,
   "metadata": {
    "collapsed": true
   },
   "outputs": [],
   "source": []
  }
 ],
 "metadata": {
  "kernelspec": {
   "display_name": "Python 2",
   "language": "python",
   "name": "python2"
  },
  "language_info": {
   "codemirror_mode": {
    "name": "ipython",
    "version": 2
   },
   "file_extension": ".py",
   "mimetype": "text/x-python",
   "name": "python",
   "nbconvert_exporter": "python",
   "pygments_lexer": "ipython2",
   "version": "2.7.10"
  }
 },
 "nbformat": 4,
 "nbformat_minor": 0
}
