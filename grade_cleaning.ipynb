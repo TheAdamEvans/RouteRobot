{
 "cells": [
  {
   "cell_type": "code",
   "execution_count": 5,
   "metadata": {
    "collapsed": false
   },
   "outputs": [],
   "source": [
    "%matplotlib inline"
   ]
  },
  {
   "cell_type": "code",
   "execution_count": 6,
   "metadata": {
    "collapsed": true
   },
   "outputs": [],
   "source": [
    "import pickle\n",
    "import pandas as pd\n",
    "import numpy as np"
   ]
  },
  {
   "cell_type": "code",
   "execution_count": 7,
   "metadata": {
    "collapsed": false
   },
   "outputs": [],
   "source": [
    "import flatten as fat"
   ]
  },
  {
   "cell_type": "code",
   "execution_count": 8,
   "metadata": {
    "collapsed": true
   },
   "outputs": [],
   "source": [
    "DATA_DIR = './utah_data/'"
   ]
  },
  {
   "cell_type": "code",
   "execution_count": 9,
   "metadata": {
    "collapsed": false
   },
   "outputs": [],
   "source": [
    "climb = fat.combine_pickle(DATA_DIR)"
   ]
  },
  {
   "cell_type": "code",
   "execution_count": 10,
   "metadata": {
    "collapsed": false
   },
   "outputs": [
    {
     "data": {
      "text/plain": [
       "(11852, 43)"
      ]
     },
     "execution_count": 10,
     "metadata": {},
     "output_type": "execute_result"
    }
   ],
   "source": [
    "climb.shape"
   ]
  },
  {
   "cell_type": "code",
   "execution_count": 14,
   "metadata": {
    "collapsed": false
   },
   "outputs": [
    {
     "data": {
      "text/plain": [
       "(11852, 8)"
      ]
     },
     "execution_count": 14,
     "metadata": {},
     "output_type": "execute_result"
    }
   ],
   "source": [
    "# isolate grade columns\n",
    "import re\n",
    "rate = [col for col in climb.columns if re.search(r'^rate', col)]\n",
    "grade = climb[rate]\n",
    "grade.shape"
   ]
  },
  {
   "cell_type": "code",
   "execution_count": 15,
   "metadata": {
    "collapsed": false
   },
   "outputs": [],
   "source": [
    "#grade = grade.dropna(axis=0, how='all')"
   ]
  },
  {
   "cell_type": "code",
   "execution_count": 16,
   "metadata": {
    "collapsed": false
   },
   "outputs": [],
   "source": [
    "import numpy as np\n",
    "def convert_hueco(hueco, LEAST_DIFFICULT=float(0), FIRST_STEP=float(1)):\n",
    "\n",
    "    if not pd.isnull(hueco):\n",
    "        hueco = hueco[1:]\n",
    "\n",
    "        if hueco == '-easy':\n",
    "            # lower bound\n",
    "            hard = LEAST_DIFFICULT\n",
    "        else:\n",
    "            # V0 will be equal to this\n",
    "            hard = LEAST_DIFFICULT + FIRST_STEP\n",
    "\n",
    "            # deal with the numbers in the string\n",
    "            if re.search(r'(\\+$)|(-$)', hueco):\n",
    "                pnt = float(hueco[:-1].strip())\n",
    "                # add/take a half a point off for plus minus\n",
    "                if hueco[-1] == '+':\n",
    "                    hard += pnt + .5\n",
    "                else:\n",
    "                    hard += pnt - .5\n",
    "            elif re.search(r'(\\d+)[- ]+(\\d+)', hueco):\n",
    "                # return the mean of a range\n",
    "                lower = re.findall(r'\\d+', hueco)[0].strip()\n",
    "                upper = re.findall(r'\\d+', hueco)[1].strip()\n",
    "                hard += np.mean( [float(lower), float(upper)] )\n",
    "            elif re.search(r'\\d+', hueco):                    \n",
    "                try:\n",
    "                    # cast as float ignoring sign\n",
    "                    core_rate = float(hueco.strip('+-'))\n",
    "                except:\n",
    "                    hard = None\n",
    "                else:\n",
    "                    hard += core_rate\n",
    "\n",
    "        return hard"
   ]
  },
  {
   "cell_type": "code",
   "execution_count": 17,
   "metadata": {
    "collapsed": false
   },
   "outputs": [
    {
     "data": {
      "text/plain": [
       "46.5"
      ]
     },
     "execution_count": 17,
     "metadata": {},
     "output_type": "execute_result"
    }
   ],
   "source": [
    "convert_hueco('V45-46')"
   ]
  },
  {
   "cell_type": "code",
   "execution_count": 18,
   "metadata": {
    "collapsed": false
   },
   "outputs": [],
   "source": [
    "climb['floatHueco'] = map(convert_hueco, climb['rateHueco'])"
   ]
  },
  {
   "cell_type": "code",
   "execution_count": 19,
   "metadata": {
    "collapsed": false
   },
   "outputs": [
    {
     "data": {
      "text/plain": [
       "4.0"
      ]
     },
     "execution_count": 19,
     "metadata": {},
     "output_type": "execute_result"
    }
   ],
   "source": [
    "np.median(climb['floatHueco'].dropna())"
   ]
  },
  {
   "cell_type": "code",
   "execution_count": 145,
   "metadata": {
    "collapsed": false
   },
   "outputs": [],
   "source": [
    "def convert_ZA(ZA):\n",
    "    if not pd.isnull(ZA):\n",
    "        return float(ZA)\n",
    "# convert_lead(climb['floatZA'])"
   ]
  },
  {
   "cell_type": "code",
   "execution_count": 146,
   "metadata": {
    "collapsed": true
   },
   "outputs": [],
   "source": [
    "from statsmodels.distributions.empirical_distribution import ECDF\n",
    "def scale01(feature):\n",
    "    # use on an entire column\n",
    "    ecdf = ECDF(feature.dropna())\n",
    "    qtile = ecdf(feature)\n",
    "    qtile[qtile == 1.0] = float('NaN')\n",
    "    return qtile"
   ]
  },
  {
   "cell_type": "code",
   "execution_count": 147,
   "metadata": {
    "collapsed": false
   },
   "outputs": [],
   "source": [
    "climb['pctHueco'] = scale01(climb['floatHueco'])\n",
    "climb['pctZA'] = scale01(climb['floatZA'])"
   ]
  },
  {
   "cell_type": "code",
   "execution_count": 148,
   "metadata": {
    "collapsed": false
   },
   "outputs": [],
   "source": [
    "climb['gradeComb'] = climb[['pctHueco','pctZA']].mean(axis='columns')"
   ]
  },
  {
   "cell_type": "code",
   "execution_count": 149,
   "metadata": {
    "collapsed": false
   },
   "outputs": [],
   "source": [
    "# climb['gradeComb'].hist()"
   ]
  },
  {
   "cell_type": "code",
   "execution_count": 150,
   "metadata": {
    "collapsed": true
   },
   "outputs": [],
   "source": [
    "# IDEAL IS A BETA DISTRIBUTION FOR PRIOR"
   ]
  },
  {
   "cell_type": "code",
   "execution_count": 151,
   "metadata": {
    "collapsed": false
   },
   "outputs": [],
   "source": [
    "def score_climb_grade(grade, ideal_grade):\n",
    "    ABOVE_DECAY = 5\n",
    "    BELOW_DECAY = 2\n",
    "    if grade == ideal_grade:\n",
    "        return 1.0\n",
    "    elif grade > ideal_grade:\n",
    "        diff = grade - ideal_grade\n",
    "        return (1-diff) ** ABOVE_DECAY\n",
    "    else:\n",
    "        diff = ideal_grade - grade\n",
    "        return (1-diff) ** BELOW_DECAY\n",
    "\n",
    "# grade = np.array([.5,.7,.3,.6,.9])"
   ]
  },
  {
   "cell_type": "code",
   "execution_count": 165,
   "metadata": {
    "collapsed": false
   },
   "outputs": [
    {
     "data": {
      "text/plain": [
       "/v/beaver-boulder/108131427                          NaN\n",
       "/v/spider-man-/108131436                        0.421247\n",
       "/v/burr-trail--long-canyon/105973758                 NaN\n",
       "/v/58-corner/106448362                          0.493234\n",
       "/v/bastard-child/105973780                      0.509457\n",
       "/v/beam-bump/105973810                          0.304860\n",
       "/v/flipper-babies/105973765                     0.493234\n",
       "/v/longs-lies/105973794                         0.693831\n",
       "/v/capitol-reef-national-park/105716802              NaN\n",
       "/v/basketball-wallslickrock-divide/105968325         NaN\n",
       "Name: gradeComb, dtype: float64"
      ]
     },
     "execution_count": 165,
     "metadata": {},
     "output_type": "execute_result"
    }
   ],
   "source": [
    "sample = climb[:10]\n"
   ]
  },
  {
   "cell_type": "code",
   "execution_count": 142,
   "metadata": {
    "collapsed": true
   },
   "outputs": [],
   "source": [
    "from time import time"
   ]
  },
  {
   "cell_type": "code",
   "execution_count": null,
   "metadata": {
    "collapsed": true
   },
   "outputs": [],
   "source": [
    "def grade_similarity(climb):"
   ]
  },
  {
   "cell_type": "code",
   "execution_count": 172,
   "metadata": {
    "collapsed": true
   },
   "outputs": [],
   "source": [
    "def grade_similarity(climb):\n",
    "    \n",
    "    collect = []\n",
    "    for ideal_grade in climb['gradeComb']:\n",
    "        scores = [score_climb_grade(g, ideal_grade) for g in climb['gradeComb']]\n",
    "        recco = pd.DataFrame({'recco':scores}, index=climb.index)\n",
    "        collect.append(recco)\n",
    "    grade_matrix = pd.concat(collect, axis='columns')\n",
    "    grade_matrix.columns = climb.index\n",
    "    return grade_matrix"
   ]
  },
  {
   "cell_type": "code",
   "execution_count": 173,
   "metadata": {
    "collapsed": false
   },
   "outputs": [
    {
     "name": "stdout",
     "output_type": "stream",
     "text": [
      "Generating grade similarity matrix\n",
      "Cross Grading 1000 records took 1 seconds\n"
     ]
    }
   ],
   "source": [
    "print 'Converting grades to float...'\n",
    "t0 = time()\n",
    "climb['floatHueco'] = map(convert_hueco, climb['rateHueco'])\n",
    "climb['pctHueco'] = scale01(climb['floatHueco'])\n",
    "\n",
    "climb['floatZA'] = map(convert_ZA, climb['rateZA'])\n",
    "climb['pctZA'] = scale01(climb['floatZA'])\n",
    "\n",
    "climb['gradeComb'] = climb[['pctHueco','pctZA']].mean(axis='columns')\n",
    "print 'took %0.2f seconds' % (time() - t0)\n",
    "\n",
    "print 'Generating grade similarity matrix...'\n",
    "t0 = time()\n",
    "grade_matrix = grade_similarity(climb)\n",
    "print 'took %d seconds' % (time() - t0)"
   ]
  },
  {
   "cell_type": "code",
   "execution_count": 175,
   "metadata": {
    "collapsed": false
   },
   "outputs": [
    {
     "name": "stdout",
     "output_type": "stream",
     "text": [
      "X is (1000, 1000) <class 'pandas.core.frame.DataFrame'>\n"
     ]
    }
   ],
   "source": [
    "grade_matrix.to_pickle('_grade_matrix')\n",
    "x = pd.read_pickle('_grade_matrix')\n",
    "\n",
    "print \"X is\", x.shape, type(x)"
   ]
  },
  {
   "cell_type": "code",
   "execution_count": null,
   "metadata": {
    "collapsed": true
   },
   "outputs": [],
   "source": []
  }
 ],
 "metadata": {
  "kernelspec": {
   "display_name": "Python 2",
   "language": "python",
   "name": "python2"
  },
  "language_info": {
   "codemirror_mode": {
    "name": "ipython",
    "version": 2
   },
   "file_extension": ".py",
   "mimetype": "text/x-python",
   "name": "python",
   "nbconvert_exporter": "python",
   "pygments_lexer": "ipython2",
   "version": "2.7.10"
  }
 },
 "nbformat": 4,
 "nbformat_minor": 0
}
