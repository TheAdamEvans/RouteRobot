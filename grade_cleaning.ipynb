{
 "cells": [
  {
   "cell_type": "code",
   "execution_count": 1,
   "metadata": {
    "collapsed": false
   },
   "outputs": [],
   "source": [
    "%matplotlib inline"
   ]
  },
  {
   "cell_type": "code",
   "execution_count": 2,
   "metadata": {
    "collapsed": true
   },
   "outputs": [],
   "source": [
    "import pickle\n",
    "import pandas as pd\n",
    "import numpy as np"
   ]
  },
  {
   "cell_type": "code",
   "execution_count": 3,
   "metadata": {
    "collapsed": true
   },
   "outputs": [],
   "source": [
    "data_dir = './data/'"
   ]
  },
  {
   "cell_type": "code",
   "execution_count": 4,
   "metadata": {
    "collapsed": false
   },
   "outputs": [],
   "source": [
    "import flatten as fat"
   ]
  },
  {
   "cell_type": "code",
   "execution_count": 5,
   "metadata": {
    "collapsed": true
   },
   "outputs": [],
   "source": [
    "DATA_DIR = './data/'"
   ]
  },
  {
   "cell_type": "code",
   "execution_count": 6,
   "metadata": {
    "collapsed": false
   },
   "outputs": [
    {
     "name": "stdout",
     "output_type": "stream",
     "text": [
      "aid                                                             NaN\n",
      "alpine                                                          NaN\n",
      "area_hierarchy    [/destinations/, /v/alaska/105909311, /v/ancho...\n",
      "boulder                                                         NaN\n",
      "children                                                        NaN\n",
      "children_href                                                  None\n",
      "chipped                                                         NaN\n",
      "commitment                                                      NaN\n",
      "description       Religious Retreat is the far right route on th...\n",
      "elevation                                                       NaN\n",
      "fa                                        Paul Turecki, J.J. Brooks\n",
      "feet                                                            NaN\n",
      "getting_there                                                   NaN\n",
      "href                                 /v/religious-retreat/109207355\n",
      "ice                                                             NaN\n",
      "is_area                                                       False\n",
      "is_route                                                       True\n",
      "location          Scramble to the huge roof on the right side of...\n",
      "mixed                                                           NaN\n",
      "name                                              Religious Retreat\n",
      "nickname                                           religiousretreat\n",
      "other_text                                                      NaN\n",
      "page_views                                                        7\n",
      "pitches                                                           1\n",
      "protect_rate                                                      X\n",
      "protection                 2 Bolts, Gear to 3\", 2 Bolt Chain Anchor\n",
      "rateBritish                                                   E2 5b\n",
      "rateEwbanks                                                      20\n",
      "rateFont                                                        NaN\n",
      "rateFrench                                                       6b\n",
      "rateHueco                                                       NaN\n",
      "rateUIAA                                                       VII-\n",
      "rateYDS                                                        5.10\n",
      "rateZA                                                           19\n",
      "season                                         Spring, Summer, Fall\n",
      "sport                                                           NaN\n",
      "staraverage                                                     1.0\n",
      "starbest                                                          4\n",
      "starvotes                                                         1\n",
      "submitted_by                                                9, 2014\n",
      "tr                                                              NaN\n",
      "trad                                                           True\n",
      "type                                                  Trad, 1 pitch\n",
      "Name: /v/religious-retreat/109207355, dtype: object\n"
     ]
    }
   ],
   "source": [
    "climb = fat.combine_pickle(DATA_DIR)\n",
    "print climb.loc['/v/religious-retreat/109207355']"
   ]
  },
  {
   "cell_type": "code",
   "execution_count": 7,
   "metadata": {
    "collapsed": false
   },
   "outputs": [
    {
     "data": {
      "text/plain": [
       "(12644, 43)"
      ]
     },
     "execution_count": 7,
     "metadata": {},
     "output_type": "execute_result"
    }
   ],
   "source": [
    "climb.shape"
   ]
  },
  {
   "cell_type": "code",
   "execution_count": 8,
   "metadata": {
    "collapsed": false
   },
   "outputs": [
    {
     "data": {
      "text/plain": [
       "(12644, 8)"
      ]
     },
     "execution_count": 8,
     "metadata": {},
     "output_type": "execute_result"
    }
   ],
   "source": [
    "# isolate grade columns\n",
    "import re\n",
    "rate = [col for col in climb.columns if re.search(r'^rate', col)]\n",
    "grade = climb[rate]\n",
    "grade.shape"
   ]
  },
  {
   "cell_type": "code",
   "execution_count": 17,
   "metadata": {
    "collapsed": false
   },
   "outputs": [
    {
     "data": {
      "text/html": [
       "<div>\n",
       "<table border=\"1\" class=\"dataframe\">\n",
       "  <thead>\n",
       "    <tr style=\"text-align: right;\">\n",
       "      <th></th>\n",
       "      <th>rateBritish</th>\n",
       "      <th>rateEwbanks</th>\n",
       "      <th>rateFont</th>\n",
       "      <th>rateFrench</th>\n",
       "      <th>rateHueco</th>\n",
       "      <th>rateUIAA</th>\n",
       "      <th>rateYDS</th>\n",
       "      <th>rateZA</th>\n",
       "    </tr>\n",
       "  </thead>\n",
       "  <tbody>\n",
       "    <tr>\n",
       "      <th>/v/psychology-wall/107942070</th>\n",
       "      <td>MS 4a</td>\n",
       "      <td>13</td>\n",
       "      <td>4</td>\n",
       "      <td>4b</td>\n",
       "      <td>V0</td>\n",
       "      <td>IV+</td>\n",
       "      <td>5.5</td>\n",
       "      <td>11</td>\n",
       "    </tr>\n",
       "    <tr>\n",
       "      <th>/v/sht-sandwich-with-a-side-of-choss-/110737261</th>\n",
       "      <td>S 4b</td>\n",
       "      <td>14</td>\n",
       "      <td>4</td>\n",
       "      <td>4c</td>\n",
       "      <td>V0</td>\n",
       "      <td>V</td>\n",
       "      <td>5.6</td>\n",
       "      <td>12</td>\n",
       "    </tr>\n",
       "    <tr>\n",
       "      <th>/v/first-beginning/106940778</th>\n",
       "      <td>MVS 4b</td>\n",
       "      <td>15</td>\n",
       "      <td>4</td>\n",
       "      <td>5a</td>\n",
       "      <td>V0</td>\n",
       "      <td>V+</td>\n",
       "      <td>5.7</td>\n",
       "      <td>13</td>\n",
       "    </tr>\n",
       "    <tr>\n",
       "      <th>/v/an-endless-journey/106728483</th>\n",
       "      <td>MVS 4b</td>\n",
       "      <td>15</td>\n",
       "      <td>4-</td>\n",
       "      <td>5a</td>\n",
       "      <td>V0-</td>\n",
       "      <td>V+</td>\n",
       "      <td>5.7</td>\n",
       "      <td>13</td>\n",
       "    </tr>\n",
       "    <tr>\n",
       "      <th>/v/just-enough/106827911</th>\n",
       "      <td>VS 4c</td>\n",
       "      <td>16</td>\n",
       "      <td>5</td>\n",
       "      <td>5b</td>\n",
       "      <td>V1+</td>\n",
       "      <td>VI-</td>\n",
       "      <td>5.8-</td>\n",
       "      <td>14</td>\n",
       "    </tr>\n",
       "    <tr>\n",
       "      <th>/v/euclid-and-2nd-st-crack/109745173</th>\n",
       "      <td>HVS 4c</td>\n",
       "      <td>16</td>\n",
       "      <td>4</td>\n",
       "      <td>5b</td>\n",
       "      <td>V0</td>\n",
       "      <td>VI-</td>\n",
       "      <td>5.8</td>\n",
       "      <td>15</td>\n",
       "    </tr>\n",
       "    <tr>\n",
       "      <th>/v/minnow/106627280</th>\n",
       "      <td>HVS 4c</td>\n",
       "      <td>16</td>\n",
       "      <td>4</td>\n",
       "      <td>5b</td>\n",
       "      <td>V0</td>\n",
       "      <td>VI-</td>\n",
       "      <td>5.8</td>\n",
       "      <td>15</td>\n",
       "    </tr>\n",
       "    <tr>\n",
       "      <th>/v/jail-house-rock/108014907</th>\n",
       "      <td>HVS 4c</td>\n",
       "      <td>16</td>\n",
       "      <td>4+</td>\n",
       "      <td>5b</td>\n",
       "      <td>V0+</td>\n",
       "      <td>VI-</td>\n",
       "      <td>5.8+</td>\n",
       "      <td>15</td>\n",
       "    </tr>\n",
       "    <tr>\n",
       "      <th>/v/cosmic-ray/106387468</th>\n",
       "      <td>HVS 5a</td>\n",
       "      <td>17</td>\n",
       "      <td>4-</td>\n",
       "      <td>5c</td>\n",
       "      <td>V0-</td>\n",
       "      <td>VI</td>\n",
       "      <td>5.9</td>\n",
       "      <td>17</td>\n",
       "    </tr>\n",
       "    <tr>\n",
       "      <th>/v/run-for-the-hills/106208950</th>\n",
       "      <td>HVS 5a</td>\n",
       "      <td>17</td>\n",
       "      <td>5+</td>\n",
       "      <td>5c</td>\n",
       "      <td>V2</td>\n",
       "      <td>VI</td>\n",
       "      <td>5.9</td>\n",
       "      <td>17</td>\n",
       "    </tr>\n",
       "    <tr>\n",
       "      <th>/v/wanting-a-hula-hoop-hammer--a-beer/107007086</th>\n",
       "      <td>HVS 5a</td>\n",
       "      <td>17</td>\n",
       "      <td>5+</td>\n",
       "      <td>5c</td>\n",
       "      <td>V2</td>\n",
       "      <td>VI</td>\n",
       "      <td>5.9</td>\n",
       "      <td>17</td>\n",
       "    </tr>\n",
       "    <tr>\n",
       "      <th>/v/pleeze-dont-cry/106928529</th>\n",
       "      <td>E1 5a</td>\n",
       "      <td>18</td>\n",
       "      <td>5+</td>\n",
       "      <td>6a</td>\n",
       "      <td>V2</td>\n",
       "      <td>VI+</td>\n",
       "      <td>5.10a</td>\n",
       "      <td>18</td>\n",
       "    </tr>\n",
       "    <tr>\n",
       "      <th>/v/colemans-daughter/107116949</th>\n",
       "      <td>E4 5c</td>\n",
       "      <td>23</td>\n",
       "      <td>6A</td>\n",
       "      <td>6c+</td>\n",
       "      <td>V3</td>\n",
       "      <td>VIII-</td>\n",
       "      <td>5.11</td>\n",
       "      <td>23</td>\n",
       "    </tr>\n",
       "    <tr>\n",
       "      <th>/v/ghetto-blaster/106232837</th>\n",
       "      <td>E3 5c</td>\n",
       "      <td>23</td>\n",
       "      <td>5+</td>\n",
       "      <td>6c</td>\n",
       "      <td>V2</td>\n",
       "      <td>VIII-</td>\n",
       "      <td>5.11a/b</td>\n",
       "      <td>23</td>\n",
       "    </tr>\n",
       "    <tr>\n",
       "      <th>/v/daves-toe-jam/108947191</th>\n",
       "      <td>E4 5c</td>\n",
       "      <td>23</td>\n",
       "      <td>6C</td>\n",
       "      <td>6c+</td>\n",
       "      <td>V5</td>\n",
       "      <td>VIII-</td>\n",
       "      <td>5.11</td>\n",
       "      <td>23</td>\n",
       "    </tr>\n",
       "    <tr>\n",
       "      <th>/v/unnamed-v3/108109624</th>\n",
       "      <td>E4 6a</td>\n",
       "      <td>24</td>\n",
       "      <td>6A</td>\n",
       "      <td>7a</td>\n",
       "      <td>V3</td>\n",
       "      <td>VIII</td>\n",
       "      <td>5.11+</td>\n",
       "      <td>24</td>\n",
       "    </tr>\n",
       "    <tr>\n",
       "      <th>/v/crankcase-traverse/108945953</th>\n",
       "      <td>E4 6a</td>\n",
       "      <td>24</td>\n",
       "      <td>6C</td>\n",
       "      <td>7a</td>\n",
       "      <td>V5</td>\n",
       "      <td>VIII</td>\n",
       "      <td>5.11+</td>\n",
       "      <td>24</td>\n",
       "    </tr>\n",
       "    <tr>\n",
       "      <th>/v/emotional-rescue/106174818</th>\n",
       "      <td>E4 6a</td>\n",
       "      <td>24</td>\n",
       "      <td>7C</td>\n",
       "      <td>7a</td>\n",
       "      <td>V9+</td>\n",
       "      <td>VIII</td>\n",
       "      <td>5.11+</td>\n",
       "      <td>24</td>\n",
       "    </tr>\n",
       "    <tr>\n",
       "      <th>/v/alien-disco/108614475</th>\n",
       "      <td>E5 6a</td>\n",
       "      <td>25</td>\n",
       "      <td>6C</td>\n",
       "      <td>7a+</td>\n",
       "      <td>V5</td>\n",
       "      <td>VIII+</td>\n",
       "      <td>5.12a</td>\n",
       "      <td>25</td>\n",
       "    </tr>\n",
       "    <tr>\n",
       "      <th>/v/burnt-tree-traverse/108945950</th>\n",
       "      <td>E5 6a</td>\n",
       "      <td>25</td>\n",
       "      <td>7A</td>\n",
       "      <td>7a+</td>\n",
       "      <td>V6</td>\n",
       "      <td>VIII+</td>\n",
       "      <td>5.12a</td>\n",
       "      <td>25</td>\n",
       "    </tr>\n",
       "    <tr>\n",
       "      <th>/v/little-league-drop-out/106174772</th>\n",
       "      <td>E5 6a</td>\n",
       "      <td>25</td>\n",
       "      <td>6B</td>\n",
       "      <td>7a+</td>\n",
       "      <td>V4-</td>\n",
       "      <td>VIII+</td>\n",
       "      <td>5.12-</td>\n",
       "      <td>25</td>\n",
       "    </tr>\n",
       "    <tr>\n",
       "      <th>/v/legalize/106737625</th>\n",
       "      <td>E6 6b</td>\n",
       "      <td>27</td>\n",
       "      <td>6C</td>\n",
       "      <td>7b+</td>\n",
       "      <td>V5</td>\n",
       "      <td>IX-</td>\n",
       "      <td>5.12c</td>\n",
       "      <td>27</td>\n",
       "    </tr>\n",
       "    <tr>\n",
       "      <th>/v/hu/108947208</th>\n",
       "      <td>E6 6b</td>\n",
       "      <td>28</td>\n",
       "      <td>7A+</td>\n",
       "      <td>7c</td>\n",
       "      <td>V7</td>\n",
       "      <td>IX</td>\n",
       "      <td>5.12d</td>\n",
       "      <td>28</td>\n",
       "    </tr>\n",
       "    <tr>\n",
       "      <th>/v/footwork/106628174</th>\n",
       "      <td>MD 2a</td>\n",
       "      <td>6</td>\n",
       "      <td>3</td>\n",
       "      <td>2</td>\n",
       "      <td>V-easy</td>\n",
       "      <td>II</td>\n",
       "      <td>5.1</td>\n",
       "      <td>7</td>\n",
       "    </tr>\n",
       "  </tbody>\n",
       "</table>\n",
       "</div>"
      ],
      "text/plain": [
       "                                                rateBritish rateEwbanks  \\\n",
       "/v/psychology-wall/107942070                          MS 4a          13   \n",
       "/v/sht-sandwich-with-a-side-of-choss-/110737261        S 4b          14   \n",
       "/v/first-beginning/106940778                         MVS 4b          15   \n",
       "/v/an-endless-journey/106728483                      MVS 4b          15   \n",
       "/v/just-enough/106827911                              VS 4c          16   \n",
       "/v/euclid-and-2nd-st-crack/109745173                 HVS 4c          16   \n",
       "/v/minnow/106627280                                  HVS 4c          16   \n",
       "/v/jail-house-rock/108014907                         HVS 4c          16   \n",
       "/v/cosmic-ray/106387468                              HVS 5a          17   \n",
       "/v/run-for-the-hills/106208950                       HVS 5a          17   \n",
       "/v/wanting-a-hula-hoop-hammer--a-beer/107007086      HVS 5a          17   \n",
       "/v/pleeze-dont-cry/106928529                          E1 5a          18   \n",
       "/v/colemans-daughter/107116949                        E4 5c          23   \n",
       "/v/ghetto-blaster/106232837                           E3 5c          23   \n",
       "/v/daves-toe-jam/108947191                            E4 5c          23   \n",
       "/v/unnamed-v3/108109624                               E4 6a          24   \n",
       "/v/crankcase-traverse/108945953                       E4 6a          24   \n",
       "/v/emotional-rescue/106174818                         E4 6a          24   \n",
       "/v/alien-disco/108614475                              E5 6a          25   \n",
       "/v/burnt-tree-traverse/108945950                      E5 6a          25   \n",
       "/v/little-league-drop-out/106174772                   E5 6a          25   \n",
       "/v/legalize/106737625                                 E6 6b          27   \n",
       "/v/hu/108947208                                       E6 6b          28   \n",
       "/v/footwork/106628174                                 MD 2a           6   \n",
       "\n",
       "                                                rateFont rateFrench rateHueco  \\\n",
       "/v/psychology-wall/107942070                           4         4b        V0   \n",
       "/v/sht-sandwich-with-a-side-of-choss-/110737261        4         4c        V0   \n",
       "/v/first-beginning/106940778                           4         5a        V0   \n",
       "/v/an-endless-journey/106728483                       4-         5a       V0-   \n",
       "/v/just-enough/106827911                               5         5b       V1+   \n",
       "/v/euclid-and-2nd-st-crack/109745173                   4         5b        V0   \n",
       "/v/minnow/106627280                                    4         5b        V0   \n",
       "/v/jail-house-rock/108014907                          4+         5b       V0+   \n",
       "/v/cosmic-ray/106387468                               4-         5c       V0-   \n",
       "/v/run-for-the-hills/106208950                        5+         5c        V2   \n",
       "/v/wanting-a-hula-hoop-hammer--a-beer/107007086       5+         5c        V2   \n",
       "/v/pleeze-dont-cry/106928529                          5+         6a        V2   \n",
       "/v/colemans-daughter/107116949                        6A        6c+        V3   \n",
       "/v/ghetto-blaster/106232837                           5+         6c        V2   \n",
       "/v/daves-toe-jam/108947191                            6C        6c+        V5   \n",
       "/v/unnamed-v3/108109624                               6A         7a        V3   \n",
       "/v/crankcase-traverse/108945953                       6C         7a        V5   \n",
       "/v/emotional-rescue/106174818                         7C         7a       V9+   \n",
       "/v/alien-disco/108614475                              6C        7a+        V5   \n",
       "/v/burnt-tree-traverse/108945950                      7A        7a+        V6   \n",
       "/v/little-league-drop-out/106174772                   6B        7a+       V4-   \n",
       "/v/legalize/106737625                                 6C        7b+        V5   \n",
       "/v/hu/108947208                                      7A+         7c        V7   \n",
       "/v/footwork/106628174                                  3          2    V-easy   \n",
       "\n",
       "                                                rateUIAA  rateYDS rateZA  \n",
       "/v/psychology-wall/107942070                         IV+      5.5     11  \n",
       "/v/sht-sandwich-with-a-side-of-choss-/110737261        V      5.6     12  \n",
       "/v/first-beginning/106940778                          V+      5.7     13  \n",
       "/v/an-endless-journey/106728483                       V+      5.7     13  \n",
       "/v/just-enough/106827911                             VI-     5.8-     14  \n",
       "/v/euclid-and-2nd-st-crack/109745173                 VI-      5.8     15  \n",
       "/v/minnow/106627280                                  VI-      5.8     15  \n",
       "/v/jail-house-rock/108014907                         VI-     5.8+     15  \n",
       "/v/cosmic-ray/106387468                               VI      5.9     17  \n",
       "/v/run-for-the-hills/106208950                        VI      5.9     17  \n",
       "/v/wanting-a-hula-hoop-hammer--a-beer/107007086       VI      5.9     17  \n",
       "/v/pleeze-dont-cry/106928529                         VI+    5.10a     18  \n",
       "/v/colemans-daughter/107116949                     VIII-     5.11     23  \n",
       "/v/ghetto-blaster/106232837                        VIII-  5.11a/b     23  \n",
       "/v/daves-toe-jam/108947191                         VIII-     5.11     23  \n",
       "/v/unnamed-v3/108109624                             VIII    5.11+     24  \n",
       "/v/crankcase-traverse/108945953                     VIII    5.11+     24  \n",
       "/v/emotional-rescue/106174818                       VIII    5.11+     24  \n",
       "/v/alien-disco/108614475                           VIII+    5.12a     25  \n",
       "/v/burnt-tree-traverse/108945950                   VIII+    5.12a     25  \n",
       "/v/little-league-drop-out/106174772                VIII+    5.12-     25  \n",
       "/v/legalize/106737625                                IX-    5.12c     27  \n",
       "/v/hu/108947208                                       IX    5.12d     28  \n",
       "/v/footwork/106628174                                 II      5.1      7  "
      ]
     },
     "execution_count": 17,
     "metadata": {},
     "output_type": "execute_result"
    }
   ],
   "source": [
    "grade = grade.dropna(axis=0, how='all')\n",
    "grade.sort_values(['rateZA'])"
   ]
  },
  {
   "cell_type": "code",
   "execution_count": 10,
   "metadata": {
    "collapsed": false
   },
   "outputs": [
    {
     "data": {
      "text/plain": [
       "array(['13', '14', '12', '25', '24', '23', '28', '17', '15', '7', '18',\n",
       "       '11', '27'], dtype=object)"
      ]
     },
     "execution_count": 10,
     "metadata": {},
     "output_type": "execute_result"
    }
   ],
   "source": [
    "#grade.sort_values(['rateEwbanks'])\n",
    "grade['rateEwbanks'].unique()\n",
    "grade['rateZA'].unique()"
   ]
  },
  {
   "cell_type": "code",
   "execution_count": 11,
   "metadata": {
    "collapsed": false
   },
   "outputs": [
    {
     "data": {
      "text/plain": [
       "array(['V0', 'V1+', 'V6', 'V5', 'V7', 'V3', 'V0-', 'V0+', 'V2', 'V9+',\n",
       "       'V4-', 'V-easy'], dtype=object)"
      ]
     },
     "execution_count": 11,
     "metadata": {},
     "output_type": "execute_result"
    }
   ],
   "source": [
    "grade.rateHueco.unique()"
   ]
  },
  {
   "cell_type": "code",
   "execution_count": 12,
   "metadata": {
    "collapsed": false
   },
   "outputs": [],
   "source": [
    "import numpy as np\n",
    "def convert_hueco(hueco, LEAST_DIFFICULT=float(0), FIRST_STEP=float(1)):\n",
    "\n",
    "    if not pd.isnull(hueco):\n",
    "        hueco = hueco[1:]\n",
    "\n",
    "        if hueco == '-easy':\n",
    "            # lower bound\n",
    "            hard = LEAST_DIFFICULT\n",
    "        else:\n",
    "            # V0 will be equal to this\n",
    "            hard = LEAST_DIFFICULT + FIRST_STEP\n",
    "\n",
    "            # deal with the numbers in the string\n",
    "            if re.search(r'(\\+$)|(-$)', hueco):\n",
    "                pnt = float(hueco[:-1].strip())\n",
    "                # add/take a half a point off for plus minus\n",
    "                if hueco[-1] == '+':\n",
    "                    hard += pnt + .5\n",
    "                else:\n",
    "                    hard += pnt - .5\n",
    "            elif re.search(r'(\\d+)[- ]+(\\d+)', hueco):\n",
    "                # return the mean of a range\n",
    "                lower = re.findall(r'\\d+', hueco)[0].strip()\n",
    "                upper = re.findall(r'\\d+', hueco)[1].strip()\n",
    "                hard += np.mean( [float(lower), float(upper)] )\n",
    "            elif re.search(r'\\d+', hueco):                    \n",
    "                try:\n",
    "                    # cast as float ignoring sign\n",
    "                    core_rate = float(hueco.strip('+-'))\n",
    "                except:\n",
    "                    hard = None\n",
    "                else:\n",
    "                    hard += core_rate\n",
    "\n",
    "        return hard"
   ]
  },
  {
   "cell_type": "code",
   "execution_count": 13,
   "metadata": {
    "collapsed": false
   },
   "outputs": [],
   "source": [
    "convert_hueco('V45+46')"
   ]
  },
  {
   "cell_type": "code",
   "execution_count": 14,
   "metadata": {
    "collapsed": false
   },
   "outputs": [],
   "source": [
    "climb['floatHueco'] = map(convert_hueco, climb['rateHueco'])"
   ]
  },
  {
   "cell_type": "code",
   "execution_count": 15,
   "metadata": {
    "collapsed": false
   },
   "outputs": [
    {
     "data": {
      "text/plain": [
       "<matplotlib.axes._subplots.AxesSubplot at 0x110b7eed0>"
      ]
     },
     "execution_count": 15,
     "metadata": {},
     "output_type": "execute_result"
    },
    {
     "data": {
      "image/png": "[encoded data removed]",
      "text/plain": [
       "<matplotlib.figure.Figure at 0x110b048d0>"
      ]
     },
     "metadata": {},
     "output_type": "display_data"
    }
   ],
   "source": [
    "climb['floatHueco'].hist()"
   ]
  },
  {
   "cell_type": "code",
   "execution_count": 19,
   "metadata": {
    "collapsed": false
   },
   "outputs": [
    {
     "data": {
      "text/plain": [
       "<matplotlib.axes._subplots.AxesSubplot at 0x111341350>"
      ]
     },
     "execution_count": 19,
     "metadata": {},
     "output_type": "execute_result"
    },
    {
     "data": {
      "image/png": "[encoded data removed]",
      "text/plain": [
       "<matplotlib.figure.Figure at 0x11148b910>"
      ]
     },
     "metadata": {},
     "output_type": "display_data"
    }
   ],
   "source": [
    "climb['floatZA'] = climb['rateZA'].astype(float)\n",
    "climb['floatZA'].hist()"
   ]
  },
  {
   "cell_type": "code",
   "execution_count": null,
   "metadata": {
    "collapsed": true
   },
   "outputs": [],
   "source": [
    "\n",
    "\n"
   ]
  }
 ],
 "metadata": {
  "kernelspec": {
   "display_name": "Python 2",
   "language": "python",
   "name": "python2"
  },
  "language_info": {
   "codemirror_mode": {
    "name": "ipython",
    "version": 2
   },
   "file_extension": ".py",
   "mimetype": "text/x-python",
   "name": "python",
   "nbconvert_exporter": "python",
   "pygments_lexer": "ipython2",
   "version": "2.7.10"
  }
 },
 "nbformat": 4,
 "nbformat_minor": 0
}
