{
 "cells": [
  {
   "cell_type": "code",
   "execution_count": 2,
   "metadata": {
    "collapsed": false
   },
   "outputs": [],
   "source": [
    "import itertools\n",
    "import pandas as pd\n",
    "from statsmodels.distributions.empirical_distribution import ECDF\n",
    "from sklearn.metrics.pairwise import cosine_similarity\n",
    "from sklearn.feature_extraction.text import TfidfVectorizer\n",
    "from sklearn.decomposition import TruncatedSVD"
   ]
  },
  {
   "cell_type": "code",
   "execution_count": 3,
   "metadata": {
    "collapsed": false
   },
   "outputs": [],
   "source": [
    "climb = pd.read_csv('_climb_test', index_col=0)"
   ]
  },
  {
   "cell_type": "code",
   "execution_count": 4,
   "metadata": {
    "collapsed": true
   },
   "outputs": [],
   "source": [
    "def scale01(feature):\n",
    "    # always use on an entire column\n",
    "    ecdf = ECDF(feature.dropna())\n",
    "\n",
    "    # fit these observations\n",
    "    qtile = ecdf(feature)\n",
    "    scaled_feature = pd.Series(qtile, index=feature.index)\n",
    "    \n",
    "    # ECDF says NaN is 1.0\n",
    "    scaled_feature[pd.isnull(feature)] = float('NaN')\n",
    "    \n",
    "    return scaled_feature"
   ]
  },
  {
   "cell_type": "code",
   "execution_count": 5,
   "metadata": {
    "collapsed": true
   },
   "outputs": [],
   "source": [
    "def create_scorer(col, feature):\n",
    "    \n",
    "    if col in ['aid','alpine','boulder','sport','trad','ice']:\n",
    "\n",
    "        # turn boolean into value of 1\n",
    "        casted = pd.notnull(feature)\n",
    "        scaled = casted.astype(int)\n",
    "        \n",
    "        def scorer(grade, ideal):\n",
    "            return ideal * grade\n",
    "        \n",
    "        return casted, scaled, scorer\n",
    "    \n",
    "    elif col in ['feet', 'pitches', 'gradeComb']:\n",
    "        \n",
    "        casted = feature.astype(float)\n",
    "        scaled = scale01(casted)\n",
    "        \n",
    "        def scorer(grade, ideal):\n",
    "            return 1 - abs(ideal - grade)\n",
    "        \n",
    "        return casted, scaled, scorer\n",
    "    \n",
    "    elif col in ['staraverage', 'starvotes']:\n",
    "        \n",
    "        casted = feature.astype(float)\n",
    "        scaled = scale01(casted)\n",
    "        \n",
    "        def scorer(grade, ideal):\n",
    "            return grade\n",
    "        \n",
    "        return casted, scaled, scorer\n",
    "    \n",
    "    elif col in ['description']:\n",
    "        \n",
    "        # isolate description we care about\n",
    "        combined = climb['description'].astype(str) + climb['other_text'].astype(str)\n",
    "        descriptive = combined.tolist()\n",
    "\n",
    "        # lemmatize, tokenize, vectorize text\n",
    "        tfidf = TfidfVectorizer(\n",
    "            decode_error='ignore', stop_words='english',\n",
    "            # max_df = 0.5,\n",
    "            sublinear_tf=True, ngram_range=(1, 2))\n",
    "        TFIDF = tfidf.fit_transform(descriptive)\n",
    "\n",
    "        # reduce dimensionality\n",
    "        svd = TruncatedSVD(\n",
    "            n_components=100, random_state=42)\n",
    "        shrunk = svd.fit_transform(TFIDF)\n",
    "        shrunk = pd.DataFrame(shrunk, index=feature.index)\n",
    "\n",
    "        def scorer(shrunk, ideal):\n",
    "            sim = cosine_similarity(ideal, shrunk)\n",
    "            sim_score = pd.Series(sim[0], index=climb.index)\n",
    "            return sim_score.tolist()\n",
    "        \n",
    "        return combined, shrunk, scorer\n",
    "    \n",
    "    else:\n",
    "        return None, None, None"
   ]
  },
  {
   "cell_type": "code",
   "execution_count": 6,
   "metadata": {
    "collapsed": false
   },
   "outputs": [],
   "source": [
    "def create_recommendation_system(climb):\n",
    "\n",
    "    FIT = {}\n",
    "    for col, feature in climb.iteritems():\n",
    "        casted, scaled, scorer = create_scorer(col, feature)\n",
    "        if casted is not None:\n",
    "            scoring_package = { col: [casted, scaled, scorer] }\n",
    "            FIT.update(scoring_package)\n",
    "            \n",
    "    return FIT"
   ]
  },
  {
   "cell_type": "code",
   "execution_count": 7,
   "metadata": {
    "collapsed": false
   },
   "outputs": [],
   "source": [
    "FIT = create_recommendation_system(climb)"
   ]
  },
  {
   "cell_type": "code",
   "execution_count": null,
   "metadata": {
    "collapsed": true
   },
   "outputs": [],
   "source": []
  },
  {
   "cell_type": "code",
   "execution_count": 8,
   "metadata": {
    "collapsed": true
   },
   "outputs": [],
   "source": [
    "href = '/v/empire-of-the-fenceless/105756790'"
   ]
  },
  {
   "cell_type": "code",
   "execution_count": 9,
   "metadata": {
    "collapsed": false
   },
   "outputs": [],
   "source": [
    "def give_recommendation(FIT, href, top=100):\n",
    "    \"\"\"Given fit of the various columns as a dict, score this href \"\"\"\n",
    "    score_collect = {}\n",
    "    for col, fit in FIT.items():\n",
    "        casted, scaled, scorer = fit\n",
    "        ideal = scaled.loc[href]\n",
    "        if len(scaled.shape) == 1:\n",
    "            score = map(scorer, scaled, itertools.repeat(ideal, len(scaled)))\n",
    "        else:\n",
    "            score = scorer(scaled, ideal)\n",
    "            \n",
    "        score_collect.update({ col: score })\n",
    "\n",
    "    charlie = pd.DataFrame(score_collect, index=climb.index)\n",
    "    \n",
    "    # multiply weights\n",
    "    charlie['description'] = charlie['description'] * 35\n",
    "    charlie['gradeComb'] = charlie['gradeComb'] * 12\n",
    "    charlie['feet'] = charlie['feet'] * 10\n",
    "    charlie['pitches'] = charlie['pitches'] * 3\n",
    "    charlie['staraverage'] = charlie['staraverage'] * 15\n",
    "    charlie['starvotes'] = charlie['starvotes'] * 5\n",
    "    charlie['boulder'] = charlie['boulder'] * 2\n",
    "    charlie['sport'] = charlie['sport'] * 2\n",
    "    charlie['trad'] = charlie['trad'] * 2\n",
    "    charlie['ice'] = charlie['ice'] * 4\n",
    "    \n",
    "    charlie['best'] = charlie.sum(axis=1)\n",
    "    charlie.sort_values('best', ascending=False, inplace=True)\n",
    "\n",
    "    return charlie[:top]"
   ]
  },
  {
   "cell_type": "code",
   "execution_count": 44,
   "metadata": {
    "collapsed": false
   },
   "outputs": [
    {
     "name": "stderr",
     "output_type": "stream",
     "text": [
      "/Users/adam/RouteRobot/venv/lib/python2.7/site-packages/sklearn/utils/validation.py:386: DeprecationWarning: Passing 1d arrays as data is deprecated in 0.17 and willraise ValueError in 0.19. Reshape your data either using X.reshape(-1, 1) if your data has a single feature or X.reshape(1, -1) if it contains a single sample.\n",
      "  DeprecationWarning)\n"
     ]
    }
   ],
   "source": [
    "top_recco = give_recommendation(FIT, href)"
   ]
  },
  {
   "cell_type": "code",
   "execution_count": 55,
   "metadata": {
    "collapsed": false
   },
   "outputs": [
    {
     "name": "stderr",
     "output_type": "stream",
     "text": [
      "/Users/adam/RouteRobot/venv/lib/python2.7/site-packages/sklearn/utils/validation.py:386: DeprecationWarning: Passing 1d arrays as data is deprecated in 0.17 and willraise ValueError in 0.19. Reshape your data either using X.reshape(-1, 1) if your data has a single feature or X.reshape(1, -1) if it contains a single sample.\n",
      "  DeprecationWarning)\n"
     ]
    }
   ],
   "source": [
    "top_recco = give_recommendation(FIT, href)\n",
    "top_recco['suggestion_for'] = href\n",
    "with open('top_recco.csv', 'wb') as f:\n",
    "    top_recco.to_csv(f, header=False, index_col=True)"
   ]
  },
  {
   "cell_type": "code",
   "execution_count": 16,
   "metadata": {
    "collapsed": false
   },
   "outputs": [],
   "source": [
    "import re\n",
    "def find_id(href):\n",
    "    return re.search(r'(\\d+)$',href).group(1)\n",
    "climb['href_id'] = map(find_id, climb['href'])"
   ]
  },
  {
   "cell_type": "code",
   "execution_count": 17,
   "metadata": {
    "collapsed": true
   },
   "outputs": [],
   "source": [
    "climb['url'] = 'http://www.mountainproject.com' + climb['href']"
   ]
  },
  {
   "cell_type": "code",
   "execution_count": 21,
   "metadata": {
    "collapsed": false
   },
   "outputs": [
    {
     "name": "stdout",
     "output_type": "stream",
     "text": [
      "[('105756790', 'Empire of the Fenceless', 'http://www.mountainproject.com/v/empire-of-the-fenceless/105756790', '5.12a', None, 35.0, 12.0, 13.872151031986698, 70.84834849522319), ('106207686', 'The Shaft', 'http://www.mountainproject.com/v/the-shaft/106207686', '5.12b', 90.0, 19.073171038164073, 11.623219856232197, 14.270272914017413, 54.863302107673526), ('105752446', 'Subterfuge', 'http://www.mountainproject.com/v/subterfuge/105752446', '5.11d', 40.0, 19.423500540256736, 12.0, 15.0, 54.82318752059519), ('105749779', 'Global Gorilla', 'http://www.mountainproject.com/v/global-gorilla/105749779', '5.12c', 170.0, 17.425296643334462, 11.239115692391156, 13.562065929766215, 52.083173951689616), ('106412546', 'Bridge of Air', 'http://www.mountainproject.com/v/bridge-of-air/106412546', '5.12-', 135.0, 16.842484525597815, 12.0, 14.270272914017413, 51.512444419953674)]\n"
     ]
    }
   ],
   "source": [
    "scores = top_recco[['description','gradeComb','staraverage','best']]\n",
    "\n",
    "info = climb[['href_id','name','url','rateYDS','feet']]\n",
    "jnd = pd.concat([info, scores], axis=1, join='inner')\n",
    "jnd = jnd.where((pd.notnull(jnd)), None)\n",
    "tuples = [tuple(x) for x in jnd.values[:5]]\n",
    "print tuples"
   ]
  },
  {
   "cell_type": "code",
   "execution_count": 19,
   "metadata": {
    "collapsed": false
   },
   "outputs": [
    {
     "data": {
      "text/plain": [
       "Index([u'href_id', u'name', u'url', u'rateYDS', u'feet', u'description',\n",
       "       u'gradeComb', u'staraverage', u'best'],\n",
       "      dtype='object')"
      ]
     },
     "execution_count": 19,
     "metadata": {},
     "output_type": "execute_result"
    }
   ],
   "source": [
    "jnd.columns"
   ]
  },
  {
   "cell_type": "code",
   "execution_count": null,
   "metadata": {
    "collapsed": true
   },
   "outputs": [],
   "source": []
  }
 ],
 "metadata": {
  "kernelspec": {
   "display_name": "Python 2",
   "language": "python",
   "name": "python2"
  },
  "language_info": {
   "codemirror_mode": {
    "name": "ipython",
    "version": 2
   },
   "file_extension": ".py",
   "mimetype": "text/x-python",
   "name": "python",
   "nbconvert_exporter": "python",
   "pygments_lexer": "ipython2",
   "version": "2.7.10"
  }
 },
 "nbformat": 4,
 "nbformat_minor": 0
}
