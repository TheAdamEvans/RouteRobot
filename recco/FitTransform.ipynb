{
 "cells": [
  {
   "cell_type": "code",
   "execution_count": 42,
   "metadata": {
    "collapsed": true
   },
   "outputs": [],
   "source": [
    "import itertools\n",
    "import pandas as pd\n",
    "from statsmodels.distributions.empirical_distribution import ECDF\n",
    "from sklearn.metrics.pairwise import cosine_similarity\n",
    "from sklearn.feature_extraction.text import TfidfVectorizer\n",
    "from sklearn.decomposition import TruncatedSVD"
   ]
  },
  {
   "cell_type": "code",
   "execution_count": 43,
   "metadata": {
    "collapsed": false
   },
   "outputs": [],
   "source": [
    "climb = pd.read_csv('_climb_test', index_col=0)"
   ]
  },
  {
   "cell_type": "code",
   "execution_count": 44,
   "metadata": {
    "collapsed": true
   },
   "outputs": [],
   "source": [
    "climb['all_description'] = climb['description'].astype(str) + climb['other_text'].astype(str)"
   ]
  },
  {
   "cell_type": "code",
   "execution_count": 45,
   "metadata": {
    "collapsed": true
   },
   "outputs": [],
   "source": [
    "def scale01(feature):\n",
    "    # always use on an entire column\n",
    "    ecdf = ECDF(feature.dropna())\n",
    "\n",
    "    # fit these observations\n",
    "    qtile = ecdf(feature)\n",
    "    scaled_feature = pd.Series(qtile, index=feature.index)\n",
    "    \n",
    "    # ECDF says NaN is 1.0\n",
    "    scaled_feature[pd.isnull(feature)] = float('NaN')\n",
    "    \n",
    "    return scaled_feature"
   ]
  },
  {
   "cell_type": "code",
   "execution_count": 46,
   "metadata": {
    "collapsed": true
   },
   "outputs": [],
   "source": [
    "def create_scorer(col, feature):\n",
    "    \n",
    "    if col in ['aid','alpine','boulder','sport','trad','ice']:\n",
    "\n",
    "        # turn boolean into value of 1\n",
    "        casted = pd.notnull(feature)\n",
    "        scaled = casted.astype(int)\n",
    "        \n",
    "        def scorer(grade, ideal):\n",
    "            return ideal * grade\n",
    "        \n",
    "        return casted, scaled, scorer\n",
    "    \n",
    "    elif col in ['feet', 'pitches', 'gradeComb']:\n",
    "        \n",
    "        casted = feature.astype(float)\n",
    "        scaled = scale01(casted)\n",
    "        \n",
    "        def scorer(grade, ideal):\n",
    "            return 1 - abs(ideal - grade)\n",
    "        \n",
    "        return casted, scaled, scorer\n",
    "    \n",
    "    elif col in ['staraverage', 'starvotes']:\n",
    "        \n",
    "        casted = feature.astype(float)\n",
    "        scaled = scale01(casted)\n",
    "        \n",
    "        def scorer(grade, ideal):\n",
    "            return grade\n",
    "        \n",
    "        return casted, scaled, scorer\n",
    "    \n",
    "    elif col in ['description']:\n",
    "        \n",
    "        # isolate description we care about\n",
    "        combined = climb['description'].astype(str) + climb['other_text'].astype(str)\n",
    "        descriptive = combined.tolist()\n",
    "\n",
    "        # lemmatize, tokenize, vectorize text\n",
    "        tfidf = TfidfVectorizer(\n",
    "            decode_error='ignore', stop_words='english',\n",
    "            # max_df = 0.5,\n",
    "            sublinear_tf=True, ngram_range=(1, 2))\n",
    "        TFIDF = tfidf.fit_transform(descriptive)\n",
    "\n",
    "        # reduce dimensionality\n",
    "        svd = TruncatedSVD(\n",
    "            n_components=100, random_state=42)\n",
    "        shrunk = svd.fit_transform(TFIDF)\n",
    "        shrunk = pd.DataFrame(shrunk, index=feature.index)\n",
    "\n",
    "        def scorer(shrunk, ideal):\n",
    "            sim = cosine_similarity(ideal, shrunk)\n",
    "            sim_score = pd.Series(sim[0], index=climb.index)\n",
    "            return sim_score.tolist()\n",
    "        \n",
    "        return combined, shrunk, scorer\n",
    "    \n",
    "    else:\n",
    "        return None, None, None"
   ]
  },
  {
   "cell_type": "code",
   "execution_count": 47,
   "metadata": {
    "collapsed": false
   },
   "outputs": [],
   "source": [
    "def create_recommendation_system(climb):\n",
    "\n",
    "    FIT = {}\n",
    "    for col, feature in climb.iteritems():\n",
    "        casted, scaled, scorer = create_scorer(col, feature)\n",
    "        if casted is not None:\n",
    "            scoring_package = { col: [casted, scaled, scorer] }\n",
    "            FIT.update(scoring_package)\n",
    "            \n",
    "    return FIT"
   ]
  },
  {
   "cell_type": "code",
   "execution_count": 48,
   "metadata": {
    "collapsed": true
   },
   "outputs": [],
   "source": [
    "FIT = create_recommendation_system(climb)"
   ]
  },
  {
   "cell_type": "code",
   "execution_count": null,
   "metadata": {
    "collapsed": true
   },
   "outputs": [],
   "source": []
  },
  {
   "cell_type": "code",
   "execution_count": null,
   "metadata": {
    "collapsed": true
   },
   "outputs": [],
   "source": []
  },
  {
   "cell_type": "code",
   "execution_count": null,
   "metadata": {
    "collapsed": true
   },
   "outputs": [],
   "source": []
  },
  {
   "cell_type": "code",
   "execution_count": null,
   "metadata": {
    "collapsed": true
   },
   "outputs": [],
   "source": []
  },
  {
   "cell_type": "code",
   "execution_count": 52,
   "metadata": {
    "collapsed": true
   },
   "outputs": [],
   "source": [
    "href = '/v/empire-of-the-fenceless/105756790'"
   ]
  },
  {
   "cell_type": "code",
   "execution_count": 53,
   "metadata": {
    "collapsed": false
   },
   "outputs": [],
   "source": [
    "def give_recommendation(FIT, href):\n",
    "    \"\"\"Given FIT of the various columns as a dict, score this href \"\"\"\n",
    "    score_collect = {}\n",
    "    for col, fit in FIT.items():\n",
    "        print col\n",
    "        casted, scaled, scorer = fit\n",
    "        ideal = scaled.loc[href]\n",
    "        if len(scaled.shape) == 1:\n",
    "            score = map(scorer, scaled, itertools.repeat(ideal, len(scaled)))\n",
    "        else:\n",
    "            score = scorer(scaled, ideal)\n",
    "            \n",
    "        score_collect.update({ col: score })\n",
    "\n",
    "    charlie = pd.DataFrame(score_collect, index=climb.index)\n",
    "    \n",
    "    # multiply weights\n",
    "    charlie['description'] = charlie['description'] * 40\n",
    "    charlie['gradeComb'] = charlie['gradeComb'] * 12\n",
    "    charlie['feet'] = charlie['feet'] * 5\n",
    "    charlie['pitches'] = charlie['pitches'] * 3\n",
    "    charlie['staraverage'] = charlie['staraverage'] * 15\n",
    "    charlie['starvotes'] = charlie['starvotes'] * 5\n",
    "    charlie['boulder'] = charlie['boulder'] * 2\n",
    "    charlie['sport'] = charlie['sport'] * 2\n",
    "    charlie['trad'] = charlie['trad'] * 2\n",
    "    charlie['ice'] = charlie['ice'] * 4\n",
    "    \n",
    "    \n",
    "    charlie['best'] = charlie.sum(axis=1)\n",
    "    charlie.sort_values('best', ascending=False, inplace=True)\n",
    "\n",
    "    print charlie[:10]\n",
    "    return charlie.index"
   ]
  },
  {
   "cell_type": "code",
   "execution_count": 54,
   "metadata": {
    "collapsed": false
   },
   "outputs": [
    {
     "name": "stdout",
     "output_type": "stream",
     "text": [
      "boulder\n",
      "trad\n",
      "description\n",
      "staraverage\n",
      "gradeComb\n",
      "pitches\n",
      "starvotes\n",
      "feet\n",
      "ice\n",
      "aid\n",
      "sport\n",
      "alpine\n"
     ]
    },
    {
     "name": "stderr",
     "output_type": "stream",
     "text": [
      "/Users/adam/RouteRobot/venv/lib/python2.7/site-packages/sklearn/utils/validation.py:386: DeprecationWarning: Passing 1d arrays as data is deprecated in 0.17 and willraise ValueError in 0.19. Reshape your data either using X.reshape(-1, 1) if your data has a single feature or X.reshape(1, -1) if it contains a single sample.\n",
      "  DeprecationWarning)\n"
     ]
    },
    {
     "name": "stdout",
     "output_type": "stream",
     "text": [
      "                                      aid  alpine  boulder  description  feet  \\\n",
      "/v/empire-of-the-fenceless/105756790    0       0        0    40.000000   NaN   \n",
      "/v/subterfuge/105752446                 0       0        0    22.198286   NaN   \n",
      "/v/the-shaft/106207686                  0       0        0    21.797910   NaN   \n",
      "/v/global-gorilla/105749779             0       0        0    19.914625   NaN   \n",
      "/v/bridge-of-air/106412546              0       0        0    19.248554   NaN   \n",
      "/v/castles-made-of-sand/105753130       0       0        0    19.167029   NaN   \n",
      "/v/temptation-arete/105758074           0       0        0    18.176077   NaN   \n",
      "/v/lost-planet-airman/105750052         0       0        0    18.021196   NaN   \n",
      "/v/wet-dream/105748415                  0       0        0    16.275296   NaN   \n",
      "/v/jewel-of-the-wild/105753214          0       0        0    17.274108   NaN   \n",
      "\n",
      "                                      gradeComb  ice  pitches  sport  \\\n",
      "/v/empire-of-the-fenceless/105756790  12.000000    0      3.0      2   \n",
      "/v/subterfuge/105752446               12.000000    0      3.0      2   \n",
      "/v/the-shaft/106207686                11.623220    0      3.0      2   \n",
      "/v/global-gorilla/105749779           11.239116    0      3.0      2   \n",
      "/v/bridge-of-air/106412546            12.000000    0      3.0      2   \n",
      "/v/castles-made-of-sand/105753130     12.000000    0      3.0      2   \n",
      "/v/temptation-arete/105758074         12.000000    0      3.0      2   \n",
      "/v/lost-planet-airman/105750052       10.915638    0      3.0      2   \n",
      "/v/wet-dream/105748415                12.000000    0      3.0      2   \n",
      "/v/jewel-of-the-wild/105753214        12.000000    0      3.0      2   \n",
      "\n",
      "                                      staraverage  starvotes  trad       best  \n",
      "/v/empire-of-the-fenceless/105756790    13.872151   4.976197     0  75.848348  \n",
      "/v/subterfuge/105752446                 15.000000   3.399687     0  57.597973  \n",
      "/v/the-shaft/106207686                  14.270273   4.896638     0  57.588041  \n",
      "/v/global-gorilla/105749779             13.562066   4.856696     0  54.572502  \n",
      "/v/bridge-of-air/106412546              14.270273   3.399687     0  53.918514  \n",
      "/v/castles-made-of-sand/105753130       14.270273   3.234863     0  53.672164  \n",
      "/v/temptation-arete/105758074           14.141152   3.923180     0  53.240409  \n",
      "/v/lost-planet-airman/105750052         13.872151   4.760670     0  52.569656  \n",
      "/v/wet-dream/105748415                  14.001272   4.959079     0  52.235647  \n",
      "/v/jewel-of-the-wild/105753214          13.214321   4.587694     0  52.076123  \n"
     ]
    },
    {
     "data": {
      "text/plain": [
       "Index([u'/v/empire-of-the-fenceless/105756790', u'/v/subterfuge/105752446',\n",
       "       u'/v/the-shaft/106207686', u'/v/global-gorilla/105749779',\n",
       "       u'/v/bridge-of-air/106412546', u'/v/castles-made-of-sand/105753130',\n",
       "       u'/v/temptation-arete/105758074', u'/v/lost-planet-airman/105750052',\n",
       "       u'/v/wet-dream/105748415', u'/v/jewel-of-the-wild/105753214',\n",
       "       ...\n",
       "       u'/v/gods-cave/106347664', u'/v/boulder-c/106353478',\n",
       "       u'/v/portwoods-cave/107697060', u'/v/el-diablo-wall/105837128',\n",
       "       u'/v/layback-cave/110764633', u'/v/hall-of-justice/107954778',\n",
       "       u'/v/crack-hole/107448813', u'/v/big-mouth-crack-area/107340986',\n",
       "       u'/v/utah-hills/109583182', u'/v/derailed-train/105804702'],\n",
       "      dtype='object', length=37001)"
      ]
     },
     "execution_count": 54,
     "metadata": {},
     "output_type": "execute_result"
    }
   ],
   "source": [
    "give_recommendation(FIT, href)"
   ]
  },
  {
   "cell_type": "code",
   "execution_count": null,
   "metadata": {
    "collapsed": true
   },
   "outputs": [],
   "source": []
  },
  {
   "cell_type": "code",
   "execution_count": null,
   "metadata": {
    "collapsed": true
   },
   "outputs": [],
   "source": []
  },
  {
   "cell_type": "code",
   "execution_count": null,
   "metadata": {
    "collapsed": true
   },
   "outputs": [],
   "source": []
  },
  {
   "cell_type": "code",
   "execution_count": null,
   "metadata": {
    "collapsed": true
   },
   "outputs": [],
   "source": []
  },
  {
   "cell_type": "code",
   "execution_count": null,
   "metadata": {
    "collapsed": true
   },
   "outputs": [],
   "source": []
  },
  {
   "cell_type": "code",
   "execution_count": null,
   "metadata": {
    "collapsed": true
   },
   "outputs": [],
   "source": []
  }
 ],
 "metadata": {
  "kernelspec": {
   "display_name": "Python 2",
   "language": "python",
   "name": "python2"
  },
  "language_info": {
   "codemirror_mode": {
    "name": "ipython",
    "version": 2
   },
   "file_extension": ".py",
   "mimetype": "text/x-python",
   "name": "python",
   "nbconvert_exporter": "python",
   "pygments_lexer": "ipython2",
   "version": "2.7.10"
  }
 },
 "nbformat": 4,
 "nbformat_minor": 0
}
