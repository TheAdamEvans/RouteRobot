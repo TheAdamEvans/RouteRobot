{
 "cells": [
  {
   "cell_type": "code",
   "execution_count": 97,
   "metadata": {
    "collapsed": true
   },
   "outputs": [],
   "source": [
    "import os\n",
    "import json\n",
    "import pickle\n",
    "\n",
    "from Scraper import Scraper"
   ]
  },
  {
   "cell_type": "code",
   "execution_count": 98,
   "metadata": {
    "collapsed": true
   },
   "outputs": [],
   "source": [
    "import pandas as pd"
   ]
  },
  {
   "cell_type": "code",
   "execution_count": 99,
   "metadata": {
    "collapsed": false
   },
   "outputs": [
    {
     "ename": "IOError",
     "evalue": "[Errno 2] No such file or directory: './data/alabama.pickle'",
     "output_type": "error",
     "traceback": [
      "\u001b[0;31m---------------------------------------------------------------------------\u001b[0m",
      "\u001b[0;31mIOError\u001b[0m                                   Traceback (most recent call last)",
      "\u001b[0;32m<ipython-input-99-dd30956bc1a7>\u001b[0m in \u001b[0;36m<module>\u001b[0;34m()\u001b[0m\n\u001b[1;32m      3\u001b[0m         \u001b[0;32mpass\u001b[0m\u001b[0;34m\u001b[0m\u001b[0m\n\u001b[1;32m      4\u001b[0m     \u001b[0;32melse\u001b[0m\u001b[0;34m:\u001b[0m\u001b[0;34m\u001b[0m\u001b[0m\n\u001b[0;32m----> 5\u001b[0;31m         \u001b[0mdest\u001b[0m \u001b[0;34m=\u001b[0m \u001b[0mpickle\u001b[0m\u001b[0;34m.\u001b[0m\u001b[0mload\u001b[0m\u001b[0;34m(\u001b[0m\u001b[0mopen\u001b[0m\u001b[0;34m(\u001b[0m\u001b[0;34m'./data/'\u001b[0m \u001b[0;34m+\u001b[0m \u001b[0marea\u001b[0m\u001b[0;34m,\u001b[0m \u001b[0;34m'rb'\u001b[0m\u001b[0;34m)\u001b[0m\u001b[0;34m)\u001b[0m\u001b[0;34m\u001b[0m\u001b[0m\n\u001b[0m\u001b[1;32m      6\u001b[0m         \u001b[0;32mprint\u001b[0m \u001b[0mdest\u001b[0m\u001b[0;34m.\u001b[0m\u001b[0mname\u001b[0m\u001b[0;34m\u001b[0m\u001b[0m\n",
      "\u001b[0;31mIOError\u001b[0m: [Errno 2] No such file or directory: './data/alabama.pickle'"
     ]
    }
   ],
   "source": [
    "data_dir = \n",
    "for area in os.listdir('state_data'):\n",
    "    if area[-5:] == '.json':\n",
    "        pass\n",
    "    else:\n",
    "        dest = pickle.load(open('./'+ data_dir +'/' + area, 'rb'))\n",
    "        print dest.name\n"
   ]
  },
  {
   "cell_type": "code",
   "execution_count": 93,
   "metadata": {
    "collapsed": false
   },
   "outputs": [],
   "source": [
    "import pandas as pd\n",
    "dest = pickle.load(open('./data/boxcarwoodyboulders.pickle', 'rb'))\n",
    "\n",
    "dont_grab = ['children','']\n",
    "\n",
    "def grab_children(dest, collect = []):\n",
    "    if hasattr(dest, 'children'):\n",
    "        for child in dest.children:\n",
    "            collect.append(child.__dict__)\n",
    "            grab_children(child, collect)\n",
    "    return collect\n",
    "collect = grab_children(dest)\n",
    "climb = pd.DataFrame.from_dict(collect)\n",
    "climb.set_index(climb.href.values, inplace = True, verify_integrity = True)"
   ]
  },
  {
   "cell_type": "code",
   "execution_count": 94,
   "metadata": {
    "collapsed": false
   },
   "outputs": [
    {
     "data": {
      "text/plain": [
       "(17, 18)"
      ]
     },
     "execution_count": 94,
     "metadata": {},
     "output_type": "execute_result"
    }
   ],
   "source": [
    "climb.shape"
   ]
  },
  {
   "cell_type": "code",
   "execution_count": 95,
   "metadata": {
    "collapsed": false
   },
   "outputs": [
    {
     "data": {
      "text/plain": [
       "area_hierarchy    [/destinations/, /v/california/105708959, /v/s...\n",
       "children          [<Destination.Destination object at 0x11108099...\n",
       "children_href     [/v/bald-is-beautiful/108546469, /v/boxcar-tra...\n",
       "description       The largest boulder furthest to the Right. Off...\n",
       "fa                                                              NaN\n",
       "getting_there                       Hop the fence and you're there.\n",
       "grade                                                           NaN\n",
       "href                                /v/-the-boxcar-woody-/108013766\n",
       "is_area                                                        True\n",
       "is_route                                                      False\n",
       "location                                       38.38903, -121.98471\n",
       "name                                The Boxcar Woody  Rock Climbing\n",
       "nickname                                             theboxcarwoody\n",
       "page_views                                                      553\n",
       "protect_rate                                                    NaN\n",
       "protection                                                      NaN\n",
       "star_rating                                                     NaN\n",
       "type                                                            NaN\n",
       "Name: /v/-the-boxcar-woody-/108013766, dtype: object"
      ]
     },
     "execution_count": 95,
     "metadata": {},
     "output_type": "execute_result"
    }
   ],
   "source": [
    "climb.ix['/v/-the-boxcar-woody-/108013766']"
   ]
  },
  {
   "cell_type": "code",
   "execution_count": 147,
   "metadata": {
    "collapsed": false
   },
   "outputs": [],
   "source": [
    "# climb # SO GOOD!"
   ]
  },
  {
   "cell_type": "code",
   "execution_count": 140,
   "metadata": {
    "collapsed": false
   },
   "outputs": [
    {
     "name": "stdout",
     "output_type": "stream",
     "text": [
      "This problem follows the left arete of the boulder on the road facing side.  First moves are the crux and it gets easier the higher you get.\n",
      "Pad\n"
     ]
    }
   ],
   "source": [
    "href = '/v/your-mama/108546461'\n",
    "\n",
    "def combine_text(jess):\n",
    "    \n",
    "    # ordered by what makes sense\n",
    "    text_field = ['getting_there','description','protection']\n",
    "    \n",
    "    # loop through text fields appending to a list\n",
    "    txt_collect = []\n",
    "    for txt in text_field:\n",
    "        if not pd.isnull(jess[txt]):\n",
    "            txt_collect.append(jess[txt])\n",
    "    \n",
    "    return \"\\n\".join(txt_collect)\n",
    "cmbtxt = combine_text(climb.loc[href])\n",
    "print cmbtxt"
   ]
  },
  {
   "cell_type": "code",
   "execution_count": 148,
   "metadata": {
    "collapsed": false
   },
   "outputs": [
    {
     "name": "stdout",
     "output_type": "stream",
     "text": [
      "Hop the fence and you're there.\n",
      "The largest boulder furthest to the Right. Offering high quality traverses with thin sequential pumpfests on it's steeper side and long slow burns on either of it's longer less vertical sides. There's something for just about everyone of every ability on this boulder and is a great place to get in shape for longer sport routes.\n",
      "\n",
      "\n",
      "See directions to the Boxcar Woody area.\n",
      "The boxcar woody boulders consist of 4 parallel boulders.  When facing the boulders from the road this is the 2nd boulder from the left and is one of the smaller of the boulders.\n",
      "\n",
      "\n",
      "See Boxcar Woody discription.\n",
      "The Boxcar Woody boulders consist of four parallel boulders all facing the road.  When looking at the boulders from the road this is the third from the left.\n",
      "\n",
      "\n",
      "It's the boulder on the Left (south). It takes about 25 seconds to get there from the road.\n",
      "While standing on the road, the Spotlight boulder is the one located furthest to the LEFT.   This boulder seemingly offers little beyond a few different variations to it's traverses and a couple short problems for the desperate. However, what few routes it does have are of fairly decent quality. And a bonus is that it's located near a street light which illuminates it's longest side for some interesting late evening bouldering sessions.\n",
      "\n",
      "\n"
     ]
    }
   ],
   "source": [
    "for i, jess in climb.iterrows():\n",
    "    if jess.is_area:\n",
    "        print combine_text(jess)\n",
    "        print '\\n'"
   ]
  },
  {
   "cell_type": "code",
   "execution_count": null,
   "metadata": {
    "collapsed": true
   },
   "outputs": [],
   "source": [
    "from sklearn.feature_extraction.text import CountVectorizer\n",
    "\n"
   ]
  },
  {
   "cell_type": "code",
   "execution_count": 151,
   "metadata": {
    "collapsed": false
   },
   "outputs": [
    {
     "ename": "TypeError",
     "evalue": "dirname() takes exactly 1 argument (0 given)",
     "output_type": "error",
     "traceback": [
      "\u001b[0;31m---------------------------------------------------------------------------\u001b[0m",
      "\u001b[0;31mTypeError\u001b[0m                                 Traceback (most recent call last)",
      "\u001b[0;32m<ipython-input-151-328ed910dd6f>\u001b[0m in \u001b[0;36m<module>\u001b[0;34m()\u001b[0m\n\u001b[0;32m----> 1\u001b[0;31m \u001b[0mos\u001b[0m\u001b[0;34m.\u001b[0m\u001b[0mpath\u001b[0m\u001b[0;34m.\u001b[0m\u001b[0mdirname\u001b[0m\u001b[0;34m(\u001b[0m\u001b[0;34m)\u001b[0m\u001b[0;34m\u001b[0m\u001b[0m\n\u001b[0m",
      "\u001b[0;31mTypeError\u001b[0m: dirname() takes exactly 1 argument (0 given)"
     ]
    }
   ],
   "source": [
    "os.path.dirname()"
   ]
  },
  {
   "cell_type": "code",
   "execution_count": null,
   "metadata": {
    "collapsed": true
   },
   "outputs": [],
   "source": []
  },
  {
   "cell_type": "code",
   "execution_count": null,
   "metadata": {
    "collapsed": true
   },
   "outputs": [],
   "source": []
  },
  {
   "cell_type": "code",
   "execution_count": null,
   "metadata": {
    "collapsed": true
   },
   "outputs": [],
   "source": []
  }
 ],
 "metadata": {
  "kernelspec": {
   "display_name": "Python 2",
   "language": "python",
   "name": "python2"
  },
  "language_info": {
   "codemirror_mode": {
    "name": "ipython",
    "version": 2
   },
   "file_extension": ".py",
   "mimetype": "text/x-python",
   "name": "python",
   "nbconvert_exporter": "python",
   "pygments_lexer": "ipython2",
   "version": "2.7.10"
  }
 },
 "nbformat": 4,
 "nbformat_minor": 0
}
