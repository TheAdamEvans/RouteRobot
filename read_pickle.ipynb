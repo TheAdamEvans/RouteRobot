{
 "cells": [
  {
   "cell_type": "code",
   "execution_count": 49,
   "metadata": {
    "collapsed": true
   },
   "outputs": [],
   "source": [
    "import json\n",
    "import pickle\n",
    "import pandas as pd"
   ]
  },
  {
   "cell_type": "code",
   "execution_count": 50,
   "metadata": {
    "collapsed": true
   },
   "outputs": [],
   "source": [
    "data_dir = './test_data/'"
   ]
  },
  {
   "cell_type": "code",
   "execution_count": 51,
   "metadata": {
    "collapsed": true
   },
   "outputs": [],
   "source": [
    "def grab_children(dest, collect):\n",
    "    if hasattr(dest, 'children'):\n",
    "        for child in dest.children:\n",
    "            collect.append(child.__dict__)\n",
    "            grab_children(child, collect)\n",
    "    return collect"
   ]
  },
  {
   "cell_type": "code",
   "execution_count": 52,
   "metadata": {
    "collapsed": false
   },
   "outputs": [],
   "source": [
    "def climb_from_dest(dest):\n",
    "    kidnapped = grab_children(dest, collect = []) # kidnapping jokes are not okay\n",
    "    climb = pd.DataFrame.from_dict(kidnapped) # neither are dict jokes\n",
    "    if max(climb.shape) > 0:\n",
    "        climb.set_index(climb.href.values, inplace = True, verify_integrity = False)\n",
    "        return climb"
   ]
  },
  {
   "cell_type": "code",
   "execution_count": 53,
   "metadata": {
    "collapsed": false
   },
   "outputs": [],
   "source": [
    "def combine_pickle(data_dir):\n",
    "    import os\n",
    "    \n",
    "    collect_climb = []\n",
    "    for area in os.listdir(data_dir):\n",
    "        pkl = '.pickle'\n",
    "        if area[-len(pkl):] != pkl:\n",
    "            pass\n",
    "        else:\n",
    "            dest = pickle.load(open(data_dir + area, 'rb'))        \n",
    "            partial = climb_from_dest(dest)\n",
    "            collect_climb.append(partial)\n",
    "            print len(collect_climb), area[:-len(pkl)]\n",
    "    \n",
    "    climb = pd.concat(collect_climb)\n",
    "    return climb"
   ]
  },
  {
   "cell_type": "code",
   "execution_count": 54,
   "metadata": {
    "collapsed": false
   },
   "outputs": [
    {
     "name": "stdout",
     "output_type": "stream",
     "text": [
      "1 boxcarwoodyboulders\n",
      "2 hillcrestboulders\n",
      "3 woodcrestboulders\n"
     ]
    }
   ],
   "source": [
    "climb = combine_pickle(data_dir)"
   ]
  },
  {
   "cell_type": "code",
   "execution_count": 55,
   "metadata": {
    "collapsed": false
   },
   "outputs": [
    {
     "data": {
      "text/plain": [
       "(103, 22)"
      ]
     },
     "execution_count": 55,
     "metadata": {},
     "output_type": "execute_result"
    }
   ],
   "source": [
    "climb.shape"
   ]
  },
  {
   "cell_type": "code",
   "execution_count": 63,
   "metadata": {
    "collapsed": false
   },
   "outputs": [
    {
     "data": {
      "text/plain": [
       "Index([u'area_hierarchy', u'boulder', u'children', u'children_href',\n",
       "       u'commitment', u'description', u'fa', u'feet', u'getting_there',\n",
       "       u'grade', u'href', u'is_area', u'is_route', u'location', u'name',\n",
       "       u'nickname', u'page_views', u'pitches', u'protect_rate', u'protection',\n",
       "       u'star_rating', u'type'],\n",
       "      dtype='object')"
      ]
     },
     "execution_count": 63,
     "metadata": {},
     "output_type": "execute_result"
    }
   ],
   "source": [
    "climb.columns"
   ]
  },
  {
   "cell_type": "code",
   "execution_count": 64,
   "metadata": {
    "collapsed": false
   },
   "outputs": [
    {
     "data": {
      "text/plain": [
       "1.0"
      ]
     },
     "execution_count": 64,
     "metadata": {},
     "output_type": "execute_result"
    }
   ],
   "source": [
    "len(climb['href'].unique()) / float(len(climb['href']))\n",
    "# YAY the hrefs are unique!!"
   ]
  },
  {
   "cell_type": "code",
   "execution_count": 65,
   "metadata": {
    "collapsed": false
   },
   "outputs": [],
   "source": [
    "def combine_text(jess):\n",
    "    \n",
    "    # ordered by what makes sense\n",
    "    text_field = ['getting_there', 'description', 'protection']\n",
    "    \n",
    "    # loop through text fields appending to a list\n",
    "    # TODO do this with a map\n",
    "    txt_collect = []\n",
    "    for txt in text_field:\n",
    "        if not pd.isnull(jess[txt]):\n",
    "            txt_collect.append(jess[txt])\n",
    "    \n",
    "    return \"\\n\".join(txt_collect)"
   ]
  },
  {
   "cell_type": "code",
   "execution_count": 66,
   "metadata": {
    "collapsed": false
   },
   "outputs": [],
   "source": [
    "def get_total_climb_description(climb):\n",
    "    collect = []\n",
    "    for href, cmb in climb.iterrows():\n",
    "        cmbtxt = combine_text(cmb)\n",
    "        collect.append(cmbtxt)\n",
    "\n",
    "    print \"Combined text from %d rows\" % len(collect)\n",
    "    return collect"
   ]
  },
  {
   "cell_type": "code",
   "execution_count": 67,
   "metadata": {
    "collapsed": true
   },
   "outputs": [],
   "source": [
    "import sys\n",
    "import numpy as np"
   ]
  },
  {
   "cell_type": "code",
   "execution_count": 68,
   "metadata": {
    "collapsed": false
   },
   "outputs": [],
   "source": [
    "pct_area = np.mean(climb['is_area'])\n",
    "pct_route = np.mean(climb['is_route'])\n",
    "if pct_area + pct_route < (1 - sys.float_info.epsilon):\n",
    "    # TODO identify records with (route nor area) logical\n",
    "    print \"One or more records WAS NEITHER ROUTE NOR AREA\""
   ]
  },
  {
   "cell_type": "code",
   "execution_count": 69,
   "metadata": {
    "collapsed": false
   },
   "outputs": [
    {
     "name": "stdout",
     "output_type": "stream",
     "text": [
      "Combined text from 103 rows\n"
     ]
    }
   ],
   "source": [
    "descriptive = get_total_climb_description(climb)\n",
    "# print \"The len of descriptive is %d\" % len(descriptive['cmb_txt'])\n",
    "# descriptive['cmb_txt'][-3:] # look at a few"
   ]
  },
  {
   "cell_type": "code",
   "execution_count": 70,
   "metadata": {
    "collapsed": false
   },
   "outputs": [],
   "source": [
    "from sklearn.feature_extraction.text import CountVectorizer\n",
    "\n",
    "\n",
    "CV12 = CountVectorizer(decode_error='ignore', stop_words='english', ngram_range=(1, 2))\n",
    "# also consider max_df=0.5, min_df=1\n",
    "word_count = CV12.fit_transform(descriptive)"
   ]
  },
  {
   "cell_type": "code",
   "execution_count": 71,
   "metadata": {
    "collapsed": false
   },
   "outputs": [
    {
     "data": {
      "text/plain": [
       "(103, 3683)"
      ]
     },
     "execution_count": 71,
     "metadata": {},
     "output_type": "execute_result"
    }
   ],
   "source": [
    "word_count.shape"
   ]
  },
  {
   "cell_type": "code",
   "execution_count": null,
   "metadata": {
    "collapsed": true
   },
   "outputs": [],
   "source": []
  },
  {
   "cell_type": "code",
   "execution_count": null,
   "metadata": {
    "collapsed": true
   },
   "outputs": [],
   "source": []
  }
 ],
 "metadata": {
  "kernelspec": {
   "display_name": "Python 2",
   "language": "python",
   "name": "python2"
  },
  "language_info": {
   "codemirror_mode": {
    "name": "ipython",
    "version": 2
   },
   "file_extension": ".py",
   "mimetype": "text/x-python",
   "name": "python",
   "nbconvert_exporter": "python",
   "pygments_lexer": "ipython2",
   "version": "2.7.10"
  }
 },
 "nbformat": 4,
 "nbformat_minor": 0
}
